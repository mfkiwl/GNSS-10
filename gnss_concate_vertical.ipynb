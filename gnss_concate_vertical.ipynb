{
 "cells": [
  {
   "cell_type": "markdown",
   "source": [
    "# pandas\n",
    "https://pandas.pydata.org/docs/reference/api/pandas.DataFrame.html\n"
   ],
   "metadata": {
    "collapsed": false,
    "pycharm": {
     "name": "#%% md\n"
    }
   }
  },
  {
   "cell_type": "markdown",
   "source": [
    "#when calculate again, you need\n",
    "\n",
    "%reset"
   ],
   "metadata": {
    "collapsed": false,
    "pycharm": {
     "name": "#%% md\n"
    }
   }
  },
  {
   "cell_type": "code",
   "execution_count": 104,
   "outputs": [
    {
     "data": {
      "text/plain": "'C:\\\\Users\\\\survey\\\\Dropbox\\\\My PC (SURVEY-C20)\\\\Documents\\\\GitHub\\\\GNSS'"
     },
     "execution_count": 104,
     "metadata": {},
     "output_type": "execute_result"
    }
   ],
   "source": [
    "#check current directory\n",
    "%pwd"
   ],
   "metadata": {
    "collapsed": false,
    "pycharm": {
     "name": "#%%\n"
    }
   }
  },
  {
   "cell_type": "markdown",
   "source": [
    "#define working directroy\n",
    "# %cd C:\\\\Users\\\\survey\\\\Desktop\\\\nmea20210705\n",
    "\n",
    "%cd C:\\Users\\survey\\Dropbox\\My PC (SURVEY-C20)\\Documents\\GitHub\\GNSS"
   ],
   "metadata": {
    "collapsed": false,
    "pycharm": {
     "name": "#%% md\n"
    }
   }
  },
  {
   "cell_type": "code",
   "execution_count": 1,
   "outputs": [
    {
     "name": "stdout",
     "output_type": "stream",
     "text": [
      " ドライブ C のボリューム ラベルがありません。\n",
      " ボリューム シリアル番号は 3C86-6F6B です\n",
      "\n",
      " C:\\Users\\survey\\Dropbox\\My PC (SURVEY-C20)\\Documents\\GitHub\\GNSS のディレクトリ\n",
      "\n",
      "2021/07/10  17:35    <DIR>          .\n",
      "2021/07/09  19:44    <DIR>          ..\n",
      "2021/07/10  15:42               214 .gitignore\n",
      "2021/07/10  17:34    <DIR>          .idea\n",
      "2021/07/10  15:42             1,523 GG1.csv\n",
      "2021/07/10  15:42             1,357 GG2.csv\n",
      "2021/07/10  17:20            36,271 gnss_concate.ipynb\n",
      "2021/07/10  17:35            36,153 gnss_concate_vertical.ipynb\n",
      "2021/07/10  15:58            10,387 gnss_extract.ipynb\n",
      "2021/07/10  16:03                82 README.md\n",
      "2018/03/18  11:24             3,454 VRS単_2018-03-18-11-24-13.rtk\n",
      "2021/07/10  17:17               228 VRS単_2018-03-18-11-24-13_get_concate.rtk\n",
      "2021/07/10  17:24            10,325 VRS単_2018-03-18-11-24-13_get_concate.rtk.xlsx\n",
      "2018/05/28  21:00            29,291 VRS直_2018-05-28-21-00-28.rtk\n",
      "2021/07/10  17:18             1,982 VRS直_2018-05-28-21-00-28_get_concate.rtk\n",
      "2021/07/10  17:23            11,735 VRS直_2018-05-28-21-00-28_get_concate.rtk.xlsx\n",
      "2018/06/24  14:02            66,904 VRS直_2018-06-24-14-02-18.rtk\n",
      "2021/07/10  17:18             4,584 VRS直_2018-06-24-14-02-18_get_concate.rtk\n",
      "2021/07/10  17:23            14,300 VRS直_2018-06-24-14-02-18_get_concate.rtk.xlsx\n",
      "2018/07/11  20:01            51,198 VRS直_2018-07-11-20-00-59.rtk\n",
      "2021/07/10  17:19             3,536 VRS直_2018-07-11-20-00-59_get_concate.rtk\n",
      "2021/07/10  17:22            13,236 VRS直_2018-07-11-20-00-59_get_concate.rtk.xlsx\n",
      "2021/07/09  21:19            12,733 VRS直_2021-06-27-11-45-43.rtk\n",
      "2021/07/09  21:30             2,880 VRS直_2021-06-27-11-45-43_get.rtk\n",
      "2021/07/09  21:32            14,536 VRS直_2021-06-27-11-45-43_get.rtk.xlsx\n",
      "2021/07/10  17:09               790 VRS直_2021-06-27-11-45-43_get_concate.rtk\n",
      "2021/07/10  17:21            10,998 VRS直_2021-06-27-11-45-43_get_concate.rtk.xlsx\n",
      "2021/07/09  18:49            60,812 VRS直_2021-07-05-12-48-07.rtk\n",
      "2021/07/09  21:07            14,497 VRS直_2021-07-05-12-48-07_get.rtk\n",
      "2021/07/09  21:35            31,534 VRS直_2021-07-05-12-48-07_get.rtk.xlsx\n",
      "2021/07/10  17:20             3,968 VRS直_2021-07-05-12-48-07_get_concate.rtk\n",
      "2021/07/10  17:27            16,006 VRS直_2021-07-05-12-48-07_get_concate.rtk.xlsx\n",
      "              29 個のファイル             465,514 バイト\n",
      "               3 個のディレクトリ  1,044,750,049,280 バイトの空き領域\n"
     ]
    }
   ],
   "source": [
    "#check files\n",
    "%ls"
   ],
   "metadata": {
    "collapsed": false,
    "pycharm": {
     "name": "#%%\n"
    }
   }
  },
  {
   "cell_type": "code",
   "execution_count": 6,
   "outputs": [],
   "source": [
    "import pandas as pd\n",
    "import csv\n",
    "import glob"
   ],
   "metadata": {
    "collapsed": false,
    "pycharm": {
     "name": "#%%\n"
    }
   }
  },
  {
   "cell_type": "code",
   "execution_count": null,
   "outputs": [],
   "source": [
    "# enc_sty=\"UTF-8\"\n",
    "enc_sty=\"shift_jis\""
   ],
   "metadata": {
    "collapsed": false,
    "pycharm": {
     "name": "#%%\n"
    }
   }
  },
  {
   "cell_type": "code",
   "execution_count": 35,
   "outputs": [
    {
     "name": "stdout",
     "output_type": "stream",
     "text": [
      "       no           x          y        z\n",
      "0  gcp  1  -90466.435  -4687.616  211.197\n",
      "1  gcp  1  -90466.435  -4687.619  211.190\n",
      "2  gcp  2  -90459.502  -4686.687  211.309\n",
      "3  gcp  2  -90459.502  -4686.684  211.321\n",
      "4  gcp  3  -90465.298  -4680.830  211.376\n",
      "5  gcp  3  -90465.289  -4680.836  211.362\n",
      "     no           x          y        z\n",
      "0   194  -90148.783  -5090.489  182.325\n",
      "1   194  -90148.780  -5090.492  182.325\n",
      "2   195  -90166.347  -5102.293  183.192\n",
      "3   195  -90166.353  -5102.293  183.185\n",
      "4   196  -90158.477  -5118.195  183.195\n",
      "5   196  -90158.474  -5118.193  183.198\n",
      "6   197  -90181.220  -5081.400  183.992\n",
      "7   197  -90181.217  -5081.400  183.998\n",
      "8   198  -90188.572  -5104.245  183.986\n",
      "9   198  -90188.572  -5104.243  183.986\n",
      "10  199  -90182.621  -5127.619  184.186\n",
      "11  199  -90182.615  -5127.617  184.186\n",
      "12  200  -90197.737  -5152.445  184.617\n",
      "13  200  -90197.737  -5152.445  184.610\n",
      "14    2  -90197.042  -5160.302  184.754\n",
      "15    2  -90197.042  -5160.297  184.744\n",
      "16    3  -90196.829  -5161.870  184.745\n",
      "17    3  -90196.832  -5161.873  184.741\n",
      "18    4  -90196.575  -5163.702  184.748\n",
      "19    4  -90196.578  -5163.704  184.749\n",
      "20  4-1  -90195.902  -5165.004  184.758\n",
      "21  4-1  -90195.902  -5165.004  184.744\n",
      "22   17  -90183.562  -5136.196  184.256\n",
      "23   17  -90183.562  -5136.191  184.264\n",
      "24   18  -90183.607  -5138.235  184.256\n",
      "25   18  -90183.610  -5138.235  184.256\n",
      "26   19  -90183.763  -5140.264  184.274\n",
      "27   19  -90183.763  -5140.264  184.269\n",
      "28   20  -90183.907  -5142.298  184.284\n",
      "29   20  -90183.907  -5142.295  184.284\n",
      "30   33  -90184.946  -5107.798  184.008\n",
      "31   33  -90184.949  -5107.798  184.010\n",
      "32   34  -90183.587  -5109.052  183.987\n",
      "33   34  -90183.587  -5109.052  183.983\n",
      "34   35  -90182.018  -5110.225  183.953\n",
      "35   35  -90182.018  -5110.222  183.955\n",
      "36   45  -90182.443  -5087.118  184.025\n",
      "37   45  -90182.447  -5087.116  184.029\n",
      "38   46  -90182.014  -5089.519  183.992\n",
      "39   46  -90182.014  -5089.519  183.989\n",
      "40   47  -90181.532  -5091.866  183.948\n",
      "41   47  -90181.532  -5091.863  183.944\n",
      "42   57  -90158.464  -5124.444  183.215\n",
      "43   57  -90158.470  -5124.441  183.223\n",
      "44   58  -90158.996  -5126.979  183.217\n",
      "45   58  -90158.999  -5126.976  183.213\n",
      "46   65  -90168.657  -5109.177  183.206\n",
      "47   65  -90168.657  -5109.177  183.224\n",
      "48   66  -90170.569  -5111.597  183.215\n",
      "49   66  -90170.569  -5111.599  183.209\n",
      "50   89  -90138.537  -5112.464  182.322\n",
      "51   89  -90138.537  -5112.464  182.320\n",
      "52   73  -90137.402  -5114.381  182.324\n",
      "53   73  -90137.402  -5114.384  182.327\n",
      "54   74  -90136.993  -5117.852  182.293\n",
      "55   74  -90136.993  -5117.849  182.295\n",
      "56   82  -90151.102  -5098.150  182.307\n",
      "57   82  -90151.099  -5098.150  182.302\n",
      "     no           x          y        z\n",
      "0     6  -90204.775  -5152.535  184.711\n",
      "1     6  -90204.775  -5152.532  184.706\n",
      "2     7  -90206.297  -5152.551  184.707\n",
      "3     7  -90206.297  -5152.551  184.717\n",
      "4     8  -90208.023  -5152.638  184.715\n",
      "..   ..         ...        ...      ...\n",
      "130  83  -90150.961  -5084.733  182.297\n",
      "131  84  -90146.160  -5084.892  182.311\n",
      "132  84  -90146.160  -5084.892  182.307\n",
      "133  81  -90146.075  -5093.705  182.295\n",
      "134  81  -90146.078  -5093.705  182.302\n",
      "\n",
      "[135 rows x 4 columns]\n",
      "     no           x          y        z\n",
      "0    34  -90230.638  -5237.952  181.066\n",
      "1    34  -90230.681  -5238.010  180.915\n",
      "2    34  -90230.681  -5238.010  180.912\n",
      "3    36  -90231.180  -5237.661  180.901\n",
      "4    36  -90231.177  -5237.661  180.907\n",
      "..   ..         ...        ...      ...\n",
      "99   82  -90163.346  -5078.780  183.037\n",
      "100  83  -90163.981  -5078.249  183.045\n",
      "101  83  -90163.984  -5078.241  183.039\n",
      "102  84  -90164.789  -5077.475  183.034\n",
      "103  84  -90164.789  -5077.478  183.038\n",
      "\n",
      "[104 rows x 4 columns]\n",
      "       no           x          y        z\n",
      "0   vrs 2  -90167.485  -5099.511  183.210\n",
      "1     195  -90166.340  -5102.293  183.218\n",
      "2     196  -90157.653  -5119.548  183.201\n",
      "3      A2  -90138.610  -5108.930  182.318\n",
      "4     102  -90151.530  -5076.542  182.332\n",
      "5     101  -90147.211  -5080.068  182.330\n",
      "6      82  -90153.147  -5094.767  182.309\n",
      "7      74  -90136.619  -5119.989  182.293\n",
      "8      73  -90135.976  -5117.813  182.326\n",
      "9      58  -90160.331  -5125.849  183.204\n",
      "10     59  -90164.744  -5118.819  183.209\n",
      "11     60  -90166.661  -5117.932  183.202\n",
      "12     66  -90167.817  -5111.484  183.237\n",
      "13     83  -90152.350  -5087.526  182.294\n",
      "14     85  -90151.047  -5080.455  182.300\n",
      "15    104  -90144.522  -5072.708  182.372\n",
      "16    199  -90182.612  -5127.612  184.224\n",
      "17     19  -90183.748  -5140.256  184.304\n",
      "18     20  -90182.946  -5142.019  184.315\n",
      "19     13  -90192.200  -5151.513  184.527\n",
      "20     14  -90190.367  -5151.452  184.484\n",
      "21     16  -90186.992  -5151.326  184.445\n",
      "22      7  -90206.297  -5152.559  184.726\n",
      "      no           x          y        z\n",
      "0     57  -90158.482  -5124.454  183.203\n",
      "1     65  -90168.648  -5109.172  183.250\n",
      "2    197  -90181.236  -5081.433  183.944\n",
      "3     54  -90176.886  -5079.164  183.960\n",
      "4     55  -90174.535  -5078.768  183.929\n",
      "..   ...         ...        ...      ...\n",
      "110  s74  -90211.893  -5153.445  184.746\n",
      "111  s75  -90212.861  -5152.760  184.744\n",
      "112  s76  -90213.434  -5151.986  184.746\n",
      "113  s77  -90214.396  -5150.398  184.784\n",
      "114  s78  -90215.131  -5149.004  184.822\n",
      "\n",
      "[115 rows x 4 columns]\n"
     ]
    }
   ],
   "source": [
    "# file_data_sum=[]\n",
    "for file in glob.glob(\"*_get_concate.rtk\"):\n",
    "    base_name=file.split('.',1)[0]\n",
    "    with open(file, \"r\", encoding=enc_sty, errors=\"\", newline=\"\" ) as f:\n",
    "        lst = csv.reader(f, delimiter=\",\")\n",
    "        df = pd.DataFrame(lst).rename(columns={0:'no',1:'x',2:'y',3:'z'})\n",
    "        df\n",
    "        df=df.drop(df.columns[[4]], axis=1)\n",
    "        print(df)\n",
    "    # file_data = open(file, \"r\")\n",
    "    # print(file)\n",
    "    # print(file_data)\n",
    "    # file_data_sum = file_data\n",
    "    # print(type(file_data))\n",
    "    # print(file_data.read())"
   ],
   "metadata": {
    "collapsed": false,
    "pycharm": {
     "name": "#%%\n"
    }
   }
  },
  {
   "cell_type": "code",
   "execution_count": null,
   "outputs": [],
   "source": [
    "# with open(\"2021-07-05_10.nmea\", \"r\", encoding=\"UTF-8\", errors=\"\", newline=\"\" ) as f:\n",
    "# with open(inp_file, \"r\", encoding=\"UTF-8\", errors=\"\", newline=\"\" ) as f:\n",
    "with open(inp_file1, \"r\", encoding=enc_sty, errors=\"\", newline=\"\" ) as f:\n",
    "    lst = csv.reader(f, delimiter=\",\")\n",
    "    df1 = pd.DataFrame(lst).rename(columns={0:'cols'})\n",
    "    # df = pd.DataFrame(lst)\n"
   ],
   "metadata": {
    "collapsed": false,
    "pycharm": {
     "name": "#%%\n"
    }
   }
  },
  {
   "cell_type": "code",
   "execution_count": 24,
   "outputs": [
    {
     "data": {
      "text/plain": "<_io.TextIOWrapper name='VRS直_2021-07-05-12-48-07_get_concate.rtk' mode='r' encoding='cp932'>"
     },
     "execution_count": 24,
     "metadata": {},
     "output_type": "execute_result"
    }
   ],
   "source": [
    "# type(file_data)\n",
    "file_data_sum"
   ],
   "metadata": {
    "collapsed": false,
    "pycharm": {
     "name": "#%%\n"
    }
   }
  },
  {
   "cell_type": "code",
   "execution_count": 3,
   "outputs": [],
   "source": [
    "# define the input file\n",
    "\n",
    "# inp_file=\"2021-07-05_10.nmea\"\n",
    "# inp_file=\"VRS直_2021-07-05-12-48-07.rtk\"\n",
    "inp_file1=\"VRS直_2021-07-05-12-48-07_get_concate.rtk\"\n",
    "inp_file2=\"VRS直_2021-06-27-11-45-43_get_concate.rtk\"\n",
    "inp_file3=\"VRS直_2018-07-11-20-00-59_get_concate.rtk\"\n",
    "inp_file4=\"VRS直_2018-06-24-14-02-18_get_concate.rtk\"\n",
    "inp_file5=\"VRS直_2018-05-28-21-00-28_get_concate.rtk\"\n",
    "inp_file6=\"VRS単_2018-03-18-11-24-13_get_concate.rtk\"\n"
   ],
   "metadata": {
    "collapsed": false,
    "pycharm": {
     "name": "#%%\n"
    }
   }
  },
  {
   "cell_type": "markdown",
   "source": [
    "# type(inp_file)\n",
    "base_name=inp_file.split('.',1)[0]\n",
    "# type(base_name)\n",
    "base_name\n",
    "# inp_file=\"VRS直_2021-07-05-12-48-07_get.rtk\""
   ],
   "metadata": {
    "collapsed": false,
    "pycharm": {
     "name": "#%% md\n"
    }
   }
  },
  {
   "cell_type": "markdown",
   "source": [
    "# make output filename from input file automatically\n",
    "\n",
    "# out_file=\"2021-07-05_10_GNRMC_out_test.csv\"\n",
    "# out_file=\"VRS直_2021-07-05-12-48-07_get.rtk\"\n",
    "out_file=base_name+\"_get_concate.rtk\"\n",
    "out_file\n",
    "# out_file=\"VRS直_2021-07-05-12-48-07_get.rtk\"\n",
    "\n"
   ],
   "metadata": {
    "collapsed": false,
    "pycharm": {
     "name": "#%% md\n"
    }
   }
  },
  {
   "cell_type": "code",
   "execution_count": 112,
   "outputs": [],
   "source": [
    "df_1=df.query('cols in [\"GG1\"]')\n",
    "# df_1_new=df_1.drop(df.columns[[1,2,4,5,6,7,8,9,10,11,12,13,14,15]], axis=1)\n",
    "# df_1_new=df_1.rename(columns={3:no})\n",
    "# df_1.to_csv(\"GG1.csv\",header=False, index=False)\n",
    "# type(df_1)"
   ],
   "metadata": {
    "collapsed": false,
    "pycharm": {
     "name": "#%%\n"
    }
   }
  },
  {
   "cell_type": "code",
   "execution_count": 113,
   "outputs": [],
   "source": [
    "# df_1_new"
   ],
   "metadata": {
    "collapsed": false,
    "pycharm": {
     "name": "#%%\n"
    }
   }
  },
  {
   "cell_type": "code",
   "execution_count": 114,
   "outputs": [],
   "source": [
    "df_1 = df_1.reset_index(drop=True)"
   ],
   "metadata": {
    "collapsed": false,
    "pycharm": {
     "name": "#%%\n"
    }
   }
  },
  {
   "cell_type": "code",
   "execution_count": 115,
   "outputs": [
    {
     "data": {
      "text/plain": "    cols  1    2    3             4             5   6   7      8      9 10  \\\n0    GG1  1    2   57  14:50:05:JST  14:50:15:JST  10  11  2.199  2.199      \n1    GG1  1    3   65  14:52:41:JST  14:52:51:JST  10  11  2.199  2.199      \n2    GG1  1    4  197  14:54:46:JST  14:54:55:JST  10  11  2.199  2.199      \n3    GG1  1    5   54  14:57:04:JST  14:57:15:JST  10  10  2.199  2.199      \n4    GG1  1    6   55  14:58:18:JST  14:58:28:JST  10  10  2.199  2.199      \n..   ... ..  ...  ...           ...           ...  ..  ..    ...    ... ..   \n110  GG1  1  112  s74  18:54:47:JST  18:54:57:JST  10  13  2.199  2.199      \n111  GG1  1  113  s75  18:55:11:JST  18:55:21:JST  10  13  2.199  2.199      \n112  GG1  1  114  s76  18:55:47:JST  18:55:57:JST  10  13  2.199  2.199      \n113  GG1  1  115  s77  18:56:19:JST  18:56:29:JST  10  12  2.199  2.199      \n114  GG1  1  116  s78  18:56:50:JST  18:57:00:JST  10  12  2.199  2.199      \n\n     11 12 13 14 15  \n0     1  0  0        \n1     2  0  0        \n2     3  0  0        \n3     4  0  0        \n4     5  0  0        \n..   .. .. .. .. ..  \n110  20  0  0        \n111  21  0  0        \n112  22  0  0        \n113  23  0  0        \n114  24  0  0        \n\n[115 rows x 16 columns]",
      "text/html": "<div>\n<style scoped>\n    .dataframe tbody tr th:only-of-type {\n        vertical-align: middle;\n    }\n\n    .dataframe tbody tr th {\n        vertical-align: top;\n    }\n\n    .dataframe thead th {\n        text-align: right;\n    }\n</style>\n<table border=\"1\" class=\"dataframe\">\n  <thead>\n    <tr style=\"text-align: right;\">\n      <th></th>\n      <th>cols</th>\n      <th>1</th>\n      <th>2</th>\n      <th>3</th>\n      <th>4</th>\n      <th>5</th>\n      <th>6</th>\n      <th>7</th>\n      <th>8</th>\n      <th>9</th>\n      <th>10</th>\n      <th>11</th>\n      <th>12</th>\n      <th>13</th>\n      <th>14</th>\n      <th>15</th>\n    </tr>\n  </thead>\n  <tbody>\n    <tr>\n      <th>0</th>\n      <td>GG1</td>\n      <td>1</td>\n      <td>2</td>\n      <td>57</td>\n      <td>14:50:05:JST</td>\n      <td>14:50:15:JST</td>\n      <td>10</td>\n      <td>11</td>\n      <td>2.199</td>\n      <td>2.199</td>\n      <td></td>\n      <td>1</td>\n      <td>0</td>\n      <td>0</td>\n      <td></td>\n      <td></td>\n    </tr>\n    <tr>\n      <th>1</th>\n      <td>GG1</td>\n      <td>1</td>\n      <td>3</td>\n      <td>65</td>\n      <td>14:52:41:JST</td>\n      <td>14:52:51:JST</td>\n      <td>10</td>\n      <td>11</td>\n      <td>2.199</td>\n      <td>2.199</td>\n      <td></td>\n      <td>2</td>\n      <td>0</td>\n      <td>0</td>\n      <td></td>\n      <td></td>\n    </tr>\n    <tr>\n      <th>2</th>\n      <td>GG1</td>\n      <td>1</td>\n      <td>4</td>\n      <td>197</td>\n      <td>14:54:46:JST</td>\n      <td>14:54:55:JST</td>\n      <td>10</td>\n      <td>11</td>\n      <td>2.199</td>\n      <td>2.199</td>\n      <td></td>\n      <td>3</td>\n      <td>0</td>\n      <td>0</td>\n      <td></td>\n      <td></td>\n    </tr>\n    <tr>\n      <th>3</th>\n      <td>GG1</td>\n      <td>1</td>\n      <td>5</td>\n      <td>54</td>\n      <td>14:57:04:JST</td>\n      <td>14:57:15:JST</td>\n      <td>10</td>\n      <td>10</td>\n      <td>2.199</td>\n      <td>2.199</td>\n      <td></td>\n      <td>4</td>\n      <td>0</td>\n      <td>0</td>\n      <td></td>\n      <td></td>\n    </tr>\n    <tr>\n      <th>4</th>\n      <td>GG1</td>\n      <td>1</td>\n      <td>6</td>\n      <td>55</td>\n      <td>14:58:18:JST</td>\n      <td>14:58:28:JST</td>\n      <td>10</td>\n      <td>10</td>\n      <td>2.199</td>\n      <td>2.199</td>\n      <td></td>\n      <td>5</td>\n      <td>0</td>\n      <td>0</td>\n      <td></td>\n      <td></td>\n    </tr>\n    <tr>\n      <th>...</th>\n      <td>...</td>\n      <td>...</td>\n      <td>...</td>\n      <td>...</td>\n      <td>...</td>\n      <td>...</td>\n      <td>...</td>\n      <td>...</td>\n      <td>...</td>\n      <td>...</td>\n      <td>...</td>\n      <td>...</td>\n      <td>...</td>\n      <td>...</td>\n      <td>...</td>\n      <td>...</td>\n    </tr>\n    <tr>\n      <th>110</th>\n      <td>GG1</td>\n      <td>1</td>\n      <td>112</td>\n      <td>s74</td>\n      <td>18:54:47:JST</td>\n      <td>18:54:57:JST</td>\n      <td>10</td>\n      <td>13</td>\n      <td>2.199</td>\n      <td>2.199</td>\n      <td></td>\n      <td>20</td>\n      <td>0</td>\n      <td>0</td>\n      <td></td>\n      <td></td>\n    </tr>\n    <tr>\n      <th>111</th>\n      <td>GG1</td>\n      <td>1</td>\n      <td>113</td>\n      <td>s75</td>\n      <td>18:55:11:JST</td>\n      <td>18:55:21:JST</td>\n      <td>10</td>\n      <td>13</td>\n      <td>2.199</td>\n      <td>2.199</td>\n      <td></td>\n      <td>21</td>\n      <td>0</td>\n      <td>0</td>\n      <td></td>\n      <td></td>\n    </tr>\n    <tr>\n      <th>112</th>\n      <td>GG1</td>\n      <td>1</td>\n      <td>114</td>\n      <td>s76</td>\n      <td>18:55:47:JST</td>\n      <td>18:55:57:JST</td>\n      <td>10</td>\n      <td>13</td>\n      <td>2.199</td>\n      <td>2.199</td>\n      <td></td>\n      <td>22</td>\n      <td>0</td>\n      <td>0</td>\n      <td></td>\n      <td></td>\n    </tr>\n    <tr>\n      <th>113</th>\n      <td>GG1</td>\n      <td>1</td>\n      <td>115</td>\n      <td>s77</td>\n      <td>18:56:19:JST</td>\n      <td>18:56:29:JST</td>\n      <td>10</td>\n      <td>12</td>\n      <td>2.199</td>\n      <td>2.199</td>\n      <td></td>\n      <td>23</td>\n      <td>0</td>\n      <td>0</td>\n      <td></td>\n      <td></td>\n    </tr>\n    <tr>\n      <th>114</th>\n      <td>GG1</td>\n      <td>1</td>\n      <td>116</td>\n      <td>s78</td>\n      <td>18:56:50:JST</td>\n      <td>18:57:00:JST</td>\n      <td>10</td>\n      <td>12</td>\n      <td>2.199</td>\n      <td>2.199</td>\n      <td></td>\n      <td>24</td>\n      <td>0</td>\n      <td>0</td>\n      <td></td>\n      <td></td>\n    </tr>\n  </tbody>\n</table>\n<p>115 rows × 16 columns</p>\n</div>"
     },
     "execution_count": 115,
     "metadata": {},
     "output_type": "execute_result"
    }
   ],
   "source": [
    "df_1"
   ],
   "metadata": {
    "collapsed": false,
    "pycharm": {
     "name": "#%%\n"
    }
   }
  },
  {
   "cell_type": "code",
   "execution_count": 116,
   "outputs": [],
   "source": [
    "df_2=df.query('cols in [\"GG2\"]')\n",
    "# df_2.to_csv(\"GG2.csv\",header=False, index=False)"
   ],
   "metadata": {
    "collapsed": false,
    "pycharm": {
     "name": "#%%\n"
    }
   }
  },
  {
   "cell_type": "code",
   "execution_count": 117,
   "outputs": [
    {
     "data": {
      "text/plain": "    cols           1          2        3       4        5 6      7     8  \\\n0    GG2  -90158.482  -5124.454  183.203  39.249  143.954     None  None   \n1    GG2  -90168.648  -5109.172  183.250  39.250  144.000     None  None   \n2    GG2  -90181.236  -5081.433  183.944  39.252  144.692     None  None   \n3    GG2  -90176.886  -5079.164  183.960  39.253  144.707     None  None   \n4    GG2  -90174.535  -5078.768  183.929  39.253  144.676     None  None   \n..   ...         ...        ...      ...     ...      ... ..   ...   ...   \n110  GG2  -90211.893  -5153.445  184.746  39.247  145.499     None  None   \n111  GG2  -90212.861  -5152.760  184.744  39.247  145.497     None  None   \n112  GG2  -90213.434  -5151.986  184.746  39.247  145.499     None  None   \n113  GG2  -90214.396  -5150.398  184.784  39.247  145.537     None  None   \n114  GG2  -90215.131  -5149.004  184.822  39.247  145.575     None  None   \n\n        9    10    11    12    13    14    15  \n0    None  None  None  None  None  None  None  \n1    None  None  None  None  None  None  None  \n2    None  None  None  None  None  None  None  \n3    None  None  None  None  None  None  None  \n4    None  None  None  None  None  None  None  \n..    ...   ...   ...   ...   ...   ...   ...  \n110  None  None  None  None  None  None  None  \n111  None  None  None  None  None  None  None  \n112  None  None  None  None  None  None  None  \n113  None  None  None  None  None  None  None  \n114  None  None  None  None  None  None  None  \n\n[115 rows x 16 columns]",
      "text/html": "<div>\n<style scoped>\n    .dataframe tbody tr th:only-of-type {\n        vertical-align: middle;\n    }\n\n    .dataframe tbody tr th {\n        vertical-align: top;\n    }\n\n    .dataframe thead th {\n        text-align: right;\n    }\n</style>\n<table border=\"1\" class=\"dataframe\">\n  <thead>\n    <tr style=\"text-align: right;\">\n      <th></th>\n      <th>cols</th>\n      <th>1</th>\n      <th>2</th>\n      <th>3</th>\n      <th>4</th>\n      <th>5</th>\n      <th>6</th>\n      <th>7</th>\n      <th>8</th>\n      <th>9</th>\n      <th>10</th>\n      <th>11</th>\n      <th>12</th>\n      <th>13</th>\n      <th>14</th>\n      <th>15</th>\n    </tr>\n  </thead>\n  <tbody>\n    <tr>\n      <th>0</th>\n      <td>GG2</td>\n      <td>-90158.482</td>\n      <td>-5124.454</td>\n      <td>183.203</td>\n      <td>39.249</td>\n      <td>143.954</td>\n      <td></td>\n      <td>None</td>\n      <td>None</td>\n      <td>None</td>\n      <td>None</td>\n      <td>None</td>\n      <td>None</td>\n      <td>None</td>\n      <td>None</td>\n      <td>None</td>\n    </tr>\n    <tr>\n      <th>1</th>\n      <td>GG2</td>\n      <td>-90168.648</td>\n      <td>-5109.172</td>\n      <td>183.250</td>\n      <td>39.250</td>\n      <td>144.000</td>\n      <td></td>\n      <td>None</td>\n      <td>None</td>\n      <td>None</td>\n      <td>None</td>\n      <td>None</td>\n      <td>None</td>\n      <td>None</td>\n      <td>None</td>\n      <td>None</td>\n    </tr>\n    <tr>\n      <th>2</th>\n      <td>GG2</td>\n      <td>-90181.236</td>\n      <td>-5081.433</td>\n      <td>183.944</td>\n      <td>39.252</td>\n      <td>144.692</td>\n      <td></td>\n      <td>None</td>\n      <td>None</td>\n      <td>None</td>\n      <td>None</td>\n      <td>None</td>\n      <td>None</td>\n      <td>None</td>\n      <td>None</td>\n      <td>None</td>\n    </tr>\n    <tr>\n      <th>3</th>\n      <td>GG2</td>\n      <td>-90176.886</td>\n      <td>-5079.164</td>\n      <td>183.960</td>\n      <td>39.253</td>\n      <td>144.707</td>\n      <td></td>\n      <td>None</td>\n      <td>None</td>\n      <td>None</td>\n      <td>None</td>\n      <td>None</td>\n      <td>None</td>\n      <td>None</td>\n      <td>None</td>\n      <td>None</td>\n    </tr>\n    <tr>\n      <th>4</th>\n      <td>GG2</td>\n      <td>-90174.535</td>\n      <td>-5078.768</td>\n      <td>183.929</td>\n      <td>39.253</td>\n      <td>144.676</td>\n      <td></td>\n      <td>None</td>\n      <td>None</td>\n      <td>None</td>\n      <td>None</td>\n      <td>None</td>\n      <td>None</td>\n      <td>None</td>\n      <td>None</td>\n      <td>None</td>\n    </tr>\n    <tr>\n      <th>...</th>\n      <td>...</td>\n      <td>...</td>\n      <td>...</td>\n      <td>...</td>\n      <td>...</td>\n      <td>...</td>\n      <td>...</td>\n      <td>...</td>\n      <td>...</td>\n      <td>...</td>\n      <td>...</td>\n      <td>...</td>\n      <td>...</td>\n      <td>...</td>\n      <td>...</td>\n      <td>...</td>\n    </tr>\n    <tr>\n      <th>110</th>\n      <td>GG2</td>\n      <td>-90211.893</td>\n      <td>-5153.445</td>\n      <td>184.746</td>\n      <td>39.247</td>\n      <td>145.499</td>\n      <td></td>\n      <td>None</td>\n      <td>None</td>\n      <td>None</td>\n      <td>None</td>\n      <td>None</td>\n      <td>None</td>\n      <td>None</td>\n      <td>None</td>\n      <td>None</td>\n    </tr>\n    <tr>\n      <th>111</th>\n      <td>GG2</td>\n      <td>-90212.861</td>\n      <td>-5152.760</td>\n      <td>184.744</td>\n      <td>39.247</td>\n      <td>145.497</td>\n      <td></td>\n      <td>None</td>\n      <td>None</td>\n      <td>None</td>\n      <td>None</td>\n      <td>None</td>\n      <td>None</td>\n      <td>None</td>\n      <td>None</td>\n      <td>None</td>\n    </tr>\n    <tr>\n      <th>112</th>\n      <td>GG2</td>\n      <td>-90213.434</td>\n      <td>-5151.986</td>\n      <td>184.746</td>\n      <td>39.247</td>\n      <td>145.499</td>\n      <td></td>\n      <td>None</td>\n      <td>None</td>\n      <td>None</td>\n      <td>None</td>\n      <td>None</td>\n      <td>None</td>\n      <td>None</td>\n      <td>None</td>\n      <td>None</td>\n    </tr>\n    <tr>\n      <th>113</th>\n      <td>GG2</td>\n      <td>-90214.396</td>\n      <td>-5150.398</td>\n      <td>184.784</td>\n      <td>39.247</td>\n      <td>145.537</td>\n      <td></td>\n      <td>None</td>\n      <td>None</td>\n      <td>None</td>\n      <td>None</td>\n      <td>None</td>\n      <td>None</td>\n      <td>None</td>\n      <td>None</td>\n      <td>None</td>\n    </tr>\n    <tr>\n      <th>114</th>\n      <td>GG2</td>\n      <td>-90215.131</td>\n      <td>-5149.004</td>\n      <td>184.822</td>\n      <td>39.247</td>\n      <td>145.575</td>\n      <td></td>\n      <td>None</td>\n      <td>None</td>\n      <td>None</td>\n      <td>None</td>\n      <td>None</td>\n      <td>None</td>\n      <td>None</td>\n      <td>None</td>\n      <td>None</td>\n    </tr>\n  </tbody>\n</table>\n<p>115 rows × 16 columns</p>\n</div>"
     },
     "execution_count": 117,
     "metadata": {},
     "output_type": "execute_result"
    }
   ],
   "source": [
    "df_2 = df_2.reset_index(drop=True)\n",
    "df_2"
   ],
   "metadata": {
    "collapsed": false,
    "pycharm": {
     "name": "#%%\n"
    }
   }
  },
  {
   "cell_type": "code",
   "execution_count": 118,
   "outputs": [],
   "source": [
    "concatenated_df = pd.concat([df_1, df_2], axis=1)"
   ],
   "metadata": {
    "collapsed": false,
    "pycharm": {
     "name": "#%%\n"
    }
   }
  },
  {
   "cell_type": "code",
   "execution_count": 119,
   "outputs": [],
   "source": [
    "sh=concatenated_df.shape"
   ],
   "metadata": {
    "collapsed": false,
    "pycharm": {
     "name": "#%%\n"
    }
   }
  },
  {
   "cell_type": "code",
   "execution_count": 120,
   "outputs": [],
   "source": [
    "concatenated_df.columns=range(sh[1])"
   ],
   "metadata": {
    "collapsed": false,
    "pycharm": {
     "name": "#%%\n"
    }
   }
  },
  {
   "cell_type": "code",
   "execution_count": 121,
   "outputs": [
    {
     "data": {
      "text/plain": "      0  1    2    3             4             5   6   7      8      9   ...  \\\n0    GG1  1    2   57  14:50:05:JST  14:50:15:JST  10  11  2.199  2.199  ...   \n1    GG1  1    3   65  14:52:41:JST  14:52:51:JST  10  11  2.199  2.199  ...   \n2    GG1  1    4  197  14:54:46:JST  14:54:55:JST  10  11  2.199  2.199  ...   \n3    GG1  1    5   54  14:57:04:JST  14:57:15:JST  10  10  2.199  2.199  ...   \n4    GG1  1    6   55  14:58:18:JST  14:58:28:JST  10  10  2.199  2.199  ...   \n..   ... ..  ...  ...           ...           ...  ..  ..    ...    ...  ...   \n110  GG1  1  112  s74  18:54:47:JST  18:54:57:JST  10  13  2.199  2.199  ...   \n111  GG1  1  113  s75  18:55:11:JST  18:55:21:JST  10  13  2.199  2.199  ...   \n112  GG1  1  114  s76  18:55:47:JST  18:55:57:JST  10  13  2.199  2.199  ...   \n113  GG1  1  115  s77  18:56:19:JST  18:56:29:JST  10  12  2.199  2.199  ...   \n114  GG1  1  116  s78  18:56:50:JST  18:57:00:JST  10  12  2.199  2.199  ...   \n\n    22    23    24    25    26    27    28    29    30    31  \n0       None  None  None  None  None  None  None  None  None  \n1       None  None  None  None  None  None  None  None  None  \n2       None  None  None  None  None  None  None  None  None  \n3       None  None  None  None  None  None  None  None  None  \n4       None  None  None  None  None  None  None  None  None  \n..  ..   ...   ...   ...   ...   ...   ...   ...   ...   ...  \n110     None  None  None  None  None  None  None  None  None  \n111     None  None  None  None  None  None  None  None  None  \n112     None  None  None  None  None  None  None  None  None  \n113     None  None  None  None  None  None  None  None  None  \n114     None  None  None  None  None  None  None  None  None  \n\n[115 rows x 32 columns]",
      "text/html": "<div>\n<style scoped>\n    .dataframe tbody tr th:only-of-type {\n        vertical-align: middle;\n    }\n\n    .dataframe tbody tr th {\n        vertical-align: top;\n    }\n\n    .dataframe thead th {\n        text-align: right;\n    }\n</style>\n<table border=\"1\" class=\"dataframe\">\n  <thead>\n    <tr style=\"text-align: right;\">\n      <th></th>\n      <th>0</th>\n      <th>1</th>\n      <th>2</th>\n      <th>3</th>\n      <th>4</th>\n      <th>5</th>\n      <th>6</th>\n      <th>7</th>\n      <th>8</th>\n      <th>9</th>\n      <th>...</th>\n      <th>22</th>\n      <th>23</th>\n      <th>24</th>\n      <th>25</th>\n      <th>26</th>\n      <th>27</th>\n      <th>28</th>\n      <th>29</th>\n      <th>30</th>\n      <th>31</th>\n    </tr>\n  </thead>\n  <tbody>\n    <tr>\n      <th>0</th>\n      <td>GG1</td>\n      <td>1</td>\n      <td>2</td>\n      <td>57</td>\n      <td>14:50:05:JST</td>\n      <td>14:50:15:JST</td>\n      <td>10</td>\n      <td>11</td>\n      <td>2.199</td>\n      <td>2.199</td>\n      <td>...</td>\n      <td></td>\n      <td>None</td>\n      <td>None</td>\n      <td>None</td>\n      <td>None</td>\n      <td>None</td>\n      <td>None</td>\n      <td>None</td>\n      <td>None</td>\n      <td>None</td>\n    </tr>\n    <tr>\n      <th>1</th>\n      <td>GG1</td>\n      <td>1</td>\n      <td>3</td>\n      <td>65</td>\n      <td>14:52:41:JST</td>\n      <td>14:52:51:JST</td>\n      <td>10</td>\n      <td>11</td>\n      <td>2.199</td>\n      <td>2.199</td>\n      <td>...</td>\n      <td></td>\n      <td>None</td>\n      <td>None</td>\n      <td>None</td>\n      <td>None</td>\n      <td>None</td>\n      <td>None</td>\n      <td>None</td>\n      <td>None</td>\n      <td>None</td>\n    </tr>\n    <tr>\n      <th>2</th>\n      <td>GG1</td>\n      <td>1</td>\n      <td>4</td>\n      <td>197</td>\n      <td>14:54:46:JST</td>\n      <td>14:54:55:JST</td>\n      <td>10</td>\n      <td>11</td>\n      <td>2.199</td>\n      <td>2.199</td>\n      <td>...</td>\n      <td></td>\n      <td>None</td>\n      <td>None</td>\n      <td>None</td>\n      <td>None</td>\n      <td>None</td>\n      <td>None</td>\n      <td>None</td>\n      <td>None</td>\n      <td>None</td>\n    </tr>\n    <tr>\n      <th>3</th>\n      <td>GG1</td>\n      <td>1</td>\n      <td>5</td>\n      <td>54</td>\n      <td>14:57:04:JST</td>\n      <td>14:57:15:JST</td>\n      <td>10</td>\n      <td>10</td>\n      <td>2.199</td>\n      <td>2.199</td>\n      <td>...</td>\n      <td></td>\n      <td>None</td>\n      <td>None</td>\n      <td>None</td>\n      <td>None</td>\n      <td>None</td>\n      <td>None</td>\n      <td>None</td>\n      <td>None</td>\n      <td>None</td>\n    </tr>\n    <tr>\n      <th>4</th>\n      <td>GG1</td>\n      <td>1</td>\n      <td>6</td>\n      <td>55</td>\n      <td>14:58:18:JST</td>\n      <td>14:58:28:JST</td>\n      <td>10</td>\n      <td>10</td>\n      <td>2.199</td>\n      <td>2.199</td>\n      <td>...</td>\n      <td></td>\n      <td>None</td>\n      <td>None</td>\n      <td>None</td>\n      <td>None</td>\n      <td>None</td>\n      <td>None</td>\n      <td>None</td>\n      <td>None</td>\n      <td>None</td>\n    </tr>\n    <tr>\n      <th>...</th>\n      <td>...</td>\n      <td>...</td>\n      <td>...</td>\n      <td>...</td>\n      <td>...</td>\n      <td>...</td>\n      <td>...</td>\n      <td>...</td>\n      <td>...</td>\n      <td>...</td>\n      <td>...</td>\n      <td>...</td>\n      <td>...</td>\n      <td>...</td>\n      <td>...</td>\n      <td>...</td>\n      <td>...</td>\n      <td>...</td>\n      <td>...</td>\n      <td>...</td>\n      <td>...</td>\n    </tr>\n    <tr>\n      <th>110</th>\n      <td>GG1</td>\n      <td>1</td>\n      <td>112</td>\n      <td>s74</td>\n      <td>18:54:47:JST</td>\n      <td>18:54:57:JST</td>\n      <td>10</td>\n      <td>13</td>\n      <td>2.199</td>\n      <td>2.199</td>\n      <td>...</td>\n      <td></td>\n      <td>None</td>\n      <td>None</td>\n      <td>None</td>\n      <td>None</td>\n      <td>None</td>\n      <td>None</td>\n      <td>None</td>\n      <td>None</td>\n      <td>None</td>\n    </tr>\n    <tr>\n      <th>111</th>\n      <td>GG1</td>\n      <td>1</td>\n      <td>113</td>\n      <td>s75</td>\n      <td>18:55:11:JST</td>\n      <td>18:55:21:JST</td>\n      <td>10</td>\n      <td>13</td>\n      <td>2.199</td>\n      <td>2.199</td>\n      <td>...</td>\n      <td></td>\n      <td>None</td>\n      <td>None</td>\n      <td>None</td>\n      <td>None</td>\n      <td>None</td>\n      <td>None</td>\n      <td>None</td>\n      <td>None</td>\n      <td>None</td>\n    </tr>\n    <tr>\n      <th>112</th>\n      <td>GG1</td>\n      <td>1</td>\n      <td>114</td>\n      <td>s76</td>\n      <td>18:55:47:JST</td>\n      <td>18:55:57:JST</td>\n      <td>10</td>\n      <td>13</td>\n      <td>2.199</td>\n      <td>2.199</td>\n      <td>...</td>\n      <td></td>\n      <td>None</td>\n      <td>None</td>\n      <td>None</td>\n      <td>None</td>\n      <td>None</td>\n      <td>None</td>\n      <td>None</td>\n      <td>None</td>\n      <td>None</td>\n    </tr>\n    <tr>\n      <th>113</th>\n      <td>GG1</td>\n      <td>1</td>\n      <td>115</td>\n      <td>s77</td>\n      <td>18:56:19:JST</td>\n      <td>18:56:29:JST</td>\n      <td>10</td>\n      <td>12</td>\n      <td>2.199</td>\n      <td>2.199</td>\n      <td>...</td>\n      <td></td>\n      <td>None</td>\n      <td>None</td>\n      <td>None</td>\n      <td>None</td>\n      <td>None</td>\n      <td>None</td>\n      <td>None</td>\n      <td>None</td>\n      <td>None</td>\n    </tr>\n    <tr>\n      <th>114</th>\n      <td>GG1</td>\n      <td>1</td>\n      <td>116</td>\n      <td>s78</td>\n      <td>18:56:50:JST</td>\n      <td>18:57:00:JST</td>\n      <td>10</td>\n      <td>12</td>\n      <td>2.199</td>\n      <td>2.199</td>\n      <td>...</td>\n      <td></td>\n      <td>None</td>\n      <td>None</td>\n      <td>None</td>\n      <td>None</td>\n      <td>None</td>\n      <td>None</td>\n      <td>None</td>\n      <td>None</td>\n      <td>None</td>\n    </tr>\n  </tbody>\n</table>\n<p>115 rows × 32 columns</p>\n</div>"
     },
     "execution_count": 121,
     "metadata": {},
     "output_type": "execute_result"
    }
   ],
   "source": [
    "concatenated_df"
   ],
   "metadata": {
    "collapsed": false,
    "pycharm": {
     "name": "#%%\n"
    }
   }
  },
  {
   "cell_type": "code",
   "execution_count": 122,
   "outputs": [],
   "source": [
    "concatenated_df=concatenated_df.drop(concatenated_df.columns[[0,1,2,4,5,6,7,8,9,10,11,12,13,14,15,16,20,21,22,23,24,25,26,27,28,29,30]], axis=1)"
   ],
   "metadata": {
    "collapsed": false,
    "pycharm": {
     "name": "#%%\n"
    }
   }
  },
  {
   "cell_type": "code",
   "execution_count": 123,
   "outputs": [],
   "source": [
    "concatenated_df.to_csv(out_file,header=False, index=False)"
   ],
   "metadata": {
    "collapsed": false,
    "pycharm": {
     "name": "#%%\n"
    }
   }
  },
  {
   "cell_type": "markdown",
   "source": [
    "# df.query('cols in [\"GG1\",\"GG2\"]')\n",
    "# df.query('cols in [\"GG1\",\"GG2\"]').to_csv(out_file,header=False, index=False)\n",
    "df.query('cols in [\"GG1\",\"GG2\"]').to_csv(out_file,header=False, index=False)\n",
    "# df[df[0].str.contains(id)].to_csv(out_file,header=False, index=False)"
   ],
   "metadata": {
    "collapsed": false,
    "pycharm": {
     "name": "#%% md\n"
    }
   }
  },
  {
   "cell_type": "markdown",
   "source": [
    "FIN\n",
    "%%%%%%%%%%%%%%%%%%%%%%%%%%%%%%%%%%%%%%%%%%%%%"
   ],
   "metadata": {
    "collapsed": false,
    "pycharm": {
     "name": "#%% md\n"
    }
   }
  },
  {
   "cell_type": "code",
   "execution_count": 124,
   "outputs": [],
   "source": [
    "# concatenate horizontally"
   ],
   "metadata": {
    "collapsed": false,
    "pycharm": {
     "name": "#%%\n"
    }
   }
  },
  {
   "cell_type": "markdown",
   "source": [
    "# id='GNRMC'\n",
    "id=\"GG1|GG2\"\n"
   ],
   "metadata": {
    "collapsed": false,
    "pycharm": {
     "name": "#%% md\n"
    }
   }
  },
  {
   "cell_type": "markdown",
   "source": [
    "df"
   ],
   "metadata": {
    "collapsed": false,
    "pycharm": {
     "name": "#%% md\n"
    }
   }
  },
  {
   "cell_type": "markdown",
   "source": [
    "# oi=df.iloc[0]\n",
    "# print(oi)\n",
    "oi2=df.iloc[:,1]\n",
    "print(oi2)"
   ],
   "metadata": {
    "collapsed": false,
    "pycharm": {
     "name": "#%% md\n"
    }
   }
  },
  {
   "cell_type": "markdown",
   "source": [
    "# print(df[0].str.contains('$GNRMC'))\n",
    "# df[0].str.contains('GNRMC')\n",
    "df[0].str.contains(id)\n"
   ],
   "metadata": {
    "collapsed": false,
    "pycharm": {
     "name": "#%% md\n"
    }
   }
  },
  {
   "cell_type": "markdown",
   "source": [
    "\n",
    "# df[df[0].str.contains('GNRMC')].to_csv(\"2021-07-05_10_GNRMC.csv\",header=False, index=False)\n",
    "df[df[0].str.contains(id)].to_csv(out_file,header=False, index=False)"
   ],
   "metadata": {
    "collapsed": false,
    "pycharm": {
     "name": "#%% md\n"
    }
   }
  },
  {
   "cell_type": "markdown",
   "source": [
    "##################################################################\n",
    "#################################\n",
    "FIN"
   ],
   "metadata": {
    "collapsed": false
   }
  },
  {
   "cell_type": "markdown",
   "source": [
    "pd.options.display.max_rows = None\n",
    "pd.options.display.max_columns = None"
   ],
   "metadata": {
    "collapsed": false,
    "pycharm": {
     "name": "#%% md\n"
    }
   }
  },
  {
   "cell_type": "markdown",
   "source": [
    "# df = pd.read_csv('2021-07-04_16.csv', index_col=0)\n",
    "# df = pd.read_csv('2021-07-04_16.csv')\n",
    "df = pd.read_csv('2021-07-04_16.csv', header=None)\n",
    "print(df)"
   ],
   "metadata": {
    "collapsed": false,
    "pycharm": {
     "name": "#%% md\n"
    }
   }
  },
  {
   "cell_type": "markdown",
   "source": [
    "csvfile = '2021-07-05_07.nmea'\n",
    "f = open(csvfile, \"r\")\n",
    "reader = csv.reader(f)\n",
    "# header = next(reader)"
   ],
   "metadata": {
    "collapsed": false,
    "pycharm": {
     "name": "#%% md\n"
    }
   }
  },
  {
   "cell_type": "markdown",
   "source": [
    "for row in reader:\n",
    "        print(row)\n",
    "\n",
    "f.close()\n"
   ],
   "metadata": {
    "collapsed": false,
    "pycharm": {
     "name": "#%% md\n"
    }
   }
  },
  {
   "cell_type": "markdown",
   "source": [
    "# df[0].isin([GNRMC])\n"
   ],
   "metadata": {
    "collapsed": false,
    "pycharm": {
     "name": "#%% md\n"
    }
   }
  },
  {
   "cell_type": "markdown",
   "source": [
    "df.to_csv(\"GNRMMC_1.csv\")"
   ],
   "metadata": {
    "collapsed": false,
    "pycharm": {
     "name": "#%% md\n"
    }
   }
  },
  {
   "cell_type": "markdown",
   "source": [
    "type(kore)"
   ],
   "metadata": {
    "collapsed": false,
    "pycharm": {
     "name": "#%% md\n"
    }
   }
  },
  {
   "cell_type": "markdown",
   "source": [
    "print(df[df[0].str.contains('$GNRMC')])"
   ],
   "metadata": {
    "collapsed": false,
    "pycharm": {
     "name": "#%% md\n"
    }
   }
  },
  {
   "cell_type": "markdown",
   "source": [
    "df.iloc[5]"
   ],
   "metadata": {
    "collapsed": false,
    "pycharm": {
     "name": "#%% md\n"
    }
   }
  },
  {
   "cell_type": "markdown",
   "source": [
    "df.loc[\"$GNRMC\"]\n",
    "\n",
    "\n"
   ],
   "metadata": {
    "collapsed": false,
    "pycharm": {
     "name": "#%% md\n"
    }
   }
  }
 ],
 "metadata": {
  "kernelspec": {
   "display_name": "Python 3",
   "language": "python",
   "name": "python3"
  },
  "language_info": {
   "codemirror_mode": {
    "name": "ipython",
    "version": 2
   },
   "file_extension": ".py",
   "mimetype": "text/x-python",
   "name": "python",
   "nbconvert_exporter": "python",
   "pygments_lexer": "ipython2",
   "version": "2.7.6"
  }
 },
 "nbformat": 4,
 "nbformat_minor": 0
}