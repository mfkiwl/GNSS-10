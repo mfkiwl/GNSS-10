{
 "cells": [
  {
   "cell_type": "markdown",
   "metadata": {
    "collapsed": true,
    "pycharm": {
     "name": "#%% md\n"
    }
   },
   "source": [
    "# This is to convert from nmea to Plane Rectangular. Coordinate System by GSI(Geospatial Information Authority of Japan) HP.\n",
    "\n",
    "# 緯度経度(nmea)から平面直角座標へ国土地理院のHPで変換したい場合\n",
    "\n",
    "https://vldb.gsi.go.jp/sokuchi/surveycalc/surveycalc/bl2xyf.html"
   ]
  },
  {
   "cell_type": "markdown",
   "source": [
    "when calculate again,\n",
    "\n",
    "if you want\n",
    "\n",
    "%reset"
   ],
   "metadata": {
    "collapsed": false
   }
  },
  {
   "cell_type": "code",
   "execution_count": 7,
   "outputs": [
    {
     "data": {
      "text/plain": "'C:\\\\Users\\\\survey\\\\Dropbox\\\\My PC (SURVEY-C20)\\\\Documents\\\\GitHub\\\\GNSS'"
     },
     "execution_count": 7,
     "metadata": {},
     "output_type": "execute_result"
    }
   ],
   "source": [
    "#if you want\n",
    "#check current directory\n",
    "%pwd"
   ],
   "metadata": {
    "collapsed": false,
    "pycharm": {
     "name": "#%%\n"
    }
   }
  },
  {
   "cell_type": "code",
   "execution_count": 8,
   "outputs": [
    {
     "name": "stdout",
     "output_type": "stream",
     "text": [
      "C:\\Users\\survey\\Dropbox\\My PC (SURVEY-C20)\\Documents\\GitHub\\GNSS\n"
     ]
    }
   ],
   "source": [
    "#define working directroy\n",
    "# %cd C:\\\\Users\\\\survey\\\\Desktop\\\\nmea20210705\n",
    "%cd C:\\Users\\survey\\Dropbox\\My PC (SURVEY-C20)\\Documents\\GitHub\\GNSS"
   ],
   "metadata": {
    "collapsed": false,
    "pycharm": {
     "name": "#%%\n"
    }
   }
  },
  {
   "cell_type": "code",
   "execution_count": 9,
   "outputs": [
    {
     "name": "stdout",
     "output_type": "stream",
     "text": [
      " ドライブ C のボリューム ラベルがありません。\n",
      " ボリューム シリアル番号は 3C86-6F6B です\n",
      "\n",
      " C:\\Users\\survey\\Dropbox\\My PC (SURVEY-C20)\\Documents\\GitHub\\GNSS のディレクトリ\n",
      "\n",
      "2021/07/30  11:19    <DIR>          .\n",
      "2021/07/09  19:44    <DIR>          ..\n",
      "2021/07/10  15:42               214 .gitignore\n",
      "2021/07/30  11:01    <DIR>          .idea\n",
      "2021/06/29  17:26            11,672 bl2xy.in\n",
      "2021/06/29  17:35            27,627 bl2xy.out\n",
      "2021/07/10  18:16            31,846 con.csv\n",
      "2021/07/10  18:22            31,846 concon.csv\n",
      "2021/07/10  19:23            49,660 concon.xlsx\n",
      "2021/07/30  10:43    <DIR>          data\n",
      "2021/07/10  15:42             1,523 GG1.csv\n",
      "2021/07/10  15:42             1,357 GG2.csv\n",
      "2021/07/11  11:02            39,737 gnss_concate.ipynb\n",
      "2021/07/12  18:49            55,876 gnss_concate_vertical.ipynb\n",
      "2021/07/30  10:59            11,228 gnss_extract.ipynb\n",
      "2021/07/12  19:10            21,398 gnss_extract_nmea.ipynb\n",
      "2021/07/30  11:09            29,130 gnss_extract_nmea2gsi.ipynb\n",
      "2021/07/30  11:19             8,120 gnss_read.ipynb\n",
      "2021/07/30  11:17            14,572 gnss_xy_plot.ipynb\n",
      "2021/07/10  18:34             6,678 max.csv\n",
      "2021/07/10  16:03                82 README.md\n",
      "2021/07/10  19:43             8,581 takaku_only.csv\n",
      "              18 個のファイル             351,147 バイト\n",
      "               4 個のディレクトリ  667,763,597,312 バイトの空き領域\n"
     ]
    }
   ],
   "source": [
    "#check files\n",
    "%ls"
   ],
   "metadata": {
    "collapsed": false,
    "pycharm": {
     "name": "#%%\n"
    }
   }
  },
  {
   "cell_type": "code",
   "execution_count": 10,
   "outputs": [],
   "source": [
    "import pandas as pd\n",
    "import matplotlib.pyplot as plt\n",
    "import numpy as np\n",
    "import csv"
   ],
   "metadata": {
    "collapsed": false,
    "pycharm": {
     "name": "#%%\n"
    }
   }
  },
  {
   "cell_type": "code",
   "execution_count": 11,
   "outputs": [],
   "source": [
    "inp_file=\"C:\\\\Users\\survey\\Desktop\\\\nmea20210705\\\\2021-07-05_09.nmea\""
   ],
   "metadata": {
    "collapsed": false,
    "pycharm": {
     "name": "#%%\n"
    }
   }
  },
  {
   "cell_type": "code",
   "execution_count": 12,
   "outputs": [],
   "source": [
    "enc_sty=\"UTF-8\"\n",
    "\n",
    "# enc_sty=\"shift_jis\"\n"
   ],
   "metadata": {
    "collapsed": false,
    "pycharm": {
     "name": "#%%\n"
    }
   }
  },
  {
   "cell_type": "code",
   "execution_count": 13,
   "outputs": [],
   "source": [
    "# with open(\"2021-07-05_10.nmea\", \"r\", encoding=\"UTF-8\", errors=\"\", newline=\"\" ) as f:\n",
    "# with open(inp_file, \"r\", encoding=\"UTF-8\", errors=\"\", newline=\"\" ) as f:\n",
    "with open(inp_file, \"r\", encoding=enc_sty, errors=\"\", newline=\"\" ) as f:\n",
    "    lst = csv.reader(f, delimiter=\",\")\n",
    "    # df = pd.DataFrame(lst).rename(columns={0:'ID',1:'time',2:'de',3:'lat',5:'lon',7:'knot',9:'date',12:'mode'})\n",
    "    df = pd.DataFrame(lst)"
   ],
   "metadata": {
    "collapsed": false,
    "pycharm": {
     "name": "#%%\n"
    }
   }
  },
  {
   "cell_type": "code",
   "execution_count": 14,
   "outputs": [
    {
     "data": {
      "text/plain": "            0          1             2             3              4   \\\n0       $GNRMC  000145.00             V                                \n1       $GNVTG                                                         \n2       $GNGGA  000145.00                                              \n3       $GNGSA          A             1                                \n4       $GNGSA          A             1                                \n...        ...        ...           ...           ...            ...   \n468483  $GNRMC  005959.75             A  3511.0128894              N   \n468484  $GNVTG                        T                            M   \n468485  $GNGGA  005959.75  3511.0128894             N  13707.1113740   \n468486  $GNGSA          A             3            07             08   \n468487  $GNGSA          A             3            68             69   \n\n                   5   6      7      8        9   ...    40    41    42    43  \\\n0                                         050721  ...  None  None  None  None   \n1                                           N*2E  ...  None  None  None  None   \n2                       0     00  99.99           ...  None  None  None  None   \n3                                                 ...  None  None  None  None   \n4                                                 ...  None  None  None  None   \n...               ...  ..    ...    ...      ...  ...   ...   ...   ...   ...   \n468483  13707.1113740   E  0.081          050721  ...  None  None  None  None   \n468484          0.081   N  0.150      K     D*35  ...  None  None  None  None   \n468485              E   4     12   0.76  192.520  ...  None  None  None  None   \n468486             21  27     22     14       30  ...  None  None  None  None   \n468487             74  73     85     84           ...  None  None  None  None   \n\n          44    45    46    47    48    49  \n0       None  None  None  None  None  None  \n1       None  None  None  None  None  None  \n2       None  None  None  None  None  None  \n3       None  None  None  None  None  None  \n4       None  None  None  None  None  None  \n...      ...   ...   ...   ...   ...   ...  \n468483  None  None  None  None  None  None  \n468484  None  None  None  None  None  None  \n468485  None  None  None  None  None  None  \n468486  None  None  None  None  None  None  \n468487  None  None  None  None  None  None  \n\n[468488 rows x 50 columns]",
      "text/html": "<div>\n<style scoped>\n    .dataframe tbody tr th:only-of-type {\n        vertical-align: middle;\n    }\n\n    .dataframe tbody tr th {\n        vertical-align: top;\n    }\n\n    .dataframe thead th {\n        text-align: right;\n    }\n</style>\n<table border=\"1\" class=\"dataframe\">\n  <thead>\n    <tr style=\"text-align: right;\">\n      <th></th>\n      <th>0</th>\n      <th>1</th>\n      <th>2</th>\n      <th>3</th>\n      <th>4</th>\n      <th>5</th>\n      <th>6</th>\n      <th>7</th>\n      <th>8</th>\n      <th>9</th>\n      <th>...</th>\n      <th>40</th>\n      <th>41</th>\n      <th>42</th>\n      <th>43</th>\n      <th>44</th>\n      <th>45</th>\n      <th>46</th>\n      <th>47</th>\n      <th>48</th>\n      <th>49</th>\n    </tr>\n  </thead>\n  <tbody>\n    <tr>\n      <th>0</th>\n      <td>$GNRMC</td>\n      <td>000145.00</td>\n      <td>V</td>\n      <td></td>\n      <td></td>\n      <td></td>\n      <td></td>\n      <td></td>\n      <td></td>\n      <td>050721</td>\n      <td>...</td>\n      <td>None</td>\n      <td>None</td>\n      <td>None</td>\n      <td>None</td>\n      <td>None</td>\n      <td>None</td>\n      <td>None</td>\n      <td>None</td>\n      <td>None</td>\n      <td>None</td>\n    </tr>\n    <tr>\n      <th>1</th>\n      <td>$GNVTG</td>\n      <td></td>\n      <td></td>\n      <td></td>\n      <td></td>\n      <td></td>\n      <td></td>\n      <td></td>\n      <td></td>\n      <td>N*2E</td>\n      <td>...</td>\n      <td>None</td>\n      <td>None</td>\n      <td>None</td>\n      <td>None</td>\n      <td>None</td>\n      <td>None</td>\n      <td>None</td>\n      <td>None</td>\n      <td>None</td>\n      <td>None</td>\n    </tr>\n    <tr>\n      <th>2</th>\n      <td>$GNGGA</td>\n      <td>000145.00</td>\n      <td></td>\n      <td></td>\n      <td></td>\n      <td></td>\n      <td>0</td>\n      <td>00</td>\n      <td>99.99</td>\n      <td></td>\n      <td>...</td>\n      <td>None</td>\n      <td>None</td>\n      <td>None</td>\n      <td>None</td>\n      <td>None</td>\n      <td>None</td>\n      <td>None</td>\n      <td>None</td>\n      <td>None</td>\n      <td>None</td>\n    </tr>\n    <tr>\n      <th>3</th>\n      <td>$GNGSA</td>\n      <td>A</td>\n      <td>1</td>\n      <td></td>\n      <td></td>\n      <td></td>\n      <td></td>\n      <td></td>\n      <td></td>\n      <td></td>\n      <td>...</td>\n      <td>None</td>\n      <td>None</td>\n      <td>None</td>\n      <td>None</td>\n      <td>None</td>\n      <td>None</td>\n      <td>None</td>\n      <td>None</td>\n      <td>None</td>\n      <td>None</td>\n    </tr>\n    <tr>\n      <th>4</th>\n      <td>$GNGSA</td>\n      <td>A</td>\n      <td>1</td>\n      <td></td>\n      <td></td>\n      <td></td>\n      <td></td>\n      <td></td>\n      <td></td>\n      <td></td>\n      <td>...</td>\n      <td>None</td>\n      <td>None</td>\n      <td>None</td>\n      <td>None</td>\n      <td>None</td>\n      <td>None</td>\n      <td>None</td>\n      <td>None</td>\n      <td>None</td>\n      <td>None</td>\n    </tr>\n    <tr>\n      <th>...</th>\n      <td>...</td>\n      <td>...</td>\n      <td>...</td>\n      <td>...</td>\n      <td>...</td>\n      <td>...</td>\n      <td>...</td>\n      <td>...</td>\n      <td>...</td>\n      <td>...</td>\n      <td>...</td>\n      <td>...</td>\n      <td>...</td>\n      <td>...</td>\n      <td>...</td>\n      <td>...</td>\n      <td>...</td>\n      <td>...</td>\n      <td>...</td>\n      <td>...</td>\n      <td>...</td>\n    </tr>\n    <tr>\n      <th>468483</th>\n      <td>$GNRMC</td>\n      <td>005959.75</td>\n      <td>A</td>\n      <td>3511.0128894</td>\n      <td>N</td>\n      <td>13707.1113740</td>\n      <td>E</td>\n      <td>0.081</td>\n      <td></td>\n      <td>050721</td>\n      <td>...</td>\n      <td>None</td>\n      <td>None</td>\n      <td>None</td>\n      <td>None</td>\n      <td>None</td>\n      <td>None</td>\n      <td>None</td>\n      <td>None</td>\n      <td>None</td>\n      <td>None</td>\n    </tr>\n    <tr>\n      <th>468484</th>\n      <td>$GNVTG</td>\n      <td></td>\n      <td>T</td>\n      <td></td>\n      <td>M</td>\n      <td>0.081</td>\n      <td>N</td>\n      <td>0.150</td>\n      <td>K</td>\n      <td>D*35</td>\n      <td>...</td>\n      <td>None</td>\n      <td>None</td>\n      <td>None</td>\n      <td>None</td>\n      <td>None</td>\n      <td>None</td>\n      <td>None</td>\n      <td>None</td>\n      <td>None</td>\n      <td>None</td>\n    </tr>\n    <tr>\n      <th>468485</th>\n      <td>$GNGGA</td>\n      <td>005959.75</td>\n      <td>3511.0128894</td>\n      <td>N</td>\n      <td>13707.1113740</td>\n      <td>E</td>\n      <td>4</td>\n      <td>12</td>\n      <td>0.76</td>\n      <td>192.520</td>\n      <td>...</td>\n      <td>None</td>\n      <td>None</td>\n      <td>None</td>\n      <td>None</td>\n      <td>None</td>\n      <td>None</td>\n      <td>None</td>\n      <td>None</td>\n      <td>None</td>\n      <td>None</td>\n    </tr>\n    <tr>\n      <th>468486</th>\n      <td>$GNGSA</td>\n      <td>A</td>\n      <td>3</td>\n      <td>07</td>\n      <td>08</td>\n      <td>21</td>\n      <td>27</td>\n      <td>22</td>\n      <td>14</td>\n      <td>30</td>\n      <td>...</td>\n      <td>None</td>\n      <td>None</td>\n      <td>None</td>\n      <td>None</td>\n      <td>None</td>\n      <td>None</td>\n      <td>None</td>\n      <td>None</td>\n      <td>None</td>\n      <td>None</td>\n    </tr>\n    <tr>\n      <th>468487</th>\n      <td>$GNGSA</td>\n      <td>A</td>\n      <td>3</td>\n      <td>68</td>\n      <td>69</td>\n      <td>74</td>\n      <td>73</td>\n      <td>85</td>\n      <td>84</td>\n      <td></td>\n      <td>...</td>\n      <td>None</td>\n      <td>None</td>\n      <td>None</td>\n      <td>None</td>\n      <td>None</td>\n      <td>None</td>\n      <td>None</td>\n      <td>None</td>\n      <td>None</td>\n      <td>None</td>\n    </tr>\n  </tbody>\n</table>\n<p>468488 rows × 50 columns</p>\n</div>"
     },
     "execution_count": 14,
     "metadata": {},
     "output_type": "execute_result"
    }
   ],
   "source": [
    "df"
   ],
   "metadata": {
    "collapsed": false,
    "pycharm": {
     "name": "#%%\n"
    }
   }
  }
 ],
 "metadata": {
  "kernelspec": {
   "display_name": "Python 3",
   "language": "python",
   "name": "python3"
  },
  "language_info": {
   "codemirror_mode": {
    "name": "ipython",
    "version": 2
   },
   "file_extension": ".py",
   "mimetype": "text/x-python",
   "name": "python",
   "nbconvert_exporter": "python",
   "pygments_lexer": "ipython2",
   "version": "2.7.6"
  }
 },
 "nbformat": 4,
 "nbformat_minor": 0
}