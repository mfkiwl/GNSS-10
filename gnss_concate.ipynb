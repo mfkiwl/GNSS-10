{
 "cells": [
  {
   "cell_type": "markdown",
   "source": [
    "dataframe1 = pd.DataFrame([[1, 2], [4, 5]])\n",
    "\n",
    "dataframe2 = pd.DataFrame([[2, 1], [5, 4]])\n",
    "\n",
    "concatenated_dataframes = pd.concat([dataframe1, dataframe2], axis=1)"
   ],
   "metadata": {
    "collapsed": false,
    "pycharm": {
     "name": "#%% md\n"
    }
   }
  },
  {
   "cell_type": "markdown",
   "source": [
    "#when calculate again, you need\n",
    "\n",
    "%reset"
   ],
   "metadata": {
    "collapsed": false,
    "pycharm": {
     "name": "#%% md\n"
    }
   }
  },
  {
   "cell_type": "code",
   "execution_count": 16,
   "outputs": [
    {
     "data": {
      "text/plain": "'C:\\\\Users\\\\survey\\\\Desktop\\\\nmea20210705'"
     },
     "execution_count": 16,
     "metadata": {},
     "output_type": "execute_result"
    }
   ],
   "source": [
    "#check current directory\n",
    "%pwd"
   ],
   "metadata": {
    "collapsed": false,
    "pycharm": {
     "name": "#%%\n"
    }
   }
  },
  {
   "cell_type": "code",
   "execution_count": 29,
   "outputs": [
    {
     "name": "stdout",
     "output_type": "stream",
     "text": [
      "C:\\Users\\survey\\Dropbox\\My PC (SURVEY-C20)\\Documents\\GitHub\\GNSS\n"
     ]
    }
   ],
   "source": [
    "#define working directroy\n",
    "# %cd C:\\\\Users\\\\survey\\\\Desktop\\\\nmea20210705\n",
    "%cd C:\\Users\\survey\\Dropbox\\My PC (SURVEY-C20)\\Documents\\GitHub\\GNSS"
   ],
   "metadata": {
    "collapsed": false,
    "pycharm": {
     "name": "#%%\n"
    }
   }
  },
  {
   "cell_type": "code",
   "execution_count": 30,
   "outputs": [
    {
     "name": "stdout",
     "output_type": "stream",
     "text": [
      " ドライブ C のボリューム ラベルがありません。\n",
      " ボリューム シリアル番号は 3C86-6F6B です\n",
      "\n",
      " C:\\Users\\survey\\Dropbox\\My PC (SURVEY-C20)\\Documents\\GitHub\\GNSS のディレクトリ\n",
      "\n",
      "2021/07/09  20:08    <DIR>          .\n",
      "2021/07/09  19:44    <DIR>          ..\n",
      "2021/07/09  19:17               195 .gitignore\n",
      "2021/07/09  20:06    <DIR>          .idea\n",
      "2021/07/09  20:08            13,944 gnss.ipynb\n",
      "2021/07/09  20:00                46 README.md\n",
      "2021/07/09  18:49            60,812 VRS直_2021-07-05-12-48-07.rtk\n",
      "               4 個のファイル              74,997 バイト\n",
      "               3 個のディレクトリ  1,048,534,614,016 バイトの空き領域\n"
     ]
    }
   ],
   "source": [
    "#check files\n",
    "%ls"
   ],
   "metadata": {
    "collapsed": false,
    "pycharm": {
     "name": "#%%\n"
    }
   }
  },
  {
   "cell_type": "code",
   "execution_count": 31,
   "outputs": [],
   "source": [
    "import pandas as pd\n",
    "import csv"
   ],
   "metadata": {
    "collapsed": false,
    "pycharm": {
     "name": "#%%\n"
    }
   }
  },
  {
   "cell_type": "code",
   "execution_count": 114,
   "outputs": [],
   "source": [
    "# inp_file=\"2021-07-05_10.nmea\"\n",
    "# inp_file=\"VRS直_2021-07-05-12-48-07.rtk\"\n",
    "inp_file=\"VRS直_2021-06-27-11-45-43.rtk\""
   ],
   "metadata": {
    "collapsed": false,
    "pycharm": {
     "name": "#%%\n"
    }
   }
  },
  {
   "cell_type": "code",
   "execution_count": 115,
   "outputs": [
    {
     "data": {
      "text/plain": "'VRS直_2021-06-27-11-45-43'"
     },
     "execution_count": 115,
     "metadata": {},
     "output_type": "execute_result"
    }
   ],
   "source": [
    "type(inp_file)\n",
    "base_name=inp_file.split('.',1)[0]\n",
    "base_name\n",
    "# inp_file=\"VRS直_2021-07-05-12-48-07_get.rtk\""
   ],
   "metadata": {
    "collapsed": false,
    "pycharm": {
     "name": "#%%\n"
    }
   }
  },
  {
   "cell_type": "code",
   "execution_count": 116,
   "outputs": [
    {
     "data": {
      "text/plain": "'VRS直_2021-06-27-11-45-43_get.rtk'"
     },
     "execution_count": 116,
     "metadata": {},
     "output_type": "execute_result"
    }
   ],
   "source": [
    "# make output filename from input file automatically\n",
    "\n",
    "# out_file=\"2021-07-05_10_GNRMC_out_test.csv\"\n",
    "# out_file=\"VRS直_2021-07-05-12-48-07_get.rtk\"\n",
    "out_file=base_name+\"_get.rtk\"\n",
    "out_file\n",
    "# out_file=\"VRS直_2021-07-05-12-48-07_get.rtk\""
   ],
   "metadata": {
    "collapsed": false,
    "pycharm": {
     "name": "#%%\n"
    }
   }
  },
  {
   "cell_type": "code",
   "execution_count": null,
   "outputs": [],
   "source": [
    "# enc_sty=\"UTF-8\"\n",
    "enc_sty=\"shift_jis\""
   ],
   "metadata": {
    "collapsed": false,
    "pycharm": {
     "name": "#%%\n"
    }
   }
  },
  {
   "cell_type": "code",
   "execution_count": 117,
   "outputs": [],
   "source": [
    "# with open(\"2021-07-05_10.nmea\", \"r\", encoding=\"UTF-8\", errors=\"\", newline=\"\" ) as f:\n",
    "# with open(inp_file, \"r\", encoding=\"UTF-8\", errors=\"\", newline=\"\" ) as f:\n",
    "with open(inp_file, \"r\", encoding=enc_sty, errors=\"\", newline=\"\" ) as f:\n",
    "    lst = csv.reader(f, delimiter=\",\")\n",
    "    df = pd.DataFrame(lst).rename(columns={0:'cols'})\n",
    "    # df = pd.DataFrame(lst)"
   ],
   "metadata": {
    "collapsed": false,
    "pycharm": {
     "name": "#%%\n"
    }
   }
  },
  {
   "cell_type": "code",
   "execution_count": 118,
   "outputs": [],
   "source": [
    "df_1=df.query('cols in [\"GG1\"]')"
   ],
   "metadata": {
    "collapsed": false,
    "pycharm": {
     "name": "#%%\n"
    }
   }
  },
  {
   "cell_type": "code",
   "execution_count": null,
   "outputs": [],
   "source": [
    "df_2=df.query('cols in [\"GG2\"]')"
   ],
   "metadata": {
    "collapsed": false,
    "pycharm": {
     "name": "#%%\n"
    }
   }
  },
  {
   "cell_type": "code",
   "execution_count": null,
   "outputs": [],
   "source": [
    "concatenated_dataframes = pd.concat([dataframe1, dataframe2], axis=1)"
   ],
   "metadata": {
    "collapsed": false,
    "pycharm": {
     "name": "#%%\n"
    }
   }
  },
  {
   "cell_type": "code",
   "execution_count": null,
   "outputs": [],
   "source": [
    "# df.query('cols in [\"GG1\",\"GG2\"]')\n",
    "# df.query('cols in [\"GG1\",\"GG2\"]').to_csv(out_file,header=False, index=False)\n",
    "df.query('cols in [\"GG1\",\"GG2\"]').to_csv(out_file,header=False, index=False)\n",
    "# df[df[0].str.contains(id)].to_csv(out_file,header=False, index=False)"
   ],
   "metadata": {
    "collapsed": false,
    "pycharm": {
     "name": "#%%\n"
    }
   }
  },
  {
   "cell_type": "markdown",
   "source": [
    "FIN\n",
    "%%%%%%%%%%%%%%%%%%%%%%%%%%%%%%%%%%%%%%%%%%%%%"
   ],
   "metadata": {
    "collapsed": false,
    "pycharm": {
     "name": "#%% md\n"
    }
   }
  },
  {
   "cell_type": "code",
   "execution_count": null,
   "outputs": [],
   "source": [
    "# concatenate horizontally"
   ],
   "metadata": {
    "collapsed": false,
    "pycharm": {
     "name": "#%%\n"
    }
   }
  },
  {
   "cell_type": "markdown",
   "source": [
    "# id='GNRMC'\n",
    "id=\"GG1|GG2\"\n"
   ],
   "metadata": {
    "collapsed": false,
    "pycharm": {
     "name": "#%% md\n"
    }
   }
  },
  {
   "cell_type": "markdown",
   "source": [
    "df"
   ],
   "metadata": {
    "collapsed": false,
    "pycharm": {
     "name": "#%% md\n"
    }
   }
  },
  {
   "cell_type": "markdown",
   "source": [
    "# oi=df.iloc[0]\n",
    "# print(oi)\n",
    "oi2=df.iloc[:,1]\n",
    "print(oi2)"
   ],
   "metadata": {
    "collapsed": false,
    "pycharm": {
     "name": "#%% md\n"
    }
   }
  },
  {
   "cell_type": "markdown",
   "source": [
    "# print(df[0].str.contains('$GNRMC'))\n",
    "# df[0].str.contains('GNRMC')\n",
    "df[0].str.contains(id)\n"
   ],
   "metadata": {
    "collapsed": false,
    "pycharm": {
     "name": "#%% md\n"
    }
   }
  },
  {
   "cell_type": "markdown",
   "source": [
    "\n",
    "# df[df[0].str.contains('GNRMC')].to_csv(\"2021-07-05_10_GNRMC.csv\",header=False, index=False)\n",
    "df[df[0].str.contains(id)].to_csv(out_file,header=False, index=False)"
   ],
   "metadata": {
    "collapsed": false,
    "pycharm": {
     "name": "#%% md\n"
    }
   }
  },
  {
   "cell_type": "markdown",
   "source": [
    "##################################################################\n",
    "#################################\n",
    "FIN"
   ],
   "metadata": {
    "collapsed": false
   }
  },
  {
   "cell_type": "markdown",
   "source": [
    "pd.options.display.max_rows = None\n",
    "pd.options.display.max_columns = None"
   ],
   "metadata": {
    "collapsed": false,
    "pycharm": {
     "name": "#%% md\n"
    }
   }
  },
  {
   "cell_type": "markdown",
   "source": [
    "# df = pd.read_csv('2021-07-04_16.csv', index_col=0)\n",
    "# df = pd.read_csv('2021-07-04_16.csv')\n",
    "df = pd.read_csv('2021-07-04_16.csv', header=None)\n",
    "print(df)"
   ],
   "metadata": {
    "collapsed": false,
    "pycharm": {
     "name": "#%% md\n"
    }
   }
  },
  {
   "cell_type": "markdown",
   "source": [
    "csvfile = '2021-07-05_07.nmea'\n",
    "f = open(csvfile, \"r\")\n",
    "reader = csv.reader(f)\n",
    "# header = next(reader)"
   ],
   "metadata": {
    "collapsed": false,
    "pycharm": {
     "name": "#%% md\n"
    }
   }
  },
  {
   "cell_type": "markdown",
   "source": [
    "for row in reader:\n",
    "        print(row)\n",
    "\n",
    "f.close()\n"
   ],
   "metadata": {
    "collapsed": false,
    "pycharm": {
     "name": "#%% md\n"
    }
   }
  },
  {
   "cell_type": "markdown",
   "source": [
    "# df[0].isin([GNRMC])\n"
   ],
   "metadata": {
    "collapsed": false,
    "pycharm": {
     "name": "#%% md\n"
    }
   }
  },
  {
   "cell_type": "markdown",
   "source": [
    "df.to_csv(\"GNRMMC_1.csv\")"
   ],
   "metadata": {
    "collapsed": false,
    "pycharm": {
     "name": "#%% md\n"
    }
   }
  },
  {
   "cell_type": "markdown",
   "source": [
    "type(kore)"
   ],
   "metadata": {
    "collapsed": false,
    "pycharm": {
     "name": "#%% md\n"
    }
   }
  },
  {
   "cell_type": "markdown",
   "source": [
    "print(df[df[0].str.contains('$GNRMC')])"
   ],
   "metadata": {
    "collapsed": false,
    "pycharm": {
     "name": "#%% md\n"
    }
   }
  },
  {
   "cell_type": "markdown",
   "source": [
    "df.iloc[5]"
   ],
   "metadata": {
    "collapsed": false,
    "pycharm": {
     "name": "#%% md\n"
    }
   }
  },
  {
   "cell_type": "markdown",
   "source": [
    "df.loc[\"$GNRMC\"]\n",
    "\n",
    "\n"
   ],
   "metadata": {
    "collapsed": false,
    "pycharm": {
     "name": "#%% md\n"
    }
   }
  }
 ],
 "metadata": {
  "kernelspec": {
   "display_name": "Python 3",
   "language": "python",
   "name": "python3"
  },
  "language_info": {
   "codemirror_mode": {
    "name": "ipython",
    "version": 2
   },
   "file_extension": ".py",
   "mimetype": "text/x-python",
   "name": "python",
   "nbconvert_exporter": "python",
   "pygments_lexer": "ipython2",
   "version": "2.7.6"
  }
 },
 "nbformat": 4,
 "nbformat_minor": 0
}