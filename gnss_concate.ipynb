{
 "cells": [
  {
   "cell_type": "markdown",
   "source": [
    "# pandas\n",
    "https://pandas.pydata.org/docs/reference/api/pandas.DataFrame.html"
   ],
   "metadata": {
    "collapsed": false,
    "pycharm": {
     "name": "#%% md\n"
    }
   }
  },
  {
   "cell_type": "markdown",
   "source": [
    "1.QZNEO\n",
    "2.Trimble"
   ],
   "metadata": {
    "collapsed": false,
    "pycharm": {
     "name": "#%% md\n"
    }
   }
  },
  {
   "cell_type": "markdown",
   "source": [
    "#when calculate again, you need\n",
    "\n",
    "%reset"
   ],
   "metadata": {
    "collapsed": false,
    "pycharm": {
     "name": "#%% md\n"
    }
   }
  },
  {
   "cell_type": "code",
   "execution_count": 104,
   "outputs": [
    {
     "data": {
      "text/plain": "'C:\\\\Users\\\\survey\\\\Dropbox\\\\My PC (SURVEY-C20)\\\\Documents\\\\GitHub\\\\GNSS'"
     },
     "execution_count": 104,
     "metadata": {},
     "output_type": "execute_result"
    }
   ],
   "source": [
    "#check current directory\n",
    "%pwd"
   ],
   "metadata": {
    "collapsed": false,
    "pycharm": {
     "name": "#%%\n"
    }
   }
  },
  {
   "cell_type": "markdown",
   "source": [
    "#define working directroy\n",
    "# %cd C:\\\\Users\\\\survey\\\\Desktop\\\\nmea20210705\n",
    "\n",
    "%cd C:\\Users\\survey\\Dropbox\\My PC (SURVEY-C20)\\Documents\\GitHub\\GNSS"
   ],
   "metadata": {
    "collapsed": false,
    "pycharm": {
     "name": "#%% md\n"
    }
   }
  },
  {
   "cell_type": "code",
   "execution_count": 105,
   "outputs": [
    {
     "name": "stdout",
     "output_type": "stream",
     "text": [
      " ドライブ C のボリューム ラベルがありません。\n",
      " ボリューム シリアル番号は 3C86-6F6B です\n",
      "\n",
      " C:\\Users\\survey\\Dropbox\\My PC (SURVEY-C20)\\Documents\\GitHub\\GNSS のディレクトリ\n",
      "\n",
      "2021/07/10  17:20    <DIR>          .\n",
      "2021/07/09  19:44    <DIR>          ..\n",
      "2021/07/10  15:42               214 .gitignore\n",
      "2021/07/10  17:10    <DIR>          .idea\n",
      "2021/07/10  15:42             1,523 GG1.csv\n",
      "2021/07/10  15:42             1,357 GG2.csv\n",
      "2021/07/10  17:20            36,102 gnss_concate.ipynb\n",
      "2021/07/10  15:58            10,387 gnss_extract.ipynb\n",
      "2021/07/10  16:03                82 README.md\n",
      "2018/03/18  11:24             3,454 VRS単_2018-03-18-11-24-13.rtk\n",
      "2021/07/10  17:17               228 VRS単_2018-03-18-11-24-13_get_concate.rtk\n",
      "2018/05/28  21:00            29,291 VRS直_2018-05-28-21-00-28.rtk\n",
      "2021/07/10  17:18             1,982 VRS直_2018-05-28-21-00-28_get_concate.rtk\n",
      "2018/06/24  14:02            66,904 VRS直_2018-06-24-14-02-18.rtk\n",
      "2021/07/10  17:18             4,584 VRS直_2018-06-24-14-02-18_get_concate.rtk\n",
      "2018/07/11  20:01            51,198 VRS直_2018-07-11-20-00-59.rtk\n",
      "2021/07/10  17:19             3,536 VRS直_2018-07-11-20-00-59_get_concate.rtk\n",
      "2021/07/09  21:19            12,733 VRS直_2021-06-27-11-45-43.rtk\n",
      "2021/07/09  21:30             2,880 VRS直_2021-06-27-11-45-43_get.rtk\n",
      "2021/07/09  21:32            14,536 VRS直_2021-06-27-11-45-43_get.rtk.xlsx\n",
      "2021/07/10  17:09               790 VRS直_2021-06-27-11-45-43_get_concate.rtk\n",
      "2021/07/09  18:49            60,812 VRS直_2021-07-05-12-48-07.rtk\n",
      "2021/07/09  21:07            14,497 VRS直_2021-07-05-12-48-07_get.rtk\n",
      "2021/07/09  21:35            31,534 VRS直_2021-07-05-12-48-07_get.rtk.xlsx\n",
      "              21 個のファイル             348,624 バイト\n",
      "               3 個のディレクトリ  1,044,778,864,640 バイトの空き領域\n"
     ]
    }
   ],
   "source": [
    "#check files\n",
    "%ls"
   ],
   "metadata": {
    "collapsed": false,
    "pycharm": {
     "name": "#%%\n"
    }
   }
  },
  {
   "cell_type": "code",
   "execution_count": 106,
   "outputs": [],
   "source": [
    "import pandas as pd\n",
    "import csv"
   ],
   "metadata": {
    "collapsed": false,
    "pycharm": {
     "name": "#%%\n"
    }
   }
  },
  {
   "cell_type": "code",
   "execution_count": 107,
   "outputs": [],
   "source": [
    "# define the input file\n",
    "\n",
    "# inp_file=\"2021-07-05_10.nmea\"\n",
    "# inp_file=\"VRS直_2021-07-05-12-48-07.rtk\"\n",
    "inp_file=\"VRS直_2021-07-05-12-48-07.rtk\""
   ],
   "metadata": {
    "collapsed": false,
    "pycharm": {
     "name": "#%%\n"
    }
   }
  },
  {
   "cell_type": "code",
   "execution_count": 108,
   "outputs": [
    {
     "data": {
      "text/plain": "'VRS直_2021-07-05-12-48-07'"
     },
     "execution_count": 108,
     "metadata": {},
     "output_type": "execute_result"
    }
   ],
   "source": [
    "# type(inp_file)\n",
    "base_name=inp_file.split('.',1)[0]\n",
    "# type(base_name)\n",
    "base_name\n",
    "# inp_file=\"VRS直_2021-07-05-12-48-07_get.rtk\""
   ],
   "metadata": {
    "collapsed": false,
    "pycharm": {
     "name": "#%%\n"
    }
   }
  },
  {
   "cell_type": "code",
   "execution_count": 109,
   "outputs": [
    {
     "data": {
      "text/plain": "'VRS直_2021-07-05-12-48-07_get_concate.rtk'"
     },
     "execution_count": 109,
     "metadata": {},
     "output_type": "execute_result"
    }
   ],
   "source": [
    "# make output filename from input file automatically\n",
    "\n",
    "# out_file=\"2021-07-05_10_GNRMC_out_test.csv\"\n",
    "# out_file=\"VRS直_2021-07-05-12-48-07_get.rtk\"\n",
    "out_file=base_name+\"_get_concate.rtk\"\n",
    "out_file\n",
    "# out_file=\"VRS直_2021-07-05-12-48-07_get.rtk\""
   ],
   "metadata": {
    "collapsed": false,
    "pycharm": {
     "name": "#%%\n"
    }
   }
  },
  {
   "cell_type": "code",
   "execution_count": 110,
   "outputs": [],
   "source": [
    "# enc_sty=\"UTF-8\"\n",
    "enc_sty=\"shift_jis\""
   ],
   "metadata": {
    "collapsed": false,
    "pycharm": {
     "name": "#%%\n"
    }
   }
  },
  {
   "cell_type": "code",
   "execution_count": 111,
   "outputs": [],
   "source": [
    "# with open(\"2021-07-05_10.nmea\", \"r\", encoding=\"UTF-8\", errors=\"\", newline=\"\" ) as f:\n",
    "# with open(inp_file, \"r\", encoding=\"UTF-8\", errors=\"\", newline=\"\" ) as f:\n",
    "with open(inp_file, \"r\", encoding=enc_sty, errors=\"\", newline=\"\" ) as f:\n",
    "    lst = csv.reader(f, delimiter=\",\")\n",
    "    df = pd.DataFrame(lst).rename(columns={0:'cols'})\n",
    "    # df = pd.DataFrame(lst)"
   ],
   "metadata": {
    "collapsed": false,
    "pycharm": {
     "name": "#%%\n"
    }
   }
  },
  {
   "cell_type": "code",
   "execution_count": 112,
   "outputs": [],
   "source": [
    "df_1=df.query('cols in [\"GG1\"]')\n",
    "# df_1_new=df_1.drop(df.columns[[1,2,4,5,6,7,8,9,10,11,12,13,14,15]], axis=1)\n",
    "# df_1_new=df_1.rename(columns={3:no})\n",
    "# df_1.to_csv(\"GG1.csv\",header=False, index=False)\n",
    "# type(df_1)"
   ],
   "metadata": {
    "collapsed": false,
    "pycharm": {
     "name": "#%%\n"
    }
   }
  },
  {
   "cell_type": "code",
   "execution_count": 113,
   "outputs": [],
   "source": [
    "# df_1_new"
   ],
   "metadata": {
    "collapsed": false,
    "pycharm": {
     "name": "#%%\n"
    }
   }
  },
  {
   "cell_type": "code",
   "execution_count": 114,
   "outputs": [],
   "source": [
    "df_1 = df_1.reset_index(drop=True)"
   ],
   "metadata": {
    "collapsed": false,
    "pycharm": {
     "name": "#%%\n"
    }
   }
  },
  {
   "cell_type": "code",
   "execution_count": 115,
   "outputs": [
    {
     "data": {
      "text/plain": "    cols  1    2    3             4             5   6   7      8      9 10  \\\n0    GG1  1    2   57  14:50:05:JST  14:50:15:JST  10  11  2.199  2.199      \n1    GG1  1    3   65  14:52:41:JST  14:52:51:JST  10  11  2.199  2.199      \n2    GG1  1    4  197  14:54:46:JST  14:54:55:JST  10  11  2.199  2.199      \n3    GG1  1    5   54  14:57:04:JST  14:57:15:JST  10  10  2.199  2.199      \n4    GG1  1    6   55  14:58:18:JST  14:58:28:JST  10  10  2.199  2.199      \n..   ... ..  ...  ...           ...           ...  ..  ..    ...    ... ..   \n110  GG1  1  112  s74  18:54:47:JST  18:54:57:JST  10  13  2.199  2.199      \n111  GG1  1  113  s75  18:55:11:JST  18:55:21:JST  10  13  2.199  2.199      \n112  GG1  1  114  s76  18:55:47:JST  18:55:57:JST  10  13  2.199  2.199      \n113  GG1  1  115  s77  18:56:19:JST  18:56:29:JST  10  12  2.199  2.199      \n114  GG1  1  116  s78  18:56:50:JST  18:57:00:JST  10  12  2.199  2.199      \n\n     11 12 13 14 15  \n0     1  0  0        \n1     2  0  0        \n2     3  0  0        \n3     4  0  0        \n4     5  0  0        \n..   .. .. .. .. ..  \n110  20  0  0        \n111  21  0  0        \n112  22  0  0        \n113  23  0  0        \n114  24  0  0        \n\n[115 rows x 16 columns]",
      "text/html": "<div>\n<style scoped>\n    .dataframe tbody tr th:only-of-type {\n        vertical-align: middle;\n    }\n\n    .dataframe tbody tr th {\n        vertical-align: top;\n    }\n\n    .dataframe thead th {\n        text-align: right;\n    }\n</style>\n<table border=\"1\" class=\"dataframe\">\n  <thead>\n    <tr style=\"text-align: right;\">\n      <th></th>\n      <th>cols</th>\n      <th>1</th>\n      <th>2</th>\n      <th>3</th>\n      <th>4</th>\n      <th>5</th>\n      <th>6</th>\n      <th>7</th>\n      <th>8</th>\n      <th>9</th>\n      <th>10</th>\n      <th>11</th>\n      <th>12</th>\n      <th>13</th>\n      <th>14</th>\n      <th>15</th>\n    </tr>\n  </thead>\n  <tbody>\n    <tr>\n      <th>0</th>\n      <td>GG1</td>\n      <td>1</td>\n      <td>2</td>\n      <td>57</td>\n      <td>14:50:05:JST</td>\n      <td>14:50:15:JST</td>\n      <td>10</td>\n      <td>11</td>\n      <td>2.199</td>\n      <td>2.199</td>\n      <td></td>\n      <td>1</td>\n      <td>0</td>\n      <td>0</td>\n      <td></td>\n      <td></td>\n    </tr>\n    <tr>\n      <th>1</th>\n      <td>GG1</td>\n      <td>1</td>\n      <td>3</td>\n      <td>65</td>\n      <td>14:52:41:JST</td>\n      <td>14:52:51:JST</td>\n      <td>10</td>\n      <td>11</td>\n      <td>2.199</td>\n      <td>2.199</td>\n      <td></td>\n      <td>2</td>\n      <td>0</td>\n      <td>0</td>\n      <td></td>\n      <td></td>\n    </tr>\n    <tr>\n      <th>2</th>\n      <td>GG1</td>\n      <td>1</td>\n      <td>4</td>\n      <td>197</td>\n      <td>14:54:46:JST</td>\n      <td>14:54:55:JST</td>\n      <td>10</td>\n      <td>11</td>\n      <td>2.199</td>\n      <td>2.199</td>\n      <td></td>\n      <td>3</td>\n      <td>0</td>\n      <td>0</td>\n      <td></td>\n      <td></td>\n    </tr>\n    <tr>\n      <th>3</th>\n      <td>GG1</td>\n      <td>1</td>\n      <td>5</td>\n      <td>54</td>\n      <td>14:57:04:JST</td>\n      <td>14:57:15:JST</td>\n      <td>10</td>\n      <td>10</td>\n      <td>2.199</td>\n      <td>2.199</td>\n      <td></td>\n      <td>4</td>\n      <td>0</td>\n      <td>0</td>\n      <td></td>\n      <td></td>\n    </tr>\n    <tr>\n      <th>4</th>\n      <td>GG1</td>\n      <td>1</td>\n      <td>6</td>\n      <td>55</td>\n      <td>14:58:18:JST</td>\n      <td>14:58:28:JST</td>\n      <td>10</td>\n      <td>10</td>\n      <td>2.199</td>\n      <td>2.199</td>\n      <td></td>\n      <td>5</td>\n      <td>0</td>\n      <td>0</td>\n      <td></td>\n      <td></td>\n    </tr>\n    <tr>\n      <th>...</th>\n      <td>...</td>\n      <td>...</td>\n      <td>...</td>\n      <td>...</td>\n      <td>...</td>\n      <td>...</td>\n      <td>...</td>\n      <td>...</td>\n      <td>...</td>\n      <td>...</td>\n      <td>...</td>\n      <td>...</td>\n      <td>...</td>\n      <td>...</td>\n      <td>...</td>\n      <td>...</td>\n    </tr>\n    <tr>\n      <th>110</th>\n      <td>GG1</td>\n      <td>1</td>\n      <td>112</td>\n      <td>s74</td>\n      <td>18:54:47:JST</td>\n      <td>18:54:57:JST</td>\n      <td>10</td>\n      <td>13</td>\n      <td>2.199</td>\n      <td>2.199</td>\n      <td></td>\n      <td>20</td>\n      <td>0</td>\n      <td>0</td>\n      <td></td>\n      <td></td>\n    </tr>\n    <tr>\n      <th>111</th>\n      <td>GG1</td>\n      <td>1</td>\n      <td>113</td>\n      <td>s75</td>\n      <td>18:55:11:JST</td>\n      <td>18:55:21:JST</td>\n      <td>10</td>\n      <td>13</td>\n      <td>2.199</td>\n      <td>2.199</td>\n      <td></td>\n      <td>21</td>\n      <td>0</td>\n      <td>0</td>\n      <td></td>\n      <td></td>\n    </tr>\n    <tr>\n      <th>112</th>\n      <td>GG1</td>\n      <td>1</td>\n      <td>114</td>\n      <td>s76</td>\n      <td>18:55:47:JST</td>\n      <td>18:55:57:JST</td>\n      <td>10</td>\n      <td>13</td>\n      <td>2.199</td>\n      <td>2.199</td>\n      <td></td>\n      <td>22</td>\n      <td>0</td>\n      <td>0</td>\n      <td></td>\n      <td></td>\n    </tr>\n    <tr>\n      <th>113</th>\n      <td>GG1</td>\n      <td>1</td>\n      <td>115</td>\n      <td>s77</td>\n      <td>18:56:19:JST</td>\n      <td>18:56:29:JST</td>\n      <td>10</td>\n      <td>12</td>\n      <td>2.199</td>\n      <td>2.199</td>\n      <td></td>\n      <td>23</td>\n      <td>0</td>\n      <td>0</td>\n      <td></td>\n      <td></td>\n    </tr>\n    <tr>\n      <th>114</th>\n      <td>GG1</td>\n      <td>1</td>\n      <td>116</td>\n      <td>s78</td>\n      <td>18:56:50:JST</td>\n      <td>18:57:00:JST</td>\n      <td>10</td>\n      <td>12</td>\n      <td>2.199</td>\n      <td>2.199</td>\n      <td></td>\n      <td>24</td>\n      <td>0</td>\n      <td>0</td>\n      <td></td>\n      <td></td>\n    </tr>\n  </tbody>\n</table>\n<p>115 rows × 16 columns</p>\n</div>"
     },
     "execution_count": 115,
     "metadata": {},
     "output_type": "execute_result"
    }
   ],
   "source": [
    "df_1"
   ],
   "metadata": {
    "collapsed": false,
    "pycharm": {
     "name": "#%%\n"
    }
   }
  },
  {
   "cell_type": "code",
   "execution_count": 116,
   "outputs": [],
   "source": [
    "df_2=df.query('cols in [\"GG2\"]')\n",
    "# df_2.to_csv(\"GG2.csv\",header=False, index=False)"
   ],
   "metadata": {
    "collapsed": false,
    "pycharm": {
     "name": "#%%\n"
    }
   }
  },
  {
   "cell_type": "code",
   "execution_count": 117,
   "outputs": [
    {
     "data": {
      "text/plain": "    cols           1          2        3       4        5 6      7     8  \\\n0    GG2  -90158.482  -5124.454  183.203  39.249  143.954     None  None   \n1    GG2  -90168.648  -5109.172  183.250  39.250  144.000     None  None   \n2    GG2  -90181.236  -5081.433  183.944  39.252  144.692     None  None   \n3    GG2  -90176.886  -5079.164  183.960  39.253  144.707     None  None   \n4    GG2  -90174.535  -5078.768  183.929  39.253  144.676     None  None   \n..   ...         ...        ...      ...     ...      ... ..   ...   ...   \n110  GG2  -90211.893  -5153.445  184.746  39.247  145.499     None  None   \n111  GG2  -90212.861  -5152.760  184.744  39.247  145.497     None  None   \n112  GG2  -90213.434  -5151.986  184.746  39.247  145.499     None  None   \n113  GG2  -90214.396  -5150.398  184.784  39.247  145.537     None  None   \n114  GG2  -90215.131  -5149.004  184.822  39.247  145.575     None  None   \n\n        9    10    11    12    13    14    15  \n0    None  None  None  None  None  None  None  \n1    None  None  None  None  None  None  None  \n2    None  None  None  None  None  None  None  \n3    None  None  None  None  None  None  None  \n4    None  None  None  None  None  None  None  \n..    ...   ...   ...   ...   ...   ...   ...  \n110  None  None  None  None  None  None  None  \n111  None  None  None  None  None  None  None  \n112  None  None  None  None  None  None  None  \n113  None  None  None  None  None  None  None  \n114  None  None  None  None  None  None  None  \n\n[115 rows x 16 columns]",
      "text/html": "<div>\n<style scoped>\n    .dataframe tbody tr th:only-of-type {\n        vertical-align: middle;\n    }\n\n    .dataframe tbody tr th {\n        vertical-align: top;\n    }\n\n    .dataframe thead th {\n        text-align: right;\n    }\n</style>\n<table border=\"1\" class=\"dataframe\">\n  <thead>\n    <tr style=\"text-align: right;\">\n      <th></th>\n      <th>cols</th>\n      <th>1</th>\n      <th>2</th>\n      <th>3</th>\n      <th>4</th>\n      <th>5</th>\n      <th>6</th>\n      <th>7</th>\n      <th>8</th>\n      <th>9</th>\n      <th>10</th>\n      <th>11</th>\n      <th>12</th>\n      <th>13</th>\n      <th>14</th>\n      <th>15</th>\n    </tr>\n  </thead>\n  <tbody>\n    <tr>\n      <th>0</th>\n      <td>GG2</td>\n      <td>-90158.482</td>\n      <td>-5124.454</td>\n      <td>183.203</td>\n      <td>39.249</td>\n      <td>143.954</td>\n      <td></td>\n      <td>None</td>\n      <td>None</td>\n      <td>None</td>\n      <td>None</td>\n      <td>None</td>\n      <td>None</td>\n      <td>None</td>\n      <td>None</td>\n      <td>None</td>\n    </tr>\n    <tr>\n      <th>1</th>\n      <td>GG2</td>\n      <td>-90168.648</td>\n      <td>-5109.172</td>\n      <td>183.250</td>\n      <td>39.250</td>\n      <td>144.000</td>\n      <td></td>\n      <td>None</td>\n      <td>None</td>\n      <td>None</td>\n      <td>None</td>\n      <td>None</td>\n      <td>None</td>\n      <td>None</td>\n      <td>None</td>\n      <td>None</td>\n    </tr>\n    <tr>\n      <th>2</th>\n      <td>GG2</td>\n      <td>-90181.236</td>\n      <td>-5081.433</td>\n      <td>183.944</td>\n      <td>39.252</td>\n      <td>144.692</td>\n      <td></td>\n      <td>None</td>\n      <td>None</td>\n      <td>None</td>\n      <td>None</td>\n      <td>None</td>\n      <td>None</td>\n      <td>None</td>\n      <td>None</td>\n      <td>None</td>\n    </tr>\n    <tr>\n      <th>3</th>\n      <td>GG2</td>\n      <td>-90176.886</td>\n      <td>-5079.164</td>\n      <td>183.960</td>\n      <td>39.253</td>\n      <td>144.707</td>\n      <td></td>\n      <td>None</td>\n      <td>None</td>\n      <td>None</td>\n      <td>None</td>\n      <td>None</td>\n      <td>None</td>\n      <td>None</td>\n      <td>None</td>\n      <td>None</td>\n    </tr>\n    <tr>\n      <th>4</th>\n      <td>GG2</td>\n      <td>-90174.535</td>\n      <td>-5078.768</td>\n      <td>183.929</td>\n      <td>39.253</td>\n      <td>144.676</td>\n      <td></td>\n      <td>None</td>\n      <td>None</td>\n      <td>None</td>\n      <td>None</td>\n      <td>None</td>\n      <td>None</td>\n      <td>None</td>\n      <td>None</td>\n      <td>None</td>\n    </tr>\n    <tr>\n      <th>...</th>\n      <td>...</td>\n      <td>...</td>\n      <td>...</td>\n      <td>...</td>\n      <td>...</td>\n      <td>...</td>\n      <td>...</td>\n      <td>...</td>\n      <td>...</td>\n      <td>...</td>\n      <td>...</td>\n      <td>...</td>\n      <td>...</td>\n      <td>...</td>\n      <td>...</td>\n      <td>...</td>\n    </tr>\n    <tr>\n      <th>110</th>\n      <td>GG2</td>\n      <td>-90211.893</td>\n      <td>-5153.445</td>\n      <td>184.746</td>\n      <td>39.247</td>\n      <td>145.499</td>\n      <td></td>\n      <td>None</td>\n      <td>None</td>\n      <td>None</td>\n      <td>None</td>\n      <td>None</td>\n      <td>None</td>\n      <td>None</td>\n      <td>None</td>\n      <td>None</td>\n    </tr>\n    <tr>\n      <th>111</th>\n      <td>GG2</td>\n      <td>-90212.861</td>\n      <td>-5152.760</td>\n      <td>184.744</td>\n      <td>39.247</td>\n      <td>145.497</td>\n      <td></td>\n      <td>None</td>\n      <td>None</td>\n      <td>None</td>\n      <td>None</td>\n      <td>None</td>\n      <td>None</td>\n      <td>None</td>\n      <td>None</td>\n      <td>None</td>\n    </tr>\n    <tr>\n      <th>112</th>\n      <td>GG2</td>\n      <td>-90213.434</td>\n      <td>-5151.986</td>\n      <td>184.746</td>\n      <td>39.247</td>\n      <td>145.499</td>\n      <td></td>\n      <td>None</td>\n      <td>None</td>\n      <td>None</td>\n      <td>None</td>\n      <td>None</td>\n      <td>None</td>\n      <td>None</td>\n      <td>None</td>\n      <td>None</td>\n    </tr>\n    <tr>\n      <th>113</th>\n      <td>GG2</td>\n      <td>-90214.396</td>\n      <td>-5150.398</td>\n      <td>184.784</td>\n      <td>39.247</td>\n      <td>145.537</td>\n      <td></td>\n      <td>None</td>\n      <td>None</td>\n      <td>None</td>\n      <td>None</td>\n      <td>None</td>\n      <td>None</td>\n      <td>None</td>\n      <td>None</td>\n      <td>None</td>\n    </tr>\n    <tr>\n      <th>114</th>\n      <td>GG2</td>\n      <td>-90215.131</td>\n      <td>-5149.004</td>\n      <td>184.822</td>\n      <td>39.247</td>\n      <td>145.575</td>\n      <td></td>\n      <td>None</td>\n      <td>None</td>\n      <td>None</td>\n      <td>None</td>\n      <td>None</td>\n      <td>None</td>\n      <td>None</td>\n      <td>None</td>\n      <td>None</td>\n    </tr>\n  </tbody>\n</table>\n<p>115 rows × 16 columns</p>\n</div>"
     },
     "execution_count": 117,
     "metadata": {},
     "output_type": "execute_result"
    }
   ],
   "source": [
    "df_2 = df_2.reset_index(drop=True)\n",
    "df_2"
   ],
   "metadata": {
    "collapsed": false,
    "pycharm": {
     "name": "#%%\n"
    }
   }
  },
  {
   "cell_type": "code",
   "execution_count": 118,
   "outputs": [],
   "source": [
    "concatenated_df = pd.concat([df_1, df_2], axis=1)"
   ],
   "metadata": {
    "collapsed": false,
    "pycharm": {
     "name": "#%%\n"
    }
   }
  },
  {
   "cell_type": "code",
   "execution_count": 119,
   "outputs": [],
   "source": [
    "sh=concatenated_df.shape"
   ],
   "metadata": {
    "collapsed": false,
    "pycharm": {
     "name": "#%%\n"
    }
   }
  },
  {
   "cell_type": "code",
   "execution_count": 120,
   "outputs": [],
   "source": [
    "concatenated_df.columns=range(sh[1])"
   ],
   "metadata": {
    "collapsed": false,
    "pycharm": {
     "name": "#%%\n"
    }
   }
  },
  {
   "cell_type": "code",
   "execution_count": 121,
   "outputs": [
    {
     "data": {
      "text/plain": "      0  1    2    3             4             5   6   7      8      9   ...  \\\n0    GG1  1    2   57  14:50:05:JST  14:50:15:JST  10  11  2.199  2.199  ...   \n1    GG1  1    3   65  14:52:41:JST  14:52:51:JST  10  11  2.199  2.199  ...   \n2    GG1  1    4  197  14:54:46:JST  14:54:55:JST  10  11  2.199  2.199  ...   \n3    GG1  1    5   54  14:57:04:JST  14:57:15:JST  10  10  2.199  2.199  ...   \n4    GG1  1    6   55  14:58:18:JST  14:58:28:JST  10  10  2.199  2.199  ...   \n..   ... ..  ...  ...           ...           ...  ..  ..    ...    ...  ...   \n110  GG1  1  112  s74  18:54:47:JST  18:54:57:JST  10  13  2.199  2.199  ...   \n111  GG1  1  113  s75  18:55:11:JST  18:55:21:JST  10  13  2.199  2.199  ...   \n112  GG1  1  114  s76  18:55:47:JST  18:55:57:JST  10  13  2.199  2.199  ...   \n113  GG1  1  115  s77  18:56:19:JST  18:56:29:JST  10  12  2.199  2.199  ...   \n114  GG1  1  116  s78  18:56:50:JST  18:57:00:JST  10  12  2.199  2.199  ...   \n\n    22    23    24    25    26    27    28    29    30    31  \n0       None  None  None  None  None  None  None  None  None  \n1       None  None  None  None  None  None  None  None  None  \n2       None  None  None  None  None  None  None  None  None  \n3       None  None  None  None  None  None  None  None  None  \n4       None  None  None  None  None  None  None  None  None  \n..  ..   ...   ...   ...   ...   ...   ...   ...   ...   ...  \n110     None  None  None  None  None  None  None  None  None  \n111     None  None  None  None  None  None  None  None  None  \n112     None  None  None  None  None  None  None  None  None  \n113     None  None  None  None  None  None  None  None  None  \n114     None  None  None  None  None  None  None  None  None  \n\n[115 rows x 32 columns]",
      "text/html": "<div>\n<style scoped>\n    .dataframe tbody tr th:only-of-type {\n        vertical-align: middle;\n    }\n\n    .dataframe tbody tr th {\n        vertical-align: top;\n    }\n\n    .dataframe thead th {\n        text-align: right;\n    }\n</style>\n<table border=\"1\" class=\"dataframe\">\n  <thead>\n    <tr style=\"text-align: right;\">\n      <th></th>\n      <th>0</th>\n      <th>1</th>\n      <th>2</th>\n      <th>3</th>\n      <th>4</th>\n      <th>5</th>\n      <th>6</th>\n      <th>7</th>\n      <th>8</th>\n      <th>9</th>\n      <th>...</th>\n      <th>22</th>\n      <th>23</th>\n      <th>24</th>\n      <th>25</th>\n      <th>26</th>\n      <th>27</th>\n      <th>28</th>\n      <th>29</th>\n      <th>30</th>\n      <th>31</th>\n    </tr>\n  </thead>\n  <tbody>\n    <tr>\n      <th>0</th>\n      <td>GG1</td>\n      <td>1</td>\n      <td>2</td>\n      <td>57</td>\n      <td>14:50:05:JST</td>\n      <td>14:50:15:JST</td>\n      <td>10</td>\n      <td>11</td>\n      <td>2.199</td>\n      <td>2.199</td>\n      <td>...</td>\n      <td></td>\n      <td>None</td>\n      <td>None</td>\n      <td>None</td>\n      <td>None</td>\n      <td>None</td>\n      <td>None</td>\n      <td>None</td>\n      <td>None</td>\n      <td>None</td>\n    </tr>\n    <tr>\n      <th>1</th>\n      <td>GG1</td>\n      <td>1</td>\n      <td>3</td>\n      <td>65</td>\n      <td>14:52:41:JST</td>\n      <td>14:52:51:JST</td>\n      <td>10</td>\n      <td>11</td>\n      <td>2.199</td>\n      <td>2.199</td>\n      <td>...</td>\n      <td></td>\n      <td>None</td>\n      <td>None</td>\n      <td>None</td>\n      <td>None</td>\n      <td>None</td>\n      <td>None</td>\n      <td>None</td>\n      <td>None</td>\n      <td>None</td>\n    </tr>\n    <tr>\n      <th>2</th>\n      <td>GG1</td>\n      <td>1</td>\n      <td>4</td>\n      <td>197</td>\n      <td>14:54:46:JST</td>\n      <td>14:54:55:JST</td>\n      <td>10</td>\n      <td>11</td>\n      <td>2.199</td>\n      <td>2.199</td>\n      <td>...</td>\n      <td></td>\n      <td>None</td>\n      <td>None</td>\n      <td>None</td>\n      <td>None</td>\n      <td>None</td>\n      <td>None</td>\n      <td>None</td>\n      <td>None</td>\n      <td>None</td>\n    </tr>\n    <tr>\n      <th>3</th>\n      <td>GG1</td>\n      <td>1</td>\n      <td>5</td>\n      <td>54</td>\n      <td>14:57:04:JST</td>\n      <td>14:57:15:JST</td>\n      <td>10</td>\n      <td>10</td>\n      <td>2.199</td>\n      <td>2.199</td>\n      <td>...</td>\n      <td></td>\n      <td>None</td>\n      <td>None</td>\n      <td>None</td>\n      <td>None</td>\n      <td>None</td>\n      <td>None</td>\n      <td>None</td>\n      <td>None</td>\n      <td>None</td>\n    </tr>\n    <tr>\n      <th>4</th>\n      <td>GG1</td>\n      <td>1</td>\n      <td>6</td>\n      <td>55</td>\n      <td>14:58:18:JST</td>\n      <td>14:58:28:JST</td>\n      <td>10</td>\n      <td>10</td>\n      <td>2.199</td>\n      <td>2.199</td>\n      <td>...</td>\n      <td></td>\n      <td>None</td>\n      <td>None</td>\n      <td>None</td>\n      <td>None</td>\n      <td>None</td>\n      <td>None</td>\n      <td>None</td>\n      <td>None</td>\n      <td>None</td>\n    </tr>\n    <tr>\n      <th>...</th>\n      <td>...</td>\n      <td>...</td>\n      <td>...</td>\n      <td>...</td>\n      <td>...</td>\n      <td>...</td>\n      <td>...</td>\n      <td>...</td>\n      <td>...</td>\n      <td>...</td>\n      <td>...</td>\n      <td>...</td>\n      <td>...</td>\n      <td>...</td>\n      <td>...</td>\n      <td>...</td>\n      <td>...</td>\n      <td>...</td>\n      <td>...</td>\n      <td>...</td>\n      <td>...</td>\n    </tr>\n    <tr>\n      <th>110</th>\n      <td>GG1</td>\n      <td>1</td>\n      <td>112</td>\n      <td>s74</td>\n      <td>18:54:47:JST</td>\n      <td>18:54:57:JST</td>\n      <td>10</td>\n      <td>13</td>\n      <td>2.199</td>\n      <td>2.199</td>\n      <td>...</td>\n      <td></td>\n      <td>None</td>\n      <td>None</td>\n      <td>None</td>\n      <td>None</td>\n      <td>None</td>\n      <td>None</td>\n      <td>None</td>\n      <td>None</td>\n      <td>None</td>\n    </tr>\n    <tr>\n      <th>111</th>\n      <td>GG1</td>\n      <td>1</td>\n      <td>113</td>\n      <td>s75</td>\n      <td>18:55:11:JST</td>\n      <td>18:55:21:JST</td>\n      <td>10</td>\n      <td>13</td>\n      <td>2.199</td>\n      <td>2.199</td>\n      <td>...</td>\n      <td></td>\n      <td>None</td>\n      <td>None</td>\n      <td>None</td>\n      <td>None</td>\n      <td>None</td>\n      <td>None</td>\n      <td>None</td>\n      <td>None</td>\n      <td>None</td>\n    </tr>\n    <tr>\n      <th>112</th>\n      <td>GG1</td>\n      <td>1</td>\n      <td>114</td>\n      <td>s76</td>\n      <td>18:55:47:JST</td>\n      <td>18:55:57:JST</td>\n      <td>10</td>\n      <td>13</td>\n      <td>2.199</td>\n      <td>2.199</td>\n      <td>...</td>\n      <td></td>\n      <td>None</td>\n      <td>None</td>\n      <td>None</td>\n      <td>None</td>\n      <td>None</td>\n      <td>None</td>\n      <td>None</td>\n      <td>None</td>\n      <td>None</td>\n    </tr>\n    <tr>\n      <th>113</th>\n      <td>GG1</td>\n      <td>1</td>\n      <td>115</td>\n      <td>s77</td>\n      <td>18:56:19:JST</td>\n      <td>18:56:29:JST</td>\n      <td>10</td>\n      <td>12</td>\n      <td>2.199</td>\n      <td>2.199</td>\n      <td>...</td>\n      <td></td>\n      <td>None</td>\n      <td>None</td>\n      <td>None</td>\n      <td>None</td>\n      <td>None</td>\n      <td>None</td>\n      <td>None</td>\n      <td>None</td>\n      <td>None</td>\n    </tr>\n    <tr>\n      <th>114</th>\n      <td>GG1</td>\n      <td>1</td>\n      <td>116</td>\n      <td>s78</td>\n      <td>18:56:50:JST</td>\n      <td>18:57:00:JST</td>\n      <td>10</td>\n      <td>12</td>\n      <td>2.199</td>\n      <td>2.199</td>\n      <td>...</td>\n      <td></td>\n      <td>None</td>\n      <td>None</td>\n      <td>None</td>\n      <td>None</td>\n      <td>None</td>\n      <td>None</td>\n      <td>None</td>\n      <td>None</td>\n      <td>None</td>\n    </tr>\n  </tbody>\n</table>\n<p>115 rows × 32 columns</p>\n</div>"
     },
     "execution_count": 121,
     "metadata": {},
     "output_type": "execute_result"
    }
   ],
   "source": [
    "concatenated_df"
   ],
   "metadata": {
    "collapsed": false,
    "pycharm": {
     "name": "#%%\n"
    }
   }
  },
  {
   "cell_type": "code",
   "execution_count": 122,
   "outputs": [],
   "source": [
    "concatenated_df=concatenated_df.drop(concatenated_df.columns[[0,1,2,4,5,6,7,8,9,10,11,12,13,14,15,16,20,21,22,23,24,25,26,27,28,29,30,31]], axis=1)"
   ],
   "metadata": {
    "collapsed": false,
    "pycharm": {
     "name": "#%%\n"
    }
   }
  },
  {
   "cell_type": "code",
   "execution_count": 123,
   "outputs": [],
   "source": [
    "concatenated_df.to_csv(out_file,header=False, index=False)"
   ],
   "metadata": {
    "collapsed": false,
    "pycharm": {
     "name": "#%%\n"
    }
   }
  },
  {
   "cell_type": "code",
   "execution_count": 125,
   "outputs": [
    {
     "data": {
      "text/plain": "      3           17         18       19    31\n0     57  -90158.482  -5124.454  183.203  None\n1     65  -90168.648  -5109.172  183.250  None\n2    197  -90181.236  -5081.433  183.944  None\n3     54  -90176.886  -5079.164  183.960  None\n4     55  -90174.535  -5078.768  183.929  None\n..   ...         ...        ...      ...   ...\n110  s74  -90211.893  -5153.445  184.746  None\n111  s75  -90212.861  -5152.760  184.744  None\n112  s76  -90213.434  -5151.986  184.746  None\n113  s77  -90214.396  -5150.398  184.784  None\n114  s78  -90215.131  -5149.004  184.822  None\n\n[115 rows x 5 columns]",
      "text/html": "<div>\n<style scoped>\n    .dataframe tbody tr th:only-of-type {\n        vertical-align: middle;\n    }\n\n    .dataframe tbody tr th {\n        vertical-align: top;\n    }\n\n    .dataframe thead th {\n        text-align: right;\n    }\n</style>\n<table border=\"1\" class=\"dataframe\">\n  <thead>\n    <tr style=\"text-align: right;\">\n      <th></th>\n      <th>3</th>\n      <th>17</th>\n      <th>18</th>\n      <th>19</th>\n      <th>31</th>\n    </tr>\n  </thead>\n  <tbody>\n    <tr>\n      <th>0</th>\n      <td>57</td>\n      <td>-90158.482</td>\n      <td>-5124.454</td>\n      <td>183.203</td>\n      <td>None</td>\n    </tr>\n    <tr>\n      <th>1</th>\n      <td>65</td>\n      <td>-90168.648</td>\n      <td>-5109.172</td>\n      <td>183.250</td>\n      <td>None</td>\n    </tr>\n    <tr>\n      <th>2</th>\n      <td>197</td>\n      <td>-90181.236</td>\n      <td>-5081.433</td>\n      <td>183.944</td>\n      <td>None</td>\n    </tr>\n    <tr>\n      <th>3</th>\n      <td>54</td>\n      <td>-90176.886</td>\n      <td>-5079.164</td>\n      <td>183.960</td>\n      <td>None</td>\n    </tr>\n    <tr>\n      <th>4</th>\n      <td>55</td>\n      <td>-90174.535</td>\n      <td>-5078.768</td>\n      <td>183.929</td>\n      <td>None</td>\n    </tr>\n    <tr>\n      <th>...</th>\n      <td>...</td>\n      <td>...</td>\n      <td>...</td>\n      <td>...</td>\n      <td>...</td>\n    </tr>\n    <tr>\n      <th>110</th>\n      <td>s74</td>\n      <td>-90211.893</td>\n      <td>-5153.445</td>\n      <td>184.746</td>\n      <td>None</td>\n    </tr>\n    <tr>\n      <th>111</th>\n      <td>s75</td>\n      <td>-90212.861</td>\n      <td>-5152.760</td>\n      <td>184.744</td>\n      <td>None</td>\n    </tr>\n    <tr>\n      <th>112</th>\n      <td>s76</td>\n      <td>-90213.434</td>\n      <td>-5151.986</td>\n      <td>184.746</td>\n      <td>None</td>\n    </tr>\n    <tr>\n      <th>113</th>\n      <td>s77</td>\n      <td>-90214.396</td>\n      <td>-5150.398</td>\n      <td>184.784</td>\n      <td>None</td>\n    </tr>\n    <tr>\n      <th>114</th>\n      <td>s78</td>\n      <td>-90215.131</td>\n      <td>-5149.004</td>\n      <td>184.822</td>\n      <td>None</td>\n    </tr>\n  </tbody>\n</table>\n<p>115 rows × 5 columns</p>\n</div>"
     },
     "execution_count": 125,
     "metadata": {},
     "output_type": "execute_result"
    }
   ],
   "source": [
    "concatenated_df"
   ],
   "metadata": {
    "collapsed": false,
    "pycharm": {
     "name": "#%%\n"
    }
   }
  },
  {
   "cell_type": "markdown",
   "source": [
    "# df.query('cols in [\"GG1\",\"GG2\"]')\n",
    "# df.query('cols in [\"GG1\",\"GG2\"]').to_csv(out_file,header=False, index=False)\n",
    "df.query('cols in [\"GG1\",\"GG2\"]').to_csv(out_file,header=False, index=False)\n",
    "# df[df[0].str.contains(id)].to_csv(out_file,header=False, index=False)"
   ],
   "metadata": {
    "collapsed": false,
    "pycharm": {
     "name": "#%% md\n"
    }
   }
  },
  {
   "cell_type": "markdown",
   "source": [
    "FIN\n",
    "%%%%%%%%%%%%%%%%%%%%%%%%%%%%%%%%%%%%%%%%%%%%%"
   ],
   "metadata": {
    "collapsed": false,
    "pycharm": {
     "name": "#%% md\n"
    }
   }
  },
  {
   "cell_type": "code",
   "execution_count": 124,
   "outputs": [],
   "source": [
    "# concatenate horizontally"
   ],
   "metadata": {
    "collapsed": false,
    "pycharm": {
     "name": "#%%\n"
    }
   }
  },
  {
   "cell_type": "markdown",
   "source": [
    "# id='GNRMC'\n",
    "id=\"GG1|GG2\"\n"
   ],
   "metadata": {
    "collapsed": false,
    "pycharm": {
     "name": "#%% md\n"
    }
   }
  },
  {
   "cell_type": "markdown",
   "source": [
    "df"
   ],
   "metadata": {
    "collapsed": false,
    "pycharm": {
     "name": "#%% md\n"
    }
   }
  },
  {
   "cell_type": "markdown",
   "source": [
    "# oi=df.iloc[0]\n",
    "# print(oi)\n",
    "oi2=df.iloc[:,1]\n",
    "print(oi2)"
   ],
   "metadata": {
    "collapsed": false,
    "pycharm": {
     "name": "#%% md\n"
    }
   }
  },
  {
   "cell_type": "markdown",
   "source": [
    "# print(df[0].str.contains('$GNRMC'))\n",
    "# df[0].str.contains('GNRMC')\n",
    "df[0].str.contains(id)\n"
   ],
   "metadata": {
    "collapsed": false,
    "pycharm": {
     "name": "#%% md\n"
    }
   }
  },
  {
   "cell_type": "markdown",
   "source": [
    "\n",
    "# df[df[0].str.contains('GNRMC')].to_csv(\"2021-07-05_10_GNRMC.csv\",header=False, index=False)\n",
    "df[df[0].str.contains(id)].to_csv(out_file,header=False, index=False)"
   ],
   "metadata": {
    "collapsed": false,
    "pycharm": {
     "name": "#%% md\n"
    }
   }
  },
  {
   "cell_type": "markdown",
   "source": [
    "##################################################################\n",
    "#################################\n",
    "FIN"
   ],
   "metadata": {
    "collapsed": false
   }
  },
  {
   "cell_type": "markdown",
   "source": [
    "pd.options.display.max_rows = None\n",
    "pd.options.display.max_columns = None"
   ],
   "metadata": {
    "collapsed": false,
    "pycharm": {
     "name": "#%% md\n"
    }
   }
  },
  {
   "cell_type": "markdown",
   "source": [
    "# df = pd.read_csv('2021-07-04_16.csv', index_col=0)\n",
    "# df = pd.read_csv('2021-07-04_16.csv')\n",
    "df = pd.read_csv('2021-07-04_16.csv', header=None)\n",
    "print(df)"
   ],
   "metadata": {
    "collapsed": false,
    "pycharm": {
     "name": "#%% md\n"
    }
   }
  },
  {
   "cell_type": "markdown",
   "source": [
    "csvfile = '2021-07-05_07.nmea'\n",
    "f = open(csvfile, \"r\")\n",
    "reader = csv.reader(f)\n",
    "# header = next(reader)"
   ],
   "metadata": {
    "collapsed": false,
    "pycharm": {
     "name": "#%% md\n"
    }
   }
  },
  {
   "cell_type": "markdown",
   "source": [
    "for row in reader:\n",
    "        print(row)\n",
    "\n",
    "f.close()\n"
   ],
   "metadata": {
    "collapsed": false,
    "pycharm": {
     "name": "#%% md\n"
    }
   }
  },
  {
   "cell_type": "markdown",
   "source": [
    "# df[0].isin([GNRMC])\n"
   ],
   "metadata": {
    "collapsed": false,
    "pycharm": {
     "name": "#%% md\n"
    }
   }
  },
  {
   "cell_type": "markdown",
   "source": [
    "df.to_csv(\"GNRMMC_1.csv\")"
   ],
   "metadata": {
    "collapsed": false,
    "pycharm": {
     "name": "#%% md\n"
    }
   }
  },
  {
   "cell_type": "markdown",
   "source": [
    "type(kore)"
   ],
   "metadata": {
    "collapsed": false,
    "pycharm": {
     "name": "#%% md\n"
    }
   }
  },
  {
   "cell_type": "markdown",
   "source": [
    "print(df[df[0].str.contains('$GNRMC')])"
   ],
   "metadata": {
    "collapsed": false,
    "pycharm": {
     "name": "#%% md\n"
    }
   }
  },
  {
   "cell_type": "markdown",
   "source": [
    "df.iloc[5]"
   ],
   "metadata": {
    "collapsed": false,
    "pycharm": {
     "name": "#%% md\n"
    }
   }
  },
  {
   "cell_type": "markdown",
   "source": [
    "df.loc[\"$GNRMC\"]\n",
    "\n",
    "\n"
   ],
   "metadata": {
    "collapsed": false,
    "pycharm": {
     "name": "#%% md\n"
    }
   }
  }
 ],
 "metadata": {
  "kernelspec": {
   "display_name": "Python 3",
   "language": "python",
   "name": "python3"
  },
  "language_info": {
   "codemirror_mode": {
    "name": "ipython",
    "version": 2
   },
   "file_extension": ".py",
   "mimetype": "text/x-python",
   "name": "python",
   "nbconvert_exporter": "python",
   "pygments_lexer": "ipython2",
   "version": "2.7.6"
  }
 },
 "nbformat": 4,
 "nbformat_minor": 0
}