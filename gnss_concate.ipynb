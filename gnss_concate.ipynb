{
 "cells": [
  {
   "cell_type": "markdown",
   "source": [
    "# pandas\n",
    "https://pandas.pydata.org/docs/reference/api/pandas.DataFrame.html\n"
   ],
   "metadata": {
    "collapsed": false,
    "pycharm": {
     "name": "#%% md\n"
    }
   }
  },
  {
   "cell_type": "code",
   "source": [
    "#when calculate again, you need\n",
    "\n",
    "%reset"
   ],
   "metadata": {
    "collapsed": false,
    "pycharm": {
     "name": "#%%\n"
    }
   },
   "execution_count": 61,
   "outputs": []
  },
  {
   "cell_type": "code",
   "execution_count": 1,
   "outputs": [
    {
     "data": {
      "text/plain": "'C:\\\\Users\\\\survey\\\\Dropbox\\\\My PC (SURVEY-C20)\\\\Documents\\\\GitHub\\\\GNSS'"
     },
     "execution_count": 1,
     "metadata": {},
     "output_type": "execute_result"
    }
   ],
   "source": [
    "#check current directory\n",
    "%pwd"
   ],
   "metadata": {
    "collapsed": false,
    "pycharm": {
     "name": "#%%\n"
    }
   }
  },
  {
   "cell_type": "code",
   "execution_count": 29,
   "outputs": [
    {
     "name": "stdout",
     "output_type": "stream",
     "text": [
      "C:\\Users\\survey\\Dropbox\\My PC (SURVEY-C20)\\Documents\\GitHub\\GNSS\n"
     ]
    }
   ],
   "source": [
    "#define working directroy\n",
    "# %cd C:\\\\Users\\\\survey\\\\Desktop\\\\nmea20210705\n",
    "\n",
    "%cd C:\\Users\\survey\\Dropbox\\My PC (SURVEY-C20)\\Documents\\GitHub\\GNSS"
   ],
   "metadata": {
    "collapsed": false,
    "pycharm": {
     "name": "#%%\n"
    }
   }
  },
  {
   "cell_type": "code",
   "execution_count": 63,
   "outputs": [
    {
     "name": "stdout",
     "output_type": "stream",
     "text": [
      " ドライブ C のボリューム ラベルがありません。\n",
      " ボリューム シリアル番号は 3C86-6F6B です\n",
      "\n",
      " C:\\Users\\survey\\Dropbox\\My PC (SURVEY-C20)\\Documents\\GitHub\\GNSS のディレクトリ\n",
      "\n",
      "2021/07/10  17:05    <DIR>          .\n",
      "2021/07/09  19:44    <DIR>          ..\n",
      "2021/07/10  15:42               214 .gitignore\n",
      "2021/07/10  17:04    <DIR>          .idea\n",
      "2021/07/10  15:42             1,523 GG1.csv\n",
      "2021/07/10  15:42             1,357 GG2.csv\n",
      "2021/07/10  17:05            60,414 gnss_concate.ipynb\n",
      "2021/07/10  15:58            10,387 gnss_extract.ipynb\n",
      "2021/07/10  16:03                82 README.md\n",
      "2018/03/18  11:24             3,454 VRS単_2018-03-18-11-24-13.rtk\n",
      "2018/05/28  21:00            29,291 VRS直_2018-05-28-21-00-28.rtk\n",
      "2018/06/24  14:02            66,904 VRS直_2018-06-24-14-02-18.rtk\n",
      "2018/07/11  20:01            51,198 VRS直_2018-07-11-20-00-59.rtk\n",
      "2021/07/09  21:19            12,733 VRS直_2021-06-27-11-45-43.rtk\n",
      "2021/07/09  21:30             2,880 VRS直_2021-06-27-11-45-43_get.rtk\n",
      "2021/07/09  21:32            14,536 VRS直_2021-06-27-11-45-43_get.rtk.xlsx\n",
      "2021/07/10  16:55             2,857 VRS直_2021-06-27-11-45-43_get_concate.rtk\n",
      "2021/07/09  18:49            60,812 VRS直_2021-07-05-12-48-07.rtk\n",
      "2021/07/09  21:07            14,497 VRS直_2021-07-05-12-48-07_get.rtk\n",
      "2021/07/09  21:35            31,534 VRS直_2021-07-05-12-48-07_get.rtk.xlsx\n",
      "              17 個のファイル             364,673 バイト\n",
      "               3 個のディレクトリ  1,044,825,382,912 バイトの空き領域\n"
     ]
    }
   ],
   "source": [
    "#check files\n",
    "%ls"
   ],
   "metadata": {
    "collapsed": false,
    "pycharm": {
     "name": "#%%\n"
    }
   }
  },
  {
   "cell_type": "code",
   "execution_count": 2,
   "outputs": [],
   "source": [
    "import pandas as pd\n",
    "import csv"
   ],
   "metadata": {
    "collapsed": false,
    "pycharm": {
     "name": "#%%\n"
    }
   }
  },
  {
   "cell_type": "code",
   "execution_count": 3,
   "outputs": [],
   "source": [
    "# define the input file\n",
    "\n",
    "# inp_file=\"2021-07-05_10.nmea\"\n",
    "# inp_file=\"VRS直_2021-07-05-12-48-07.rtk\"\n",
    "inp_file=\"VRS直_2021-06-27-11-45-43.rtk\""
   ],
   "metadata": {
    "collapsed": false,
    "pycharm": {
     "name": "#%%\n"
    }
   }
  },
  {
   "cell_type": "code",
   "execution_count": 4,
   "outputs": [
    {
     "data": {
      "text/plain": "'VRS直_2021-06-27-11-45-43'"
     },
     "execution_count": 4,
     "metadata": {},
     "output_type": "execute_result"
    }
   ],
   "source": [
    "# type(inp_file)\n",
    "base_name=inp_file.split('.',1)[0]\n",
    "# type(base_name)\n",
    "base_name\n",
    "# inp_file=\"VRS直_2021-07-05-12-48-07_get.rtk\""
   ],
   "metadata": {
    "collapsed": false,
    "pycharm": {
     "name": "#%%\n"
    }
   }
  },
  {
   "cell_type": "code",
   "execution_count": 5,
   "outputs": [
    {
     "data": {
      "text/plain": "'VRS直_2021-06-27-11-45-43_get_concate.rtk'"
     },
     "execution_count": 5,
     "metadata": {},
     "output_type": "execute_result"
    }
   ],
   "source": [
    "# make output filename from input file automatically\n",
    "\n",
    "# out_file=\"2021-07-05_10_GNRMC_out_test.csv\"\n",
    "# out_file=\"VRS直_2021-07-05-12-48-07_get.rtk\"\n",
    "out_file=base_name+\"_get_concate.rtk\"\n",
    "out_file\n",
    "# out_file=\"VRS直_2021-07-05-12-48-07_get.rtk\""
   ],
   "metadata": {
    "collapsed": false,
    "pycharm": {
     "name": "#%%\n"
    }
   }
  },
  {
   "cell_type": "code",
   "execution_count": 6,
   "outputs": [],
   "source": [
    "# enc_sty=\"UTF-8\"\n",
    "enc_sty=\"shift_jis\""
   ],
   "metadata": {
    "collapsed": false,
    "pycharm": {
     "name": "#%%\n"
    }
   }
  },
  {
   "cell_type": "code",
   "execution_count": 7,
   "outputs": [],
   "source": [
    "# with open(\"2021-07-05_10.nmea\", \"r\", encoding=\"UTF-8\", errors=\"\", newline=\"\" ) as f:\n",
    "# with open(inp_file, \"r\", encoding=\"UTF-8\", errors=\"\", newline=\"\" ) as f:\n",
    "with open(inp_file, \"r\", encoding=enc_sty, errors=\"\", newline=\"\" ) as f:\n",
    "    lst = csv.reader(f, delimiter=\",\")\n",
    "    df = pd.DataFrame(lst).rename(columns={0:'cols'})\n",
    "    # df = pd.DataFrame(lst)"
   ],
   "metadata": {
    "collapsed": false,
    "pycharm": {
     "name": "#%%\n"
    }
   }
  },
  {
   "cell_type": "code",
   "execution_count": 8,
   "outputs": [],
   "source": [
    "df_1=df.query('cols in [\"GG1\"]')\n",
    "# df_1_new=df_1.drop(df.columns[[1,2,4,5,6,7,8,9,10,11,12,13,14,15]], axis=1)\n",
    "# df_1_new=df_1.rename(columns={3:no})\n",
    "# df_1.to_csv(\"GG1.csv\",header=False, index=False)\n",
    "# type(df_1)"
   ],
   "metadata": {
    "collapsed": false,
    "pycharm": {
     "name": "#%%\n"
    }
   }
  },
  {
   "cell_type": "code",
   "execution_count": 37,
   "outputs": [
    {
     "data": {
      "text/plain": "    cols      3\n12   GG1  vrs 2\n20   GG1    195\n28   GG1    196\n36   GG1     A2\n56   GG1    102\n64   GG1    101\n72   GG1     82\n80   GG1     74\n88   GG1     73\n108  GG1     58\n116  GG1     59\n124  GG1     60\n132  GG1     66\n140  GG1     83\n148  GG1     85\n156  GG1    104\n164  GG1    199\n172  GG1     19\n180  GG1     20\n188  GG1     13\n196  GG1     14\n204  GG1     16\n212  GG1      7",
      "text/html": "<div>\n<style scoped>\n    .dataframe tbody tr th:only-of-type {\n        vertical-align: middle;\n    }\n\n    .dataframe tbody tr th {\n        vertical-align: top;\n    }\n\n    .dataframe thead th {\n        text-align: right;\n    }\n</style>\n<table border=\"1\" class=\"dataframe\">\n  <thead>\n    <tr style=\"text-align: right;\">\n      <th></th>\n      <th>cols</th>\n      <th>3</th>\n    </tr>\n  </thead>\n  <tbody>\n    <tr>\n      <th>12</th>\n      <td>GG1</td>\n      <td>vrs 2</td>\n    </tr>\n    <tr>\n      <th>20</th>\n      <td>GG1</td>\n      <td>195</td>\n    </tr>\n    <tr>\n      <th>28</th>\n      <td>GG1</td>\n      <td>196</td>\n    </tr>\n    <tr>\n      <th>36</th>\n      <td>GG1</td>\n      <td>A2</td>\n    </tr>\n    <tr>\n      <th>56</th>\n      <td>GG1</td>\n      <td>102</td>\n    </tr>\n    <tr>\n      <th>64</th>\n      <td>GG1</td>\n      <td>101</td>\n    </tr>\n    <tr>\n      <th>72</th>\n      <td>GG1</td>\n      <td>82</td>\n    </tr>\n    <tr>\n      <th>80</th>\n      <td>GG1</td>\n      <td>74</td>\n    </tr>\n    <tr>\n      <th>88</th>\n      <td>GG1</td>\n      <td>73</td>\n    </tr>\n    <tr>\n      <th>108</th>\n      <td>GG1</td>\n      <td>58</td>\n    </tr>\n    <tr>\n      <th>116</th>\n      <td>GG1</td>\n      <td>59</td>\n    </tr>\n    <tr>\n      <th>124</th>\n      <td>GG1</td>\n      <td>60</td>\n    </tr>\n    <tr>\n      <th>132</th>\n      <td>GG1</td>\n      <td>66</td>\n    </tr>\n    <tr>\n      <th>140</th>\n      <td>GG1</td>\n      <td>83</td>\n    </tr>\n    <tr>\n      <th>148</th>\n      <td>GG1</td>\n      <td>85</td>\n    </tr>\n    <tr>\n      <th>156</th>\n      <td>GG1</td>\n      <td>104</td>\n    </tr>\n    <tr>\n      <th>164</th>\n      <td>GG1</td>\n      <td>199</td>\n    </tr>\n    <tr>\n      <th>172</th>\n      <td>GG1</td>\n      <td>19</td>\n    </tr>\n    <tr>\n      <th>180</th>\n      <td>GG1</td>\n      <td>20</td>\n    </tr>\n    <tr>\n      <th>188</th>\n      <td>GG1</td>\n      <td>13</td>\n    </tr>\n    <tr>\n      <th>196</th>\n      <td>GG1</td>\n      <td>14</td>\n    </tr>\n    <tr>\n      <th>204</th>\n      <td>GG1</td>\n      <td>16</td>\n    </tr>\n    <tr>\n      <th>212</th>\n      <td>GG1</td>\n      <td>7</td>\n    </tr>\n  </tbody>\n</table>\n</div>"
     },
     "execution_count": 37,
     "metadata": {},
     "output_type": "execute_result"
    }
   ],
   "source": [
    "# df_1_new"
   ],
   "metadata": {
    "collapsed": false,
    "pycharm": {
     "name": "#%%\n"
    }
   }
  },
  {
   "cell_type": "code",
   "execution_count": 9,
   "outputs": [],
   "source": [
    "df_1 = df_1.reset_index(drop=True)"
   ],
   "metadata": {
    "collapsed": false,
    "pycharm": {
     "name": "#%%\n"
    }
   }
  },
  {
   "cell_type": "code",
   "execution_count": 10,
   "outputs": [
    {
     "data": {
      "text/plain": "   cols  1   2      3             4             5   6   7      8      9 10  \\\n0   GG1  1   2  vrs 2  12:55:39:JST  12:55:49:JST  10  15  2.199  2.199      \n1   GG1  1   3    195  12:56:52:JST  12:57:02:JST  10  15  2.199  2.199      \n2   GG1  1   4    196  13:48:16:JST  13:48:27:JST  10  14  2.199  2.199      \n3   GG1  1   5     A2  13:51:20:JST  13:51:30:JST  10  14  2.199  2.199      \n4   GG1  1   6    102  14:00:04:JST  14:00:14:JST  10  16  2.199  2.199      \n5   GG1  1   7    101  14:02:32:JST  14:02:42:JST  10  18  2.199  2.199      \n6   GG1  1   8     82  14:04:02:JST  14:04:12:JST  10  18  2.199  2.199      \n7   GG1  1   9     74  14:10:51:JST  14:11:01:JST  10  16  2.199  2.199      \n8   GG1  1  10     73  14:16:28:JST  14:16:38:JST  10  18  2.199  2.199      \n9   GG1  1  11     58  16:56:00:JST  16:56:10:JST  10  11  2.199  2.199      \n10  GG1  1  12     59  17:08:06:JST  17:08:17:JST  10  13  2.199  2.199      \n11  GG1  1  13     60  17:08:45:JST  17:08:56:JST  10  13  2.199  2.199      \n12  GG1  1  14     66  17:11:14:JST  17:11:24:JST  10  13  2.199  2.199      \n13  GG1  1  15     83  17:14:07:JST  17:14:16:JST  10  13  2.199  2.199      \n14  GG1  1  16     85  17:15:48:JST  17:15:57:JST  10  13  2.199  2.199      \n15  GG1  1  17    104  17:18:00:JST  17:18:10:JST  10  14  2.199  2.199      \n16  GG1  1  18    199  17:22:06:JST  17:22:16:JST  10  13  2.199  2.199      \n17  GG1  1  19     19  17:23:46:JST  17:23:56:JST  10  13  2.199  2.199      \n18  GG1  1  20     20  17:24:28:JST  17:24:38:JST  10  14  2.199  2.199      \n19  GG1  1  21     13  17:26:11:JST  17:26:21:JST  10  14  2.199  2.199      \n20  GG1  1  22     14  17:26:45:JST  17:26:55:JST  10  14  2.199  2.199      \n21  GG1  1  23     16  17:27:38:JST  17:27:48:JST  10  14  2.199  2.199      \n22  GG1  1  24      7  17:30:16:JST  17:30:26:JST  10  13  2.199  2.199      \n\n    11 12 13 14 15  \n0    1  0  0        \n1    2  0  0        \n2    3  0  0        \n3    4  0  0        \n4    1  0  0        \n5    2  0  0        \n6    3  0  0        \n7    4  0  0        \n8    5  0  0        \n9    1  0  0        \n10   2  0  0        \n11   3  0  0        \n12   4  0  0        \n13   5  0  0        \n14   6  0  0        \n15   7  0  0        \n16   8  0  0        \n17   9  0  0        \n18  10  0  0        \n19  11  0  0        \n20  12  0  0        \n21  13  0  0        \n22  14  0  0        ",
      "text/html": "<div>\n<style scoped>\n    .dataframe tbody tr th:only-of-type {\n        vertical-align: middle;\n    }\n\n    .dataframe tbody tr th {\n        vertical-align: top;\n    }\n\n    .dataframe thead th {\n        text-align: right;\n    }\n</style>\n<table border=\"1\" class=\"dataframe\">\n  <thead>\n    <tr style=\"text-align: right;\">\n      <th></th>\n      <th>cols</th>\n      <th>1</th>\n      <th>2</th>\n      <th>3</th>\n      <th>4</th>\n      <th>5</th>\n      <th>6</th>\n      <th>7</th>\n      <th>8</th>\n      <th>9</th>\n      <th>10</th>\n      <th>11</th>\n      <th>12</th>\n      <th>13</th>\n      <th>14</th>\n      <th>15</th>\n    </tr>\n  </thead>\n  <tbody>\n    <tr>\n      <th>0</th>\n      <td>GG1</td>\n      <td>1</td>\n      <td>2</td>\n      <td>vrs 2</td>\n      <td>12:55:39:JST</td>\n      <td>12:55:49:JST</td>\n      <td>10</td>\n      <td>15</td>\n      <td>2.199</td>\n      <td>2.199</td>\n      <td></td>\n      <td>1</td>\n      <td>0</td>\n      <td>0</td>\n      <td></td>\n      <td></td>\n    </tr>\n    <tr>\n      <th>1</th>\n      <td>GG1</td>\n      <td>1</td>\n      <td>3</td>\n      <td>195</td>\n      <td>12:56:52:JST</td>\n      <td>12:57:02:JST</td>\n      <td>10</td>\n      <td>15</td>\n      <td>2.199</td>\n      <td>2.199</td>\n      <td></td>\n      <td>2</td>\n      <td>0</td>\n      <td>0</td>\n      <td></td>\n      <td></td>\n    </tr>\n    <tr>\n      <th>2</th>\n      <td>GG1</td>\n      <td>1</td>\n      <td>4</td>\n      <td>196</td>\n      <td>13:48:16:JST</td>\n      <td>13:48:27:JST</td>\n      <td>10</td>\n      <td>14</td>\n      <td>2.199</td>\n      <td>2.199</td>\n      <td></td>\n      <td>3</td>\n      <td>0</td>\n      <td>0</td>\n      <td></td>\n      <td></td>\n    </tr>\n    <tr>\n      <th>3</th>\n      <td>GG1</td>\n      <td>1</td>\n      <td>5</td>\n      <td>A2</td>\n      <td>13:51:20:JST</td>\n      <td>13:51:30:JST</td>\n      <td>10</td>\n      <td>14</td>\n      <td>2.199</td>\n      <td>2.199</td>\n      <td></td>\n      <td>4</td>\n      <td>0</td>\n      <td>0</td>\n      <td></td>\n      <td></td>\n    </tr>\n    <tr>\n      <th>4</th>\n      <td>GG1</td>\n      <td>1</td>\n      <td>6</td>\n      <td>102</td>\n      <td>14:00:04:JST</td>\n      <td>14:00:14:JST</td>\n      <td>10</td>\n      <td>16</td>\n      <td>2.199</td>\n      <td>2.199</td>\n      <td></td>\n      <td>1</td>\n      <td>0</td>\n      <td>0</td>\n      <td></td>\n      <td></td>\n    </tr>\n    <tr>\n      <th>5</th>\n      <td>GG1</td>\n      <td>1</td>\n      <td>7</td>\n      <td>101</td>\n      <td>14:02:32:JST</td>\n      <td>14:02:42:JST</td>\n      <td>10</td>\n      <td>18</td>\n      <td>2.199</td>\n      <td>2.199</td>\n      <td></td>\n      <td>2</td>\n      <td>0</td>\n      <td>0</td>\n      <td></td>\n      <td></td>\n    </tr>\n    <tr>\n      <th>6</th>\n      <td>GG1</td>\n      <td>1</td>\n      <td>8</td>\n      <td>82</td>\n      <td>14:04:02:JST</td>\n      <td>14:04:12:JST</td>\n      <td>10</td>\n      <td>18</td>\n      <td>2.199</td>\n      <td>2.199</td>\n      <td></td>\n      <td>3</td>\n      <td>0</td>\n      <td>0</td>\n      <td></td>\n      <td></td>\n    </tr>\n    <tr>\n      <th>7</th>\n      <td>GG1</td>\n      <td>1</td>\n      <td>9</td>\n      <td>74</td>\n      <td>14:10:51:JST</td>\n      <td>14:11:01:JST</td>\n      <td>10</td>\n      <td>16</td>\n      <td>2.199</td>\n      <td>2.199</td>\n      <td></td>\n      <td>4</td>\n      <td>0</td>\n      <td>0</td>\n      <td></td>\n      <td></td>\n    </tr>\n    <tr>\n      <th>8</th>\n      <td>GG1</td>\n      <td>1</td>\n      <td>10</td>\n      <td>73</td>\n      <td>14:16:28:JST</td>\n      <td>14:16:38:JST</td>\n      <td>10</td>\n      <td>18</td>\n      <td>2.199</td>\n      <td>2.199</td>\n      <td></td>\n      <td>5</td>\n      <td>0</td>\n      <td>0</td>\n      <td></td>\n      <td></td>\n    </tr>\n    <tr>\n      <th>9</th>\n      <td>GG1</td>\n      <td>1</td>\n      <td>11</td>\n      <td>58</td>\n      <td>16:56:00:JST</td>\n      <td>16:56:10:JST</td>\n      <td>10</td>\n      <td>11</td>\n      <td>2.199</td>\n      <td>2.199</td>\n      <td></td>\n      <td>1</td>\n      <td>0</td>\n      <td>0</td>\n      <td></td>\n      <td></td>\n    </tr>\n    <tr>\n      <th>10</th>\n      <td>GG1</td>\n      <td>1</td>\n      <td>12</td>\n      <td>59</td>\n      <td>17:08:06:JST</td>\n      <td>17:08:17:JST</td>\n      <td>10</td>\n      <td>13</td>\n      <td>2.199</td>\n      <td>2.199</td>\n      <td></td>\n      <td>2</td>\n      <td>0</td>\n      <td>0</td>\n      <td></td>\n      <td></td>\n    </tr>\n    <tr>\n      <th>11</th>\n      <td>GG1</td>\n      <td>1</td>\n      <td>13</td>\n      <td>60</td>\n      <td>17:08:45:JST</td>\n      <td>17:08:56:JST</td>\n      <td>10</td>\n      <td>13</td>\n      <td>2.199</td>\n      <td>2.199</td>\n      <td></td>\n      <td>3</td>\n      <td>0</td>\n      <td>0</td>\n      <td></td>\n      <td></td>\n    </tr>\n    <tr>\n      <th>12</th>\n      <td>GG1</td>\n      <td>1</td>\n      <td>14</td>\n      <td>66</td>\n      <td>17:11:14:JST</td>\n      <td>17:11:24:JST</td>\n      <td>10</td>\n      <td>13</td>\n      <td>2.199</td>\n      <td>2.199</td>\n      <td></td>\n      <td>4</td>\n      <td>0</td>\n      <td>0</td>\n      <td></td>\n      <td></td>\n    </tr>\n    <tr>\n      <th>13</th>\n      <td>GG1</td>\n      <td>1</td>\n      <td>15</td>\n      <td>83</td>\n      <td>17:14:07:JST</td>\n      <td>17:14:16:JST</td>\n      <td>10</td>\n      <td>13</td>\n      <td>2.199</td>\n      <td>2.199</td>\n      <td></td>\n      <td>5</td>\n      <td>0</td>\n      <td>0</td>\n      <td></td>\n      <td></td>\n    </tr>\n    <tr>\n      <th>14</th>\n      <td>GG1</td>\n      <td>1</td>\n      <td>16</td>\n      <td>85</td>\n      <td>17:15:48:JST</td>\n      <td>17:15:57:JST</td>\n      <td>10</td>\n      <td>13</td>\n      <td>2.199</td>\n      <td>2.199</td>\n      <td></td>\n      <td>6</td>\n      <td>0</td>\n      <td>0</td>\n      <td></td>\n      <td></td>\n    </tr>\n    <tr>\n      <th>15</th>\n      <td>GG1</td>\n      <td>1</td>\n      <td>17</td>\n      <td>104</td>\n      <td>17:18:00:JST</td>\n      <td>17:18:10:JST</td>\n      <td>10</td>\n      <td>14</td>\n      <td>2.199</td>\n      <td>2.199</td>\n      <td></td>\n      <td>7</td>\n      <td>0</td>\n      <td>0</td>\n      <td></td>\n      <td></td>\n    </tr>\n    <tr>\n      <th>16</th>\n      <td>GG1</td>\n      <td>1</td>\n      <td>18</td>\n      <td>199</td>\n      <td>17:22:06:JST</td>\n      <td>17:22:16:JST</td>\n      <td>10</td>\n      <td>13</td>\n      <td>2.199</td>\n      <td>2.199</td>\n      <td></td>\n      <td>8</td>\n      <td>0</td>\n      <td>0</td>\n      <td></td>\n      <td></td>\n    </tr>\n    <tr>\n      <th>17</th>\n      <td>GG1</td>\n      <td>1</td>\n      <td>19</td>\n      <td>19</td>\n      <td>17:23:46:JST</td>\n      <td>17:23:56:JST</td>\n      <td>10</td>\n      <td>13</td>\n      <td>2.199</td>\n      <td>2.199</td>\n      <td></td>\n      <td>9</td>\n      <td>0</td>\n      <td>0</td>\n      <td></td>\n      <td></td>\n    </tr>\n    <tr>\n      <th>18</th>\n      <td>GG1</td>\n      <td>1</td>\n      <td>20</td>\n      <td>20</td>\n      <td>17:24:28:JST</td>\n      <td>17:24:38:JST</td>\n      <td>10</td>\n      <td>14</td>\n      <td>2.199</td>\n      <td>2.199</td>\n      <td></td>\n      <td>10</td>\n      <td>0</td>\n      <td>0</td>\n      <td></td>\n      <td></td>\n    </tr>\n    <tr>\n      <th>19</th>\n      <td>GG1</td>\n      <td>1</td>\n      <td>21</td>\n      <td>13</td>\n      <td>17:26:11:JST</td>\n      <td>17:26:21:JST</td>\n      <td>10</td>\n      <td>14</td>\n      <td>2.199</td>\n      <td>2.199</td>\n      <td></td>\n      <td>11</td>\n      <td>0</td>\n      <td>0</td>\n      <td></td>\n      <td></td>\n    </tr>\n    <tr>\n      <th>20</th>\n      <td>GG1</td>\n      <td>1</td>\n      <td>22</td>\n      <td>14</td>\n      <td>17:26:45:JST</td>\n      <td>17:26:55:JST</td>\n      <td>10</td>\n      <td>14</td>\n      <td>2.199</td>\n      <td>2.199</td>\n      <td></td>\n      <td>12</td>\n      <td>0</td>\n      <td>0</td>\n      <td></td>\n      <td></td>\n    </tr>\n    <tr>\n      <th>21</th>\n      <td>GG1</td>\n      <td>1</td>\n      <td>23</td>\n      <td>16</td>\n      <td>17:27:38:JST</td>\n      <td>17:27:48:JST</td>\n      <td>10</td>\n      <td>14</td>\n      <td>2.199</td>\n      <td>2.199</td>\n      <td></td>\n      <td>13</td>\n      <td>0</td>\n      <td>0</td>\n      <td></td>\n      <td></td>\n    </tr>\n    <tr>\n      <th>22</th>\n      <td>GG1</td>\n      <td>1</td>\n      <td>24</td>\n      <td>7</td>\n      <td>17:30:16:JST</td>\n      <td>17:30:26:JST</td>\n      <td>10</td>\n      <td>13</td>\n      <td>2.199</td>\n      <td>2.199</td>\n      <td></td>\n      <td>14</td>\n      <td>0</td>\n      <td>0</td>\n      <td></td>\n      <td></td>\n    </tr>\n  </tbody>\n</table>\n</div>"
     },
     "execution_count": 10,
     "metadata": {},
     "output_type": "execute_result"
    }
   ],
   "source": [
    "df_1"
   ],
   "metadata": {
    "collapsed": false,
    "pycharm": {
     "name": "#%%\n"
    }
   }
  },
  {
   "cell_type": "code",
   "execution_count": 11,
   "outputs": [],
   "source": [
    "df_2=df.query('cols in [\"GG2\"]')\n",
    "# df_2.to_csv(\"GG2.csv\",header=False, index=False)"
   ],
   "metadata": {
    "collapsed": false,
    "pycharm": {
     "name": "#%%\n"
    }
   }
  },
  {
   "cell_type": "code",
   "execution_count": 12,
   "outputs": [
    {
     "data": {
      "text/plain": "   cols           1          2        3       4        5 6     7     8     9  \\\n0   GG2  -90167.485  -5099.511  183.210  39.251  143.959    None  None  None   \n1   GG2  -90166.340  -5102.293  183.218  39.251  143.967    None  None  None   \n2   GG2  -90157.653  -5119.548  183.201  39.250  143.951    None  None  None   \n3   GG2  -90138.610  -5108.930  182.318  39.251  143.067    None  None  None   \n4   GG2  -90151.530  -5076.542  182.332  39.253  143.079    None  None  None   \n5   GG2  -90147.211  -5080.068  182.330  39.253  143.077    None  None  None   \n6   GG2  -90153.147  -5094.767  182.309  39.252  143.057    None  None  None   \n7   GG2  -90136.619  -5119.989  182.293  39.250  143.043    None  None  None   \n8   GG2  -90135.976  -5117.813  182.326  39.250  143.076    None  None  None   \n9   GG2  -90160.331  -5125.849  183.204  39.249  143.955    None  None  None   \n10  GG2  -90164.744  -5118.819  183.209  39.250  143.959    None  None  None   \n11  GG2  -90166.661  -5117.932  183.202  39.250  143.952    None  None  None   \n12  GG2  -90167.817  -5111.484  183.237  39.250  143.987    None  None  None   \n13  GG2  -90152.350  -5087.526  182.294  39.252  143.042    None  None  None   \n14  GG2  -90151.047  -5080.455  182.300  39.253  143.047    None  None  None   \n15  GG2  -90144.522  -5072.708  182.372  39.253  143.119    None  None  None   \n16  GG2  -90182.612  -5127.612  184.224  39.249  144.975    None  None  None   \n17  GG2  -90183.748  -5140.256  184.304  39.248  145.056    None  None  None   \n18  GG2  -90182.946  -5142.019  184.315  39.248  145.067    None  None  None   \n19  GG2  -90192.200  -5151.513  184.527  39.247  145.280    None  None  None   \n20  GG2  -90190.367  -5151.452  184.484  39.247  145.237    None  None  None   \n21  GG2  -90186.992  -5151.326  184.445  39.247  145.198    None  None  None   \n22  GG2  -90206.297  -5152.559  184.726  39.247  145.479    None  None  None   \n\n      10    11    12    13    14    15  \n0   None  None  None  None  None  None  \n1   None  None  None  None  None  None  \n2   None  None  None  None  None  None  \n3   None  None  None  None  None  None  \n4   None  None  None  None  None  None  \n5   None  None  None  None  None  None  \n6   None  None  None  None  None  None  \n7   None  None  None  None  None  None  \n8   None  None  None  None  None  None  \n9   None  None  None  None  None  None  \n10  None  None  None  None  None  None  \n11  None  None  None  None  None  None  \n12  None  None  None  None  None  None  \n13  None  None  None  None  None  None  \n14  None  None  None  None  None  None  \n15  None  None  None  None  None  None  \n16  None  None  None  None  None  None  \n17  None  None  None  None  None  None  \n18  None  None  None  None  None  None  \n19  None  None  None  None  None  None  \n20  None  None  None  None  None  None  \n21  None  None  None  None  None  None  \n22  None  None  None  None  None  None  ",
      "text/html": "<div>\n<style scoped>\n    .dataframe tbody tr th:only-of-type {\n        vertical-align: middle;\n    }\n\n    .dataframe tbody tr th {\n        vertical-align: top;\n    }\n\n    .dataframe thead th {\n        text-align: right;\n    }\n</style>\n<table border=\"1\" class=\"dataframe\">\n  <thead>\n    <tr style=\"text-align: right;\">\n      <th></th>\n      <th>cols</th>\n      <th>1</th>\n      <th>2</th>\n      <th>3</th>\n      <th>4</th>\n      <th>5</th>\n      <th>6</th>\n      <th>7</th>\n      <th>8</th>\n      <th>9</th>\n      <th>10</th>\n      <th>11</th>\n      <th>12</th>\n      <th>13</th>\n      <th>14</th>\n      <th>15</th>\n    </tr>\n  </thead>\n  <tbody>\n    <tr>\n      <th>0</th>\n      <td>GG2</td>\n      <td>-90167.485</td>\n      <td>-5099.511</td>\n      <td>183.210</td>\n      <td>39.251</td>\n      <td>143.959</td>\n      <td></td>\n      <td>None</td>\n      <td>None</td>\n      <td>None</td>\n      <td>None</td>\n      <td>None</td>\n      <td>None</td>\n      <td>None</td>\n      <td>None</td>\n      <td>None</td>\n    </tr>\n    <tr>\n      <th>1</th>\n      <td>GG2</td>\n      <td>-90166.340</td>\n      <td>-5102.293</td>\n      <td>183.218</td>\n      <td>39.251</td>\n      <td>143.967</td>\n      <td></td>\n      <td>None</td>\n      <td>None</td>\n      <td>None</td>\n      <td>None</td>\n      <td>None</td>\n      <td>None</td>\n      <td>None</td>\n      <td>None</td>\n      <td>None</td>\n    </tr>\n    <tr>\n      <th>2</th>\n      <td>GG2</td>\n      <td>-90157.653</td>\n      <td>-5119.548</td>\n      <td>183.201</td>\n      <td>39.250</td>\n      <td>143.951</td>\n      <td></td>\n      <td>None</td>\n      <td>None</td>\n      <td>None</td>\n      <td>None</td>\n      <td>None</td>\n      <td>None</td>\n      <td>None</td>\n      <td>None</td>\n      <td>None</td>\n    </tr>\n    <tr>\n      <th>3</th>\n      <td>GG2</td>\n      <td>-90138.610</td>\n      <td>-5108.930</td>\n      <td>182.318</td>\n      <td>39.251</td>\n      <td>143.067</td>\n      <td></td>\n      <td>None</td>\n      <td>None</td>\n      <td>None</td>\n      <td>None</td>\n      <td>None</td>\n      <td>None</td>\n      <td>None</td>\n      <td>None</td>\n      <td>None</td>\n    </tr>\n    <tr>\n      <th>4</th>\n      <td>GG2</td>\n      <td>-90151.530</td>\n      <td>-5076.542</td>\n      <td>182.332</td>\n      <td>39.253</td>\n      <td>143.079</td>\n      <td></td>\n      <td>None</td>\n      <td>None</td>\n      <td>None</td>\n      <td>None</td>\n      <td>None</td>\n      <td>None</td>\n      <td>None</td>\n      <td>None</td>\n      <td>None</td>\n    </tr>\n    <tr>\n      <th>5</th>\n      <td>GG2</td>\n      <td>-90147.211</td>\n      <td>-5080.068</td>\n      <td>182.330</td>\n      <td>39.253</td>\n      <td>143.077</td>\n      <td></td>\n      <td>None</td>\n      <td>None</td>\n      <td>None</td>\n      <td>None</td>\n      <td>None</td>\n      <td>None</td>\n      <td>None</td>\n      <td>None</td>\n      <td>None</td>\n    </tr>\n    <tr>\n      <th>6</th>\n      <td>GG2</td>\n      <td>-90153.147</td>\n      <td>-5094.767</td>\n      <td>182.309</td>\n      <td>39.252</td>\n      <td>143.057</td>\n      <td></td>\n      <td>None</td>\n      <td>None</td>\n      <td>None</td>\n      <td>None</td>\n      <td>None</td>\n      <td>None</td>\n      <td>None</td>\n      <td>None</td>\n      <td>None</td>\n    </tr>\n    <tr>\n      <th>7</th>\n      <td>GG2</td>\n      <td>-90136.619</td>\n      <td>-5119.989</td>\n      <td>182.293</td>\n      <td>39.250</td>\n      <td>143.043</td>\n      <td></td>\n      <td>None</td>\n      <td>None</td>\n      <td>None</td>\n      <td>None</td>\n      <td>None</td>\n      <td>None</td>\n      <td>None</td>\n      <td>None</td>\n      <td>None</td>\n    </tr>\n    <tr>\n      <th>8</th>\n      <td>GG2</td>\n      <td>-90135.976</td>\n      <td>-5117.813</td>\n      <td>182.326</td>\n      <td>39.250</td>\n      <td>143.076</td>\n      <td></td>\n      <td>None</td>\n      <td>None</td>\n      <td>None</td>\n      <td>None</td>\n      <td>None</td>\n      <td>None</td>\n      <td>None</td>\n      <td>None</td>\n      <td>None</td>\n    </tr>\n    <tr>\n      <th>9</th>\n      <td>GG2</td>\n      <td>-90160.331</td>\n      <td>-5125.849</td>\n      <td>183.204</td>\n      <td>39.249</td>\n      <td>143.955</td>\n      <td></td>\n      <td>None</td>\n      <td>None</td>\n      <td>None</td>\n      <td>None</td>\n      <td>None</td>\n      <td>None</td>\n      <td>None</td>\n      <td>None</td>\n      <td>None</td>\n    </tr>\n    <tr>\n      <th>10</th>\n      <td>GG2</td>\n      <td>-90164.744</td>\n      <td>-5118.819</td>\n      <td>183.209</td>\n      <td>39.250</td>\n      <td>143.959</td>\n      <td></td>\n      <td>None</td>\n      <td>None</td>\n      <td>None</td>\n      <td>None</td>\n      <td>None</td>\n      <td>None</td>\n      <td>None</td>\n      <td>None</td>\n      <td>None</td>\n    </tr>\n    <tr>\n      <th>11</th>\n      <td>GG2</td>\n      <td>-90166.661</td>\n      <td>-5117.932</td>\n      <td>183.202</td>\n      <td>39.250</td>\n      <td>143.952</td>\n      <td></td>\n      <td>None</td>\n      <td>None</td>\n      <td>None</td>\n      <td>None</td>\n      <td>None</td>\n      <td>None</td>\n      <td>None</td>\n      <td>None</td>\n      <td>None</td>\n    </tr>\n    <tr>\n      <th>12</th>\n      <td>GG2</td>\n      <td>-90167.817</td>\n      <td>-5111.484</td>\n      <td>183.237</td>\n      <td>39.250</td>\n      <td>143.987</td>\n      <td></td>\n      <td>None</td>\n      <td>None</td>\n      <td>None</td>\n      <td>None</td>\n      <td>None</td>\n      <td>None</td>\n      <td>None</td>\n      <td>None</td>\n      <td>None</td>\n    </tr>\n    <tr>\n      <th>13</th>\n      <td>GG2</td>\n      <td>-90152.350</td>\n      <td>-5087.526</td>\n      <td>182.294</td>\n      <td>39.252</td>\n      <td>143.042</td>\n      <td></td>\n      <td>None</td>\n      <td>None</td>\n      <td>None</td>\n      <td>None</td>\n      <td>None</td>\n      <td>None</td>\n      <td>None</td>\n      <td>None</td>\n      <td>None</td>\n    </tr>\n    <tr>\n      <th>14</th>\n      <td>GG2</td>\n      <td>-90151.047</td>\n      <td>-5080.455</td>\n      <td>182.300</td>\n      <td>39.253</td>\n      <td>143.047</td>\n      <td></td>\n      <td>None</td>\n      <td>None</td>\n      <td>None</td>\n      <td>None</td>\n      <td>None</td>\n      <td>None</td>\n      <td>None</td>\n      <td>None</td>\n      <td>None</td>\n    </tr>\n    <tr>\n      <th>15</th>\n      <td>GG2</td>\n      <td>-90144.522</td>\n      <td>-5072.708</td>\n      <td>182.372</td>\n      <td>39.253</td>\n      <td>143.119</td>\n      <td></td>\n      <td>None</td>\n      <td>None</td>\n      <td>None</td>\n      <td>None</td>\n      <td>None</td>\n      <td>None</td>\n      <td>None</td>\n      <td>None</td>\n      <td>None</td>\n    </tr>\n    <tr>\n      <th>16</th>\n      <td>GG2</td>\n      <td>-90182.612</td>\n      <td>-5127.612</td>\n      <td>184.224</td>\n      <td>39.249</td>\n      <td>144.975</td>\n      <td></td>\n      <td>None</td>\n      <td>None</td>\n      <td>None</td>\n      <td>None</td>\n      <td>None</td>\n      <td>None</td>\n      <td>None</td>\n      <td>None</td>\n      <td>None</td>\n    </tr>\n    <tr>\n      <th>17</th>\n      <td>GG2</td>\n      <td>-90183.748</td>\n      <td>-5140.256</td>\n      <td>184.304</td>\n      <td>39.248</td>\n      <td>145.056</td>\n      <td></td>\n      <td>None</td>\n      <td>None</td>\n      <td>None</td>\n      <td>None</td>\n      <td>None</td>\n      <td>None</td>\n      <td>None</td>\n      <td>None</td>\n      <td>None</td>\n    </tr>\n    <tr>\n      <th>18</th>\n      <td>GG2</td>\n      <td>-90182.946</td>\n      <td>-5142.019</td>\n      <td>184.315</td>\n      <td>39.248</td>\n      <td>145.067</td>\n      <td></td>\n      <td>None</td>\n      <td>None</td>\n      <td>None</td>\n      <td>None</td>\n      <td>None</td>\n      <td>None</td>\n      <td>None</td>\n      <td>None</td>\n      <td>None</td>\n    </tr>\n    <tr>\n      <th>19</th>\n      <td>GG2</td>\n      <td>-90192.200</td>\n      <td>-5151.513</td>\n      <td>184.527</td>\n      <td>39.247</td>\n      <td>145.280</td>\n      <td></td>\n      <td>None</td>\n      <td>None</td>\n      <td>None</td>\n      <td>None</td>\n      <td>None</td>\n      <td>None</td>\n      <td>None</td>\n      <td>None</td>\n      <td>None</td>\n    </tr>\n    <tr>\n      <th>20</th>\n      <td>GG2</td>\n      <td>-90190.367</td>\n      <td>-5151.452</td>\n      <td>184.484</td>\n      <td>39.247</td>\n      <td>145.237</td>\n      <td></td>\n      <td>None</td>\n      <td>None</td>\n      <td>None</td>\n      <td>None</td>\n      <td>None</td>\n      <td>None</td>\n      <td>None</td>\n      <td>None</td>\n      <td>None</td>\n    </tr>\n    <tr>\n      <th>21</th>\n      <td>GG2</td>\n      <td>-90186.992</td>\n      <td>-5151.326</td>\n      <td>184.445</td>\n      <td>39.247</td>\n      <td>145.198</td>\n      <td></td>\n      <td>None</td>\n      <td>None</td>\n      <td>None</td>\n      <td>None</td>\n      <td>None</td>\n      <td>None</td>\n      <td>None</td>\n      <td>None</td>\n      <td>None</td>\n    </tr>\n    <tr>\n      <th>22</th>\n      <td>GG2</td>\n      <td>-90206.297</td>\n      <td>-5152.559</td>\n      <td>184.726</td>\n      <td>39.247</td>\n      <td>145.479</td>\n      <td></td>\n      <td>None</td>\n      <td>None</td>\n      <td>None</td>\n      <td>None</td>\n      <td>None</td>\n      <td>None</td>\n      <td>None</td>\n      <td>None</td>\n      <td>None</td>\n    </tr>\n  </tbody>\n</table>\n</div>"
     },
     "execution_count": 12,
     "metadata": {},
     "output_type": "execute_result"
    }
   ],
   "source": [
    "df_2 = df_2.reset_index(drop=True)\n",
    "df_2"
   ],
   "metadata": {
    "collapsed": false,
    "pycharm": {
     "name": "#%%\n"
    }
   }
  },
  {
   "cell_type": "code",
   "execution_count": 13,
   "outputs": [],
   "source": [
    "concatenated_df = pd.concat([df_1, df_2], axis=1)"
   ],
   "metadata": {
    "collapsed": false,
    "pycharm": {
     "name": "#%%\n"
    }
   }
  },
  {
   "cell_type": "code",
   "execution_count": 14,
   "outputs": [],
   "source": [
    "sh=concatenated_df.shape"
   ],
   "metadata": {
    "collapsed": false,
    "pycharm": {
     "name": "#%%\n"
    }
   }
  },
  {
   "cell_type": "code",
   "execution_count": 15,
   "outputs": [],
   "source": [
    "concatenated_df.columns=range(sh[1])"
   ],
   "metadata": {
    "collapsed": false,
    "pycharm": {
     "name": "#%%\n"
    }
   }
  },
  {
   "cell_type": "code",
   "execution_count": 16,
   "outputs": [
    {
     "data": {
      "text/plain": "     0  1   2      3             4             5   6   7      8      9   ...  \\\n0   GG1  1   2  vrs 2  12:55:39:JST  12:55:49:JST  10  15  2.199  2.199  ...   \n1   GG1  1   3    195  12:56:52:JST  12:57:02:JST  10  15  2.199  2.199  ...   \n2   GG1  1   4    196  13:48:16:JST  13:48:27:JST  10  14  2.199  2.199  ...   \n3   GG1  1   5     A2  13:51:20:JST  13:51:30:JST  10  14  2.199  2.199  ...   \n4   GG1  1   6    102  14:00:04:JST  14:00:14:JST  10  16  2.199  2.199  ...   \n5   GG1  1   7    101  14:02:32:JST  14:02:42:JST  10  18  2.199  2.199  ...   \n6   GG1  1   8     82  14:04:02:JST  14:04:12:JST  10  18  2.199  2.199  ...   \n7   GG1  1   9     74  14:10:51:JST  14:11:01:JST  10  16  2.199  2.199  ...   \n8   GG1  1  10     73  14:16:28:JST  14:16:38:JST  10  18  2.199  2.199  ...   \n9   GG1  1  11     58  16:56:00:JST  16:56:10:JST  10  11  2.199  2.199  ...   \n10  GG1  1  12     59  17:08:06:JST  17:08:17:JST  10  13  2.199  2.199  ...   \n11  GG1  1  13     60  17:08:45:JST  17:08:56:JST  10  13  2.199  2.199  ...   \n12  GG1  1  14     66  17:11:14:JST  17:11:24:JST  10  13  2.199  2.199  ...   \n13  GG1  1  15     83  17:14:07:JST  17:14:16:JST  10  13  2.199  2.199  ...   \n14  GG1  1  16     85  17:15:48:JST  17:15:57:JST  10  13  2.199  2.199  ...   \n15  GG1  1  17    104  17:18:00:JST  17:18:10:JST  10  14  2.199  2.199  ...   \n16  GG1  1  18    199  17:22:06:JST  17:22:16:JST  10  13  2.199  2.199  ...   \n17  GG1  1  19     19  17:23:46:JST  17:23:56:JST  10  13  2.199  2.199  ...   \n18  GG1  1  20     20  17:24:28:JST  17:24:38:JST  10  14  2.199  2.199  ...   \n19  GG1  1  21     13  17:26:11:JST  17:26:21:JST  10  14  2.199  2.199  ...   \n20  GG1  1  22     14  17:26:45:JST  17:26:55:JST  10  14  2.199  2.199  ...   \n21  GG1  1  23     16  17:27:38:JST  17:27:48:JST  10  14  2.199  2.199  ...   \n22  GG1  1  24      7  17:30:16:JST  17:30:26:JST  10  13  2.199  2.199  ...   \n\n   22    23    24    25    26    27    28    29    30    31  \n0      None  None  None  None  None  None  None  None  None  \n1      None  None  None  None  None  None  None  None  None  \n2      None  None  None  None  None  None  None  None  None  \n3      None  None  None  None  None  None  None  None  None  \n4      None  None  None  None  None  None  None  None  None  \n5      None  None  None  None  None  None  None  None  None  \n6      None  None  None  None  None  None  None  None  None  \n7      None  None  None  None  None  None  None  None  None  \n8      None  None  None  None  None  None  None  None  None  \n9      None  None  None  None  None  None  None  None  None  \n10     None  None  None  None  None  None  None  None  None  \n11     None  None  None  None  None  None  None  None  None  \n12     None  None  None  None  None  None  None  None  None  \n13     None  None  None  None  None  None  None  None  None  \n14     None  None  None  None  None  None  None  None  None  \n15     None  None  None  None  None  None  None  None  None  \n16     None  None  None  None  None  None  None  None  None  \n17     None  None  None  None  None  None  None  None  None  \n18     None  None  None  None  None  None  None  None  None  \n19     None  None  None  None  None  None  None  None  None  \n20     None  None  None  None  None  None  None  None  None  \n21     None  None  None  None  None  None  None  None  None  \n22     None  None  None  None  None  None  None  None  None  \n\n[23 rows x 32 columns]",
      "text/html": "<div>\n<style scoped>\n    .dataframe tbody tr th:only-of-type {\n        vertical-align: middle;\n    }\n\n    .dataframe tbody tr th {\n        vertical-align: top;\n    }\n\n    .dataframe thead th {\n        text-align: right;\n    }\n</style>\n<table border=\"1\" class=\"dataframe\">\n  <thead>\n    <tr style=\"text-align: right;\">\n      <th></th>\n      <th>0</th>\n      <th>1</th>\n      <th>2</th>\n      <th>3</th>\n      <th>4</th>\n      <th>5</th>\n      <th>6</th>\n      <th>7</th>\n      <th>8</th>\n      <th>9</th>\n      <th>...</th>\n      <th>22</th>\n      <th>23</th>\n      <th>24</th>\n      <th>25</th>\n      <th>26</th>\n      <th>27</th>\n      <th>28</th>\n      <th>29</th>\n      <th>30</th>\n      <th>31</th>\n    </tr>\n  </thead>\n  <tbody>\n    <tr>\n      <th>0</th>\n      <td>GG1</td>\n      <td>1</td>\n      <td>2</td>\n      <td>vrs 2</td>\n      <td>12:55:39:JST</td>\n      <td>12:55:49:JST</td>\n      <td>10</td>\n      <td>15</td>\n      <td>2.199</td>\n      <td>2.199</td>\n      <td>...</td>\n      <td></td>\n      <td>None</td>\n      <td>None</td>\n      <td>None</td>\n      <td>None</td>\n      <td>None</td>\n      <td>None</td>\n      <td>None</td>\n      <td>None</td>\n      <td>None</td>\n    </tr>\n    <tr>\n      <th>1</th>\n      <td>GG1</td>\n      <td>1</td>\n      <td>3</td>\n      <td>195</td>\n      <td>12:56:52:JST</td>\n      <td>12:57:02:JST</td>\n      <td>10</td>\n      <td>15</td>\n      <td>2.199</td>\n      <td>2.199</td>\n      <td>...</td>\n      <td></td>\n      <td>None</td>\n      <td>None</td>\n      <td>None</td>\n      <td>None</td>\n      <td>None</td>\n      <td>None</td>\n      <td>None</td>\n      <td>None</td>\n      <td>None</td>\n    </tr>\n    <tr>\n      <th>2</th>\n      <td>GG1</td>\n      <td>1</td>\n      <td>4</td>\n      <td>196</td>\n      <td>13:48:16:JST</td>\n      <td>13:48:27:JST</td>\n      <td>10</td>\n      <td>14</td>\n      <td>2.199</td>\n      <td>2.199</td>\n      <td>...</td>\n      <td></td>\n      <td>None</td>\n      <td>None</td>\n      <td>None</td>\n      <td>None</td>\n      <td>None</td>\n      <td>None</td>\n      <td>None</td>\n      <td>None</td>\n      <td>None</td>\n    </tr>\n    <tr>\n      <th>3</th>\n      <td>GG1</td>\n      <td>1</td>\n      <td>5</td>\n      <td>A2</td>\n      <td>13:51:20:JST</td>\n      <td>13:51:30:JST</td>\n      <td>10</td>\n      <td>14</td>\n      <td>2.199</td>\n      <td>2.199</td>\n      <td>...</td>\n      <td></td>\n      <td>None</td>\n      <td>None</td>\n      <td>None</td>\n      <td>None</td>\n      <td>None</td>\n      <td>None</td>\n      <td>None</td>\n      <td>None</td>\n      <td>None</td>\n    </tr>\n    <tr>\n      <th>4</th>\n      <td>GG1</td>\n      <td>1</td>\n      <td>6</td>\n      <td>102</td>\n      <td>14:00:04:JST</td>\n      <td>14:00:14:JST</td>\n      <td>10</td>\n      <td>16</td>\n      <td>2.199</td>\n      <td>2.199</td>\n      <td>...</td>\n      <td></td>\n      <td>None</td>\n      <td>None</td>\n      <td>None</td>\n      <td>None</td>\n      <td>None</td>\n      <td>None</td>\n      <td>None</td>\n      <td>None</td>\n      <td>None</td>\n    </tr>\n    <tr>\n      <th>5</th>\n      <td>GG1</td>\n      <td>1</td>\n      <td>7</td>\n      <td>101</td>\n      <td>14:02:32:JST</td>\n      <td>14:02:42:JST</td>\n      <td>10</td>\n      <td>18</td>\n      <td>2.199</td>\n      <td>2.199</td>\n      <td>...</td>\n      <td></td>\n      <td>None</td>\n      <td>None</td>\n      <td>None</td>\n      <td>None</td>\n      <td>None</td>\n      <td>None</td>\n      <td>None</td>\n      <td>None</td>\n      <td>None</td>\n    </tr>\n    <tr>\n      <th>6</th>\n      <td>GG1</td>\n      <td>1</td>\n      <td>8</td>\n      <td>82</td>\n      <td>14:04:02:JST</td>\n      <td>14:04:12:JST</td>\n      <td>10</td>\n      <td>18</td>\n      <td>2.199</td>\n      <td>2.199</td>\n      <td>...</td>\n      <td></td>\n      <td>None</td>\n      <td>None</td>\n      <td>None</td>\n      <td>None</td>\n      <td>None</td>\n      <td>None</td>\n      <td>None</td>\n      <td>None</td>\n      <td>None</td>\n    </tr>\n    <tr>\n      <th>7</th>\n      <td>GG1</td>\n      <td>1</td>\n      <td>9</td>\n      <td>74</td>\n      <td>14:10:51:JST</td>\n      <td>14:11:01:JST</td>\n      <td>10</td>\n      <td>16</td>\n      <td>2.199</td>\n      <td>2.199</td>\n      <td>...</td>\n      <td></td>\n      <td>None</td>\n      <td>None</td>\n      <td>None</td>\n      <td>None</td>\n      <td>None</td>\n      <td>None</td>\n      <td>None</td>\n      <td>None</td>\n      <td>None</td>\n    </tr>\n    <tr>\n      <th>8</th>\n      <td>GG1</td>\n      <td>1</td>\n      <td>10</td>\n      <td>73</td>\n      <td>14:16:28:JST</td>\n      <td>14:16:38:JST</td>\n      <td>10</td>\n      <td>18</td>\n      <td>2.199</td>\n      <td>2.199</td>\n      <td>...</td>\n      <td></td>\n      <td>None</td>\n      <td>None</td>\n      <td>None</td>\n      <td>None</td>\n      <td>None</td>\n      <td>None</td>\n      <td>None</td>\n      <td>None</td>\n      <td>None</td>\n    </tr>\n    <tr>\n      <th>9</th>\n      <td>GG1</td>\n      <td>1</td>\n      <td>11</td>\n      <td>58</td>\n      <td>16:56:00:JST</td>\n      <td>16:56:10:JST</td>\n      <td>10</td>\n      <td>11</td>\n      <td>2.199</td>\n      <td>2.199</td>\n      <td>...</td>\n      <td></td>\n      <td>None</td>\n      <td>None</td>\n      <td>None</td>\n      <td>None</td>\n      <td>None</td>\n      <td>None</td>\n      <td>None</td>\n      <td>None</td>\n      <td>None</td>\n    </tr>\n    <tr>\n      <th>10</th>\n      <td>GG1</td>\n      <td>1</td>\n      <td>12</td>\n      <td>59</td>\n      <td>17:08:06:JST</td>\n      <td>17:08:17:JST</td>\n      <td>10</td>\n      <td>13</td>\n      <td>2.199</td>\n      <td>2.199</td>\n      <td>...</td>\n      <td></td>\n      <td>None</td>\n      <td>None</td>\n      <td>None</td>\n      <td>None</td>\n      <td>None</td>\n      <td>None</td>\n      <td>None</td>\n      <td>None</td>\n      <td>None</td>\n    </tr>\n    <tr>\n      <th>11</th>\n      <td>GG1</td>\n      <td>1</td>\n      <td>13</td>\n      <td>60</td>\n      <td>17:08:45:JST</td>\n      <td>17:08:56:JST</td>\n      <td>10</td>\n      <td>13</td>\n      <td>2.199</td>\n      <td>2.199</td>\n      <td>...</td>\n      <td></td>\n      <td>None</td>\n      <td>None</td>\n      <td>None</td>\n      <td>None</td>\n      <td>None</td>\n      <td>None</td>\n      <td>None</td>\n      <td>None</td>\n      <td>None</td>\n    </tr>\n    <tr>\n      <th>12</th>\n      <td>GG1</td>\n      <td>1</td>\n      <td>14</td>\n      <td>66</td>\n      <td>17:11:14:JST</td>\n      <td>17:11:24:JST</td>\n      <td>10</td>\n      <td>13</td>\n      <td>2.199</td>\n      <td>2.199</td>\n      <td>...</td>\n      <td></td>\n      <td>None</td>\n      <td>None</td>\n      <td>None</td>\n      <td>None</td>\n      <td>None</td>\n      <td>None</td>\n      <td>None</td>\n      <td>None</td>\n      <td>None</td>\n    </tr>\n    <tr>\n      <th>13</th>\n      <td>GG1</td>\n      <td>1</td>\n      <td>15</td>\n      <td>83</td>\n      <td>17:14:07:JST</td>\n      <td>17:14:16:JST</td>\n      <td>10</td>\n      <td>13</td>\n      <td>2.199</td>\n      <td>2.199</td>\n      <td>...</td>\n      <td></td>\n      <td>None</td>\n      <td>None</td>\n      <td>None</td>\n      <td>None</td>\n      <td>None</td>\n      <td>None</td>\n      <td>None</td>\n      <td>None</td>\n      <td>None</td>\n    </tr>\n    <tr>\n      <th>14</th>\n      <td>GG1</td>\n      <td>1</td>\n      <td>16</td>\n      <td>85</td>\n      <td>17:15:48:JST</td>\n      <td>17:15:57:JST</td>\n      <td>10</td>\n      <td>13</td>\n      <td>2.199</td>\n      <td>2.199</td>\n      <td>...</td>\n      <td></td>\n      <td>None</td>\n      <td>None</td>\n      <td>None</td>\n      <td>None</td>\n      <td>None</td>\n      <td>None</td>\n      <td>None</td>\n      <td>None</td>\n      <td>None</td>\n    </tr>\n    <tr>\n      <th>15</th>\n      <td>GG1</td>\n      <td>1</td>\n      <td>17</td>\n      <td>104</td>\n      <td>17:18:00:JST</td>\n      <td>17:18:10:JST</td>\n      <td>10</td>\n      <td>14</td>\n      <td>2.199</td>\n      <td>2.199</td>\n      <td>...</td>\n      <td></td>\n      <td>None</td>\n      <td>None</td>\n      <td>None</td>\n      <td>None</td>\n      <td>None</td>\n      <td>None</td>\n      <td>None</td>\n      <td>None</td>\n      <td>None</td>\n    </tr>\n    <tr>\n      <th>16</th>\n      <td>GG1</td>\n      <td>1</td>\n      <td>18</td>\n      <td>199</td>\n      <td>17:22:06:JST</td>\n      <td>17:22:16:JST</td>\n      <td>10</td>\n      <td>13</td>\n      <td>2.199</td>\n      <td>2.199</td>\n      <td>...</td>\n      <td></td>\n      <td>None</td>\n      <td>None</td>\n      <td>None</td>\n      <td>None</td>\n      <td>None</td>\n      <td>None</td>\n      <td>None</td>\n      <td>None</td>\n      <td>None</td>\n    </tr>\n    <tr>\n      <th>17</th>\n      <td>GG1</td>\n      <td>1</td>\n      <td>19</td>\n      <td>19</td>\n      <td>17:23:46:JST</td>\n      <td>17:23:56:JST</td>\n      <td>10</td>\n      <td>13</td>\n      <td>2.199</td>\n      <td>2.199</td>\n      <td>...</td>\n      <td></td>\n      <td>None</td>\n      <td>None</td>\n      <td>None</td>\n      <td>None</td>\n      <td>None</td>\n      <td>None</td>\n      <td>None</td>\n      <td>None</td>\n      <td>None</td>\n    </tr>\n    <tr>\n      <th>18</th>\n      <td>GG1</td>\n      <td>1</td>\n      <td>20</td>\n      <td>20</td>\n      <td>17:24:28:JST</td>\n      <td>17:24:38:JST</td>\n      <td>10</td>\n      <td>14</td>\n      <td>2.199</td>\n      <td>2.199</td>\n      <td>...</td>\n      <td></td>\n      <td>None</td>\n      <td>None</td>\n      <td>None</td>\n      <td>None</td>\n      <td>None</td>\n      <td>None</td>\n      <td>None</td>\n      <td>None</td>\n      <td>None</td>\n    </tr>\n    <tr>\n      <th>19</th>\n      <td>GG1</td>\n      <td>1</td>\n      <td>21</td>\n      <td>13</td>\n      <td>17:26:11:JST</td>\n      <td>17:26:21:JST</td>\n      <td>10</td>\n      <td>14</td>\n      <td>2.199</td>\n      <td>2.199</td>\n      <td>...</td>\n      <td></td>\n      <td>None</td>\n      <td>None</td>\n      <td>None</td>\n      <td>None</td>\n      <td>None</td>\n      <td>None</td>\n      <td>None</td>\n      <td>None</td>\n      <td>None</td>\n    </tr>\n    <tr>\n      <th>20</th>\n      <td>GG1</td>\n      <td>1</td>\n      <td>22</td>\n      <td>14</td>\n      <td>17:26:45:JST</td>\n      <td>17:26:55:JST</td>\n      <td>10</td>\n      <td>14</td>\n      <td>2.199</td>\n      <td>2.199</td>\n      <td>...</td>\n      <td></td>\n      <td>None</td>\n      <td>None</td>\n      <td>None</td>\n      <td>None</td>\n      <td>None</td>\n      <td>None</td>\n      <td>None</td>\n      <td>None</td>\n      <td>None</td>\n    </tr>\n    <tr>\n      <th>21</th>\n      <td>GG1</td>\n      <td>1</td>\n      <td>23</td>\n      <td>16</td>\n      <td>17:27:38:JST</td>\n      <td>17:27:48:JST</td>\n      <td>10</td>\n      <td>14</td>\n      <td>2.199</td>\n      <td>2.199</td>\n      <td>...</td>\n      <td></td>\n      <td>None</td>\n      <td>None</td>\n      <td>None</td>\n      <td>None</td>\n      <td>None</td>\n      <td>None</td>\n      <td>None</td>\n      <td>None</td>\n      <td>None</td>\n    </tr>\n    <tr>\n      <th>22</th>\n      <td>GG1</td>\n      <td>1</td>\n      <td>24</td>\n      <td>7</td>\n      <td>17:30:16:JST</td>\n      <td>17:30:26:JST</td>\n      <td>10</td>\n      <td>13</td>\n      <td>2.199</td>\n      <td>2.199</td>\n      <td>...</td>\n      <td></td>\n      <td>None</td>\n      <td>None</td>\n      <td>None</td>\n      <td>None</td>\n      <td>None</td>\n      <td>None</td>\n      <td>None</td>\n      <td>None</td>\n      <td>None</td>\n    </tr>\n  </tbody>\n</table>\n<p>23 rows × 32 columns</p>\n</div>"
     },
     "execution_count": 16,
     "metadata": {},
     "output_type": "execute_result"
    }
   ],
   "source": [
    "concatenated_df"
   ],
   "metadata": {
    "collapsed": false,
    "pycharm": {
     "name": "#%%\n"
    }
   }
  },
  {
   "cell_type": "code",
   "execution_count": 18,
   "outputs": [],
   "source": [
    "concatenated_df=concatenated_df.drop(concatenated_df.columns[[0,1,2,4,5,6,7,8,9,10,11,12,13,14,15,16,20,21,22,23,24,25,26,27,28,29,30]], axis=1)"
   ],
   "metadata": {
    "collapsed": false,
    "pycharm": {
     "name": "#%%\n"
    }
   }
  },
  {
   "cell_type": "code",
   "execution_count": 19,
   "outputs": [],
   "source": [
    "concatenated_df .to_csv(out_file,header=False, index=False)"
   ],
   "metadata": {
    "collapsed": false,
    "pycharm": {
     "name": "#%%\n"
    }
   }
  },
  {
   "cell_type": "markdown",
   "source": [
    "# df.query('cols in [\"GG1\",\"GG2\"]')\n",
    "# df.query('cols in [\"GG1\",\"GG2\"]').to_csv(out_file,header=False, index=False)\n",
    "df.query('cols in [\"GG1\",\"GG2\"]').to_csv(out_file,header=False, index=False)\n",
    "# df[df[0].str.contains(id)].to_csv(out_file,header=False, index=False)"
   ],
   "metadata": {
    "collapsed": false,
    "pycharm": {
     "name": "#%% md\n"
    }
   }
  },
  {
   "cell_type": "markdown",
   "source": [
    "FIN\n",
    "%%%%%%%%%%%%%%%%%%%%%%%%%%%%%%%%%%%%%%%%%%%%%"
   ],
   "metadata": {
    "collapsed": false,
    "pycharm": {
     "name": "#%% md\n"
    }
   }
  },
  {
   "cell_type": "code",
   "execution_count": null,
   "outputs": [],
   "source": [
    "# concatenate horizontally"
   ],
   "metadata": {
    "collapsed": false,
    "pycharm": {
     "name": "#%%\n"
    }
   }
  },
  {
   "cell_type": "markdown",
   "source": [
    "# id='GNRMC'\n",
    "id=\"GG1|GG2\"\n"
   ],
   "metadata": {
    "collapsed": false,
    "pycharm": {
     "name": "#%% md\n"
    }
   }
  },
  {
   "cell_type": "markdown",
   "source": [
    "df"
   ],
   "metadata": {
    "collapsed": false,
    "pycharm": {
     "name": "#%% md\n"
    }
   }
  },
  {
   "cell_type": "markdown",
   "source": [
    "# oi=df.iloc[0]\n",
    "# print(oi)\n",
    "oi2=df.iloc[:,1]\n",
    "print(oi2)"
   ],
   "metadata": {
    "collapsed": false,
    "pycharm": {
     "name": "#%% md\n"
    }
   }
  },
  {
   "cell_type": "markdown",
   "source": [
    "# print(df[0].str.contains('$GNRMC'))\n",
    "# df[0].str.contains('GNRMC')\n",
    "df[0].str.contains(id)\n"
   ],
   "metadata": {
    "collapsed": false,
    "pycharm": {
     "name": "#%% md\n"
    }
   }
  },
  {
   "cell_type": "markdown",
   "source": [
    "\n",
    "# df[df[0].str.contains('GNRMC')].to_csv(\"2021-07-05_10_GNRMC.csv\",header=False, index=False)\n",
    "df[df[0].str.contains(id)].to_csv(out_file,header=False, index=False)"
   ],
   "metadata": {
    "collapsed": false,
    "pycharm": {
     "name": "#%% md\n"
    }
   }
  },
  {
   "cell_type": "markdown",
   "source": [
    "##################################################################\n",
    "#################################\n",
    "FIN"
   ],
   "metadata": {
    "collapsed": false
   }
  },
  {
   "cell_type": "markdown",
   "source": [
    "pd.options.display.max_rows = None\n",
    "pd.options.display.max_columns = None"
   ],
   "metadata": {
    "collapsed": false,
    "pycharm": {
     "name": "#%% md\n"
    }
   }
  },
  {
   "cell_type": "markdown",
   "source": [
    "# df = pd.read_csv('2021-07-04_16.csv', index_col=0)\n",
    "# df = pd.read_csv('2021-07-04_16.csv')\n",
    "df = pd.read_csv('2021-07-04_16.csv', header=None)\n",
    "print(df)"
   ],
   "metadata": {
    "collapsed": false,
    "pycharm": {
     "name": "#%% md\n"
    }
   }
  },
  {
   "cell_type": "markdown",
   "source": [
    "csvfile = '2021-07-05_07.nmea'\n",
    "f = open(csvfile, \"r\")\n",
    "reader = csv.reader(f)\n",
    "# header = next(reader)"
   ],
   "metadata": {
    "collapsed": false,
    "pycharm": {
     "name": "#%% md\n"
    }
   }
  },
  {
   "cell_type": "markdown",
   "source": [
    "for row in reader:\n",
    "        print(row)\n",
    "\n",
    "f.close()\n"
   ],
   "metadata": {
    "collapsed": false,
    "pycharm": {
     "name": "#%% md\n"
    }
   }
  },
  {
   "cell_type": "markdown",
   "source": [
    "# df[0].isin([GNRMC])\n"
   ],
   "metadata": {
    "collapsed": false,
    "pycharm": {
     "name": "#%% md\n"
    }
   }
  },
  {
   "cell_type": "markdown",
   "source": [
    "df.to_csv(\"GNRMMC_1.csv\")"
   ],
   "metadata": {
    "collapsed": false,
    "pycharm": {
     "name": "#%% md\n"
    }
   }
  },
  {
   "cell_type": "markdown",
   "source": [
    "type(kore)"
   ],
   "metadata": {
    "collapsed": false,
    "pycharm": {
     "name": "#%% md\n"
    }
   }
  },
  {
   "cell_type": "markdown",
   "source": [
    "print(df[df[0].str.contains('$GNRMC')])"
   ],
   "metadata": {
    "collapsed": false,
    "pycharm": {
     "name": "#%% md\n"
    }
   }
  },
  {
   "cell_type": "markdown",
   "source": [
    "df.iloc[5]"
   ],
   "metadata": {
    "collapsed": false,
    "pycharm": {
     "name": "#%% md\n"
    }
   }
  },
  {
   "cell_type": "markdown",
   "source": [
    "df.loc[\"$GNRMC\"]\n",
    "\n",
    "\n"
   ],
   "metadata": {
    "collapsed": false,
    "pycharm": {
     "name": "#%% md\n"
    }
   }
  }
 ],
 "metadata": {
  "kernelspec": {
   "display_name": "Python 3",
   "language": "python",
   "name": "python3"
  },
  "language_info": {
   "codemirror_mode": {
    "name": "ipython",
    "version": 2
   },
   "file_extension": ".py",
   "mimetype": "text/x-python",
   "name": "python",
   "nbconvert_exporter": "python",
   "pygments_lexer": "ipython2",
   "version": "2.7.6"
  }
 },
 "nbformat": 4,
 "nbformat_minor": 0
}