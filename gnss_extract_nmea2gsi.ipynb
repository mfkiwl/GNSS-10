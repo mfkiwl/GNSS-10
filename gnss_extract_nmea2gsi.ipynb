{
 "cells": [
  {
   "cell_type": "markdown",
   "source": [
    "# This is to convert from nmea to Plane Rectangular. Coordinate System by GSI(Geospatial Information Authority of Japan) HP.\n",
    "\n",
    "# 緯度経度(nmea)から平面直角座標へ国土地理院のHPで変換したい場合\n",
    "\n",
    "https://vldb.gsi.go.jp/sokuchi/surveycalc/surveycalc/bl2xyf.html"
   ],
   "metadata": {
    "collapsed": false
   }
  },
  {
   "cell_type": "markdown",
   "source": [
    "when calculate again,\n",
    "\n",
    "if you want\n",
    "\n",
    "%reset"
   ],
   "metadata": {
    "collapsed": false
   }
  },
  {
   "cell_type": "code",
   "execution_count": null,
   "outputs": [],
   "source": [
    "#if you want\n",
    "#check current directory\n",
    "%pwd"
   ],
   "metadata": {
    "collapsed": false,
    "pycharm": {
     "name": "#%%\n"
    }
   }
  },
  {
   "cell_type": "code",
   "execution_count": null,
   "outputs": [],
   "source": [
    "#define working directroy\n",
    "# %cd C:\\\\Users\\\\survey\\\\Desktop\\\\nmea20210705\n",
    "%cd C:\\Users\\survey\\Dropbox\\My PC (SURVEY-C20)\\Documents\\GitHub\\GNSS"
   ],
   "metadata": {
    "collapsed": false,
    "pycharm": {
     "name": "#%%\n"
    }
   }
  },
  {
   "cell_type": "code",
   "execution_count": null,
   "outputs": [],
   "source": [
    "#check files\n",
    "%ls"
   ],
   "metadata": {
    "collapsed": false,
    "pycharm": {
     "name": "#%%\n"
    }
   }
  },
  {
   "cell_type": "code",
   "execution_count": 333,
   "outputs": [],
   "source": [
    "import pandas as pd\n",
    "import numpy as np\n",
    "import csv\n",
    "import math\n",
    "import matplotlib.pyplot as plt"
   ],
   "metadata": {
    "collapsed": false,
    "pycharm": {
     "name": "#%%\n"
    }
   }
  },
  {
   "cell_type": "markdown",
   "source": [
    "# 1. まずは，入力ファイルを設定します."
   ],
   "metadata": {
    "collapsed": false
   }
  },
  {
   "cell_type": "code",
   "execution_count": null,
   "outputs": [],
   "source": [
    "# inp_file=\"2021-07-05_10.nmea\"\n",
    "inp_file=\"C:\\\\Users\\survey\\Desktop\\\\nmea20210705\\\\2021-07-05_09+10_GNRMC.csv\"\n",
    "# inp_file=\"2021070509_XY.csv\"\n",
    "# # inp_file=\"VRS直_2021-07-05-12-48-07.rtk\"\n",
    "# inp_file=\"VRS直_2021-06-27-11-45-43.rtk\""
   ],
   "metadata": {
    "collapsed": false,
    "pycharm": {
     "name": "#%%\n"
    }
   }
  },
  {
   "cell_type": "markdown",
   "source": [
    "# base_nameを取得しておきます．\n",
    "# 出力ファイル名を自動で作成するため"
   ],
   "metadata": {
    "collapsed": false
   }
  },
  {
   "cell_type": "code",
   "execution_count": null,
   "outputs": [],
   "source": [
    "type(inp_file)\n",
    "base_name=inp_file.split('.',1)[0]\n",
    "base_name\n",
    "# inp_file=\"VRS直_2021-07-05-12-48-07_get.rtk\""
   ],
   "metadata": {
    "collapsed": false,
    "pycharm": {
     "name": "#%%\n"
    }
   }
  },
  {
   "cell_type": "code",
   "execution_count": null,
   "outputs": [],
   "source": [
    "%pwd"
   ],
   "metadata": {
    "collapsed": false,
    "pycharm": {
     "name": "#%%\n"
    }
   }
  },
  {
   "cell_type": "code",
   "execution_count": null,
   "outputs": [],
   "source": [
    "# make output filename from input file automatically\n",
    "\n",
    "# out_file=\"2021-07-05_10_GNRMC_out_test.csv\"\n",
    "# out_file=\"VRS直_2021-07-05-12-48-07_get.rtk\"\n",
    "# out_file=base_name+\"_get.rtk\"\n",
    "out_file=base_name+\"_GSI.in\"\n",
    "out_file\n",
    "# out_file=\"VRS直_2021-07-05-12-48-07_get.rtk\""
   ],
   "metadata": {
    "collapsed": false,
    "pycharm": {
     "name": "#%%\n"
    }
   }
  },
  {
   "cell_type": "markdown",
   "source": [
    "## nmeaはUTF-8\n",
    "## Trimbleはshift_jisなはず"
   ],
   "metadata": {
    "collapsed": false
   }
  },
  {
   "cell_type": "code",
   "execution_count": null,
   "outputs": [],
   "source": [
    "enc_sty=\"UTF-8\"\n",
    "\n",
    "# enc_sty=\"shift_jis\""
   ],
   "metadata": {
    "collapsed": false,
    "pycharm": {
     "name": "#%%\n"
    }
   }
  },
  {
   "cell_type": "code",
   "execution_count": null,
   "outputs": [],
   "source": [
    "# with open(\"2021-07-05_10.nmea\", \"r\", encoding=\"UTF-8\", errors=\"\", newline=\"\" ) as f:\n",
    "# with open(inp_file, \"r\", encoding=\"UTF-8\", errors=\"\", newline=\"\" ) as f:\n",
    "with open(inp_file, \"r\", encoding=enc_sty, errors=\"\", newline=\"\" ) as f:\n",
    "    lst = csv.reader(f, delimiter=\",\")\n",
    "    df = pd.DataFrame(lst).rename(columns={0:'ID',1:'time',2:'de',3:'lat',5:'lon',7:'knot',9:'date',12:'mode'})\n",
    "    # df = pd.DataFrame(lst)"
   ],
   "metadata": {
    "collapsed": false,
    "pycharm": {
     "name": "#%%\n"
    }
   }
  },
  {
   "cell_type": "markdown",
   "source": [
    "get_id='GNRMC'"
   ],
   "metadata": {
    "collapsed": false
   }
  },
  {
   "cell_type": "code",
   "execution_count": null,
   "outputs": [],
   "source": [
    "df_gnrmc=df.query('ID in [\"$GNRMC\"]')\n",
    "# df_gnrmc['lat']=df_gnrmc['lat'].astype(float)"
   ],
   "metadata": {
    "collapsed": false,
    "pycharm": {
     "name": "#%%\n"
    }
   }
  },
  {
   "cell_type": "code",
   "execution_count": null,
   "outputs": [],
   "source": [
    "df_gnrmc.dtypes"
   ],
   "metadata": {
    "collapsed": false,
    "pycharm": {
     "name": "#%%\n"
    }
   }
  },
  {
   "cell_type": "code",
   "execution_count": null,
   "outputs": [],
   "source": [
    "#中身の確認\n",
    "df_gnrmc"
   ],
   "metadata": {
    "collapsed": false,
    "pycharm": {
     "name": "#%%\n"
    }
   }
  },
  {
   "cell_type": "code",
   "execution_count": null,
   "outputs": [],
   "source": [
    "pd.options.display.float_format = '{:.7f}'.format"
   ],
   "metadata": {
    "collapsed": false,
    "pycharm": {
     "name": "#%%\n"
    }
   }
  },
  {
   "cell_type": "code",
   "execution_count": null,
   "outputs": [],
   "source": [
    "# df_gnrmc['lat'] == ''] = None\n",
    "\n",
    "df_gnrmc=df_gnrmc.replace('', np.nan)"
   ],
   "metadata": {
    "collapsed": false,
    "pycharm": {
     "name": "#%%\n"
    }
   }
  },
  {
   "cell_type": "code",
   "execution_count": null,
   "outputs": [],
   "source": [
    "df_gnrmc"
   ],
   "metadata": {
    "collapsed": false,
    "pycharm": {
     "name": "#%%\n"
    }
   }
  },
  {
   "cell_type": "code",
   "execution_count": null,
   "outputs": [],
   "source": [
    "df_gnrmc.dtypes"
   ],
   "metadata": {
    "collapsed": false,
    "pycharm": {
     "name": "#%%\n"
    }
   }
  },
  {
   "cell_type": "code",
   "execution_count": null,
   "outputs": [],
   "source": [
    "df_gnrmc['time']=df_gnrmc['time'].astype(float)"
   ],
   "metadata": {
    "collapsed": false,
    "pycharm": {
     "name": "#%%\n"
    }
   }
  },
  {
   "cell_type": "code",
   "execution_count": null,
   "outputs": [],
   "source": [
    "df_gnrmc"
   ],
   "metadata": {
    "collapsed": false,
    "pycharm": {
     "name": "#%%\n"
    }
   }
  },
  {
   "cell_type": "code",
   "execution_count": null,
   "outputs": [],
   "source": [
    "df_gnrmc['lat']=df_gnrmc['lat'].astype(float)"
   ],
   "metadata": {
    "collapsed": false,
    "pycharm": {
     "name": "#%%\n"
    }
   }
  },
  {
   "cell_type": "code",
   "execution_count": null,
   "outputs": [],
   "source": [
    "df_gnrmc['lon']=df_gnrmc['lon'].astype(float)"
   ],
   "metadata": {
    "collapsed": false,
    "pycharm": {
     "name": "#%%\n"
    }
   }
  },
  {
   "cell_type": "code",
   "execution_count": null,
   "outputs": [],
   "source": [
    "df_gnrmc"
   ],
   "metadata": {
    "collapsed": false,
    "pycharm": {
     "name": "#%%\n"
    }
   }
  },
  {
   "cell_type": "code",
   "execution_count": null,
   "outputs": [],
   "source": [
    "df_gnrmc.dtypes"
   ],
   "metadata": {
    "collapsed": false,
    "pycharm": {
     "name": "#%%\n"
    }
   }
  },
  {
   "cell_type": "markdown",
   "source": [
    "df_gnrmc['lat']=df_gnrmc['lat']-10"
   ],
   "metadata": {
    "collapsed": false
   }
  },
  {
   "cell_type": "code",
   "execution_count": null,
   "outputs": [],
   "source": [
    "df_gnrmc"
   ],
   "metadata": {
    "collapsed": false,
    "pycharm": {
     "name": "#%%\n"
    }
   }
  },
  {
   "cell_type": "markdown",
   "source": [
    "df_gnrmc['lat'] = pd.to_numeric(df_gnrmc['lat'], errors='coerce', downcast='float')\n",
    "# df_gnrmc['lat']=df_gnrmc['lat'].astype(float)"
   ],
   "metadata": {
    "collapsed": false
   }
  },
  {
   "cell_type": "markdown",
   "source": [
    "df_gnrmc['lat'] = pd.to_numeric(df_gnrmc['lat'], errors='coerce', downcast='float')"
   ],
   "metadata": {
    "collapsed": false
   }
  },
  {
   "cell_type": "code",
   "execution_count": null,
   "outputs": [],
   "source": [
    "df_gnrmc.dtypes"
   ],
   "metadata": {
    "collapsed": false,
    "pycharm": {
     "name": "#%%\n"
    }
   }
  },
  {
   "cell_type": "code",
   "execution_count": null,
   "outputs": [],
   "source": [
    "df_gnrmc_ll=df_gnrmc.filter(items=['lat','lon'])"
   ],
   "metadata": {
    "collapsed": false,
    "pycharm": {
     "name": "#%%\n"
    }
   }
  },
  {
   "cell_type": "code",
   "execution_count": null,
   "outputs": [],
   "source": [
    "df_gnrmc_ll"
   ],
   "metadata": {
    "collapsed": false,
    "pycharm": {
     "name": "#%%\n"
    }
   }
  },
  {
   "cell_type": "code",
   "execution_count": null,
   "outputs": [],
   "source": [
    "df_gnrmc_ll.dtypes"
   ],
   "metadata": {
    "collapsed": false,
    "pycharm": {
     "name": "#%%\n"
    }
   }
  },
  {
   "cell_type": "code",
   "execution_count": null,
   "outputs": [],
   "source": [
    "#これではまだpandasのデータフレーム\n",
    "df_gnrmc_ll_f=df_gnrmc_ll.astype(float)"
   ],
   "metadata": {
    "collapsed": false,
    "pycharm": {
     "name": "#%%\n"
    }
   }
  },
  {
   "cell_type": "code",
   "execution_count": null,
   "outputs": [],
   "source": [
    "df_gnrmc_ll_f"
   ],
   "metadata": {
    "collapsed": false,
    "pycharm": {
     "name": "#%%\n"
    }
   }
  },
  {
   "cell_type": "code",
   "execution_count": null,
   "outputs": [],
   "source": [
    "type(df_gnrmc_ll_f)"
   ],
   "metadata": {
    "collapsed": false,
    "pycharm": {
     "name": "#%%\n"
    }
   }
  },
  {
   "cell_type": "markdown",
   "source": [
    "## ↑ここまではPANDA"
   ],
   "metadata": {
    "collapsed": false
   }
  },
  {
   "cell_type": "markdown",
   "source": [
    "df_gnrmc_ll['lat']=df_gnrmc_ll['lat'].astype(float)\n",
    "# df_gnrmc_ll['lon']=df_gnrmc_ll['lon'].astype(float)\n",
    "# df_gnrmc_ll['lon']=pd.to_numeric(df_gnrmc_ll['lon'])"
   ],
   "metadata": {
    "collapsed": false
   }
  },
  {
   "cell_type": "markdown",
   "source": [
    "df_gnrmc_ll"
   ],
   "metadata": {
    "collapsed": false
   }
  },
  {
   "cell_type": "markdown",
   "source": [
    "df_gnrmc_ll = df_gnrmc_ll.reset_index(drop=True)\n",
    "df_gnrmc_ll"
   ],
   "metadata": {
    "collapsed": false
   }
  },
  {
   "cell_type": "code",
   "execution_count": null,
   "outputs": [],
   "source": [
    "type(df_gnrmc_ll)"
   ],
   "metadata": {
    "collapsed": false,
    "pycharm": {
     "name": "#%%\n"
    }
   }
  },
  {
   "cell_type": "markdown",
   "source": [
    "## ここで  numpy化する.to_numpyで\n",
    "## ↑はまだpanda"
   ],
   "metadata": {
    "collapsed": false
   }
  },
  {
   "cell_type": "code",
   "execution_count": null,
   "outputs": [],
   "source": [
    "# numpy化\n",
    "df_gnrmc_ll_np=df_gnrmc_ll.to_numpy()"
   ],
   "metadata": {
    "collapsed": false,
    "pycharm": {
     "name": "#%%\n"
    }
   }
  },
  {
   "cell_type": "code",
   "execution_count": null,
   "outputs": [],
   "source": [
    "df_gnrmc_ll_np"
   ],
   "metadata": {
    "collapsed": false,
    "pycharm": {
     "name": "#%%\n"
    }
   }
  },
  {
   "cell_type": "code",
   "execution_count": null,
   "outputs": [],
   "source": [
    "print(df_gnrmc_ll_np[:,0])"
   ],
   "metadata": {
    "collapsed": false,
    "pycharm": {
     "name": "#%%\n"
    }
   }
  },
  {
   "cell_type": "code",
   "execution_count": null,
   "outputs": [],
   "source": [
    "a=divmod(df_gnrmc_ll_np[:,:],100)"
   ],
   "metadata": {
    "collapsed": false,
    "pycharm": {
     "name": "#%%\n"
    }
   }
  },
  {
   "cell_type": "code",
   "execution_count": null,
   "outputs": [],
   "source": [
    "df_gnrmc_ll_np_wa=a[0]+a[1]/60"
   ],
   "metadata": {
    "collapsed": false,
    "pycharm": {
     "name": "#%%\n"
    }
   }
  },
  {
   "cell_type": "code",
   "execution_count": null,
   "outputs": [],
   "source": [
    "df_gnrmc_ll_np_wa\n"
   ],
   "metadata": {
    "collapsed": false,
    "pycharm": {
     "name": "#%%\n"
    }
   }
  },
  {
   "cell_type": "code",
   "execution_count": null,
   "outputs": [],
   "source": [
    "type(df_gnrmc_ll_np_wa)"
   ],
   "metadata": {
    "collapsed": false,
    "pycharm": {
     "name": "#%%\n"
    }
   }
  },
  {
   "cell_type": "code",
   "execution_count": null,
   "outputs": [],
   "source": [
    "# 度分秒を小数表示する\n",
    "def decimal(deg,mint,sec):\n",
    "    deg_int=deg\n",
    "    mint=mint+sec/60\n",
    "    deg_dec=mint/60\n",
    "\n",
    "    deg_all=deg_int+deg_dec\n",
    "    return deg_all"
   ],
   "metadata": {
    "collapsed": false,
    "pycharm": {
     "name": "#%%\n"
    }
   }
  },
  {
   "cell_type": "code",
   "execution_count": null,
   "outputs": [],
   "source": [
    "x=decimal(137,10,0)\n",
    "print(x)\n"
   ],
   "metadata": {
    "collapsed": false,
    "pycharm": {
     "name": "#%%\n"
    }
   }
  },
  {
   "cell_type": "markdown",
   "source": [
    "下の関数，show_angle(deg)は，下記を参照しました．@sw1227さんありがとうございます．\n",
    "\n",
    "https://qiita.com/sw1227/items/e7a590994ad7dcd0e8ab\n",
    "https://nbviewer.jupyter.org/github/nabewari/PRCS2WGS/blob/master/coordinate_transformation.ipynb"
   ],
   "metadata": {
    "collapsed": false
   }
  },
  {
   "cell_type": "code",
   "execution_count": null,
   "outputs": [],
   "source": [
    "def show_angle(deg):\n",
    "    \"\"\" 小数点の角度[deg]を度,分,秒で表記 \"\"\"\n",
    "    d = int(np.floor(deg))\n",
    "    m = int(np.floor((deg%1) * 60))\n",
    "    s = ( ((deg%1)*60) % 1 ) * 60\n",
    "    return \"\"\" {0}°{1:02d}'{2}\" \"\"\".format(d, m, s) # 分は10の位を0埋めする"
   ],
   "metadata": {
    "collapsed": false,
    "pycharm": {
     "name": "#%%\n"
    }
   }
  },
  {
   "cell_type": "code",
   "execution_count": null,
   "outputs": [],
   "source": [
    "df_gnrmc_ll_np_wa.shape"
   ],
   "metadata": {
    "collapsed": false,
    "pycharm": {
     "name": "#%%\n"
    }
   }
  },
  {
   "cell_type": "code",
   "execution_count": null,
   "outputs": [],
   "source": [
    "for i in range(0,df_gnrmc_ll_np_wa.shape[0]):\n",
    "    print(df_gnrmc_ll_np_wa[i,0])"
   ],
   "metadata": {
    "collapsed": false,
    "pycharm": {
     "name": "#%%\n"
    }
   }
  },
  {
   "cell_type": "code",
   "execution_count": null,
   "outputs": [],
   "source": [
    "for i in range(0,df_gnrmc_ll_np_wa.shape[0]):\n",
    "    print(df_gnrmc_ll_np_wa[i,1])"
   ],
   "metadata": {
    "collapsed": false,
    "pycharm": {
     "name": "#%%\n"
    }
   }
  },
  {
   "cell_type": "code",
   "execution_count": null,
   "outputs": [],
   "source": [
    "for i, item in np.ndenumerate(df_gnrmc_ll_np_wa[:,0]):\n",
    "    # for i, item in np.ndenumerate(df_gnrmc_ll_np_wa[:,0]):\n",
    "    print(i,item)\n",
    "    # print(i)"
   ],
   "metadata": {
    "collapsed": false,
    "pycharm": {
     "name": "#%%\n"
    }
   }
  },
  {
   "cell_type": "code",
   "execution_count": null,
   "outputs": [],
   "source": [
    "for i, item in np.ndenumerate(df_gnrmc_ll_np_wa[:,0]):\n",
    "    # print(i,item)\n",
    "    j=item\n",
    "    if(math.isnan(item)==True):\n",
    "        print('num')\n",
    "    else:\n",
    "        print(show_angle(item))\n",
    "    # show_angle(j)"
   ],
   "metadata": {
    "collapsed": false,
    "pycharm": {
     "name": "#%%\n"
    }
   }
  },
  {
   "cell_type": "markdown",
   "source": [
    "下の関数，calc_xyは，下記を参照しました．@sw1227さんありがとうございます．\n",
    "\n",
    "https://qiita.com/sw1227/items/e7a590994ad7dcd0e8ab\n",
    "https://nbviewer.jupyter.org/github/nabewari/PRCS2WGS/blob/master/coordinate_transformation.ipynb"
   ],
   "metadata": {
    "collapsed": false
   }
  },
  {
   "cell_type": "markdown",
   "source": [
    "## 3. 実装（緯度経度 -> 平面直角座標の関数）\n",
    "### 3.1. 緯度経度 -> 平面直角座標の関数"
   ],
   "metadata": {
    "collapsed": false
   }
  },
  {
   "cell_type": "code",
   "execution_count": null,
   "outputs": [],
   "source": [
    "def calc_xy(phi_deg, lambda_deg, phi0_deg, lambda0_deg):\n",
    "    \"\"\" 緯度経度を平面直角座標に変換する\n",
    "    - input:\n",
    "        (phi_deg, lambda_deg): 変換したい緯度・経度[度]（分・秒でなく小数であることに注意）\n",
    "        (phi0_deg, lambda0_deg): 平面直角座標系原点の緯度・経度[度]（分・秒でなく小数であることに注意） \t7系　北緯=36度0分0秒 東経=137度10分0秒\n",
    "    - output:\n",
    "        x: 変換後の平面直角座標[m]\n",
    "        y: 変換後の平面直角座標[m]\n",
    "    \"\"\"\n",
    "    # 緯度経度・平面直角座標系原点をラジアンに直す\n",
    "    phi_rad = np.deg2rad(phi_deg)\n",
    "    lambda_rad = np.deg2rad(lambda_deg)\n",
    "    phi0_rad = np.deg2rad(phi0_deg)\n",
    "    lambda0_rad = np.deg2rad(lambda0_deg)\n",
    "\n",
    "    # 補助関数\n",
    "    def A_array(n):\n",
    "        A0 = 1 + (n**2)/4. + (n**4)/64.\n",
    "        A1 = -     (3./2)*( n - (n**3)/8. - (n**5)/64. )\n",
    "        A2 =     (15./16)*( n**2 - (n**4)/4. )\n",
    "        A3 = -   (35./48)*( n**3 - (5./16)*(n**5) )\n",
    "        A4 =   (315./512)*( n**4 )\n",
    "        A5 = -(693./1280)*( n**5 )\n",
    "        return np.array([A0, A1, A2, A3, A4, A5])\n",
    "\n",
    "    def alpha_array(n):\n",
    "        a0 = np.nan # dummy\n",
    "        a1 = (1./2)*n - (2./3)*(n**2) + (5./16)*(n**3) + (41./180)*(n**4) - (127./288)*(n**5)\n",
    "        a2 = (13./48)*(n**2) - (3./5)*(n**3) + (557./1440)*(n**4) + (281./630)*(n**5)\n",
    "        a3 = (61./240)*(n**3) - (103./140)*(n**4) + (15061./26880)*(n**5)\n",
    "        a4 = (49561./161280)*(n**4) - (179./168)*(n**5)\n",
    "        a5 = (34729./80640)*(n**5)\n",
    "        return np.array([a0, a1, a2, a3, a4, a5])\n",
    "\n",
    "    # 定数 (a, F: 世界測地系-測地基準系1980（GRS80）楕円体)\n",
    "    m0 = 0.9999\n",
    "    a = 6378137.\n",
    "    F = 298.257222101\n",
    "\n",
    "    # (1) n, A_i, alpha_iの計算\n",
    "    n = 1. / (2*F - 1)\n",
    "    A_array = A_array(n)\n",
    "    alpha_array = alpha_array(n)\n",
    "\n",
    "    # (2), S, Aの計算\n",
    "    A_ = ( (m0*a)/(1.+n) )*A_array[0] # [m]\n",
    "    S_ = ( (m0*a)/(1.+n) )*( A_array[0]*phi0_rad + np.dot(A_array[1:], np.sin(2*phi0_rad*np.arange(1,6))) ) # [m]\n",
    "\n",
    "    # (3) lambda_c, lambda_sの計算\n",
    "    lambda_c = np.cos(lambda_rad - lambda0_rad)\n",
    "    lambda_s = np.sin(lambda_rad - lambda0_rad)\n",
    "\n",
    "    # (4) t, t_の計算\n",
    "    t = np.sinh( np.arctanh(np.sin(phi_rad)) - ((2*np.sqrt(n)) / (1+n))*np.arctanh(((2*np.sqrt(n)) / (1+n)) * np.sin(phi_rad)) )\n",
    "    t_ = np.sqrt(1 + t*t)\n",
    "\n",
    "    # (5) xi', eta'の計算\n",
    "    xi2  = np.arctan(t / lambda_c) # [rad]\n",
    "    eta2 = np.arctanh(lambda_s / t_)\n",
    "\n",
    "    # (6) x, yの計算\n",
    "    x = A_ * (xi2 + np.sum(np.multiply(alpha_array[1:],\n",
    "                                       np.multiply(np.sin(2*xi2*np.arange(1,6)),\n",
    "                                                   np.cosh(2*eta2*np.arange(1,6)))))) - S_ # [m]\n",
    "    y = A_ * (eta2 + np.sum(np.multiply(alpha_array[1:],\n",
    "                                        np.multiply(np.cos(2*xi2*np.arange(1,6)),\n",
    "                                                    np.sinh(2*eta2*np.arange(1,6)))))) # [m]\n",
    "    # return\n",
    "    return x, y # [m]"
   ],
   "metadata": {
    "collapsed": false,
    "pycharm": {
     "name": "#%%\n"
    }
   }
  },
  {
   "cell_type": "code",
   "execution_count": null,
   "outputs": [],
   "source": [
    "#　空のnumpy配列\n",
    "latlon=np.empty((df_gnrmc_ll_np_wa.shape[0],2))\n",
    "print(latlon)"
   ],
   "metadata": {
    "collapsed": false,
    "pycharm": {
     "name": "#%%\n"
    }
   }
  },
  {
   "cell_type": "code",
   "execution_count": null,
   "outputs": [],
   "source": [
    "for i in range(0,df_gnrmc_ll_np_wa.shape[0]):\n",
    "#     print(df_gnrmc_ll_np_wa[i,1])\n",
    "# for i, item in np.ndenumerate(df_gnrmc_ll_np_wa[:,0]):\n",
    "    # print(i,item)\n",
    "    # j=item\n",
    "    if(math.isnan(item)==True):\n",
    "        print('nan')\n",
    "    else:\n",
    "        # print(show_angle(item))\n",
    "        x, y = calc_xy(df_gnrmc_ll_np_wa[i,0], df_gnrmc_ll_np_wa[i,1], 36., 137+10./60)\n",
    "        latlon[i,0]=x\n",
    "        latlon[i,1]=y\n",
    "        print(\"x, y = ({0}, {1})\".format(x, y))\n",
    "    # show_angle(j)"
   ],
   "metadata": {
    "collapsed": false,
    "pycharm": {
     "name": "#%%\n"
    }
   }
  },
  {
   "cell_type": "code",
   "execution_count": null,
   "outputs": [],
   "source": [
    "latlon"
   ],
   "metadata": {
    "collapsed": false,
    "pycharm": {
     "name": "#%%\n"
    }
   }
  },
  {
   "cell_type": "code",
   "execution_count": null,
   "outputs": [],
   "source": [
    "df_xy=pd.DataFrame(latlon)"
   ],
   "metadata": {
    "collapsed": false,
    "pycharm": {
     "name": "#%%\n"
    }
   }
  },
  {
   "cell_type": "code",
   "execution_count": null,
   "outputs": [],
   "source": [
    "df_xy"
   ],
   "metadata": {
    "collapsed": false,
    "pycharm": {
     "name": "#%%\n"
    }
   }
  },
  {
   "cell_type": "code",
   "execution_count": null,
   "outputs": [],
   "source": [
    "df_xy = df_xy.rename(columns={0:'X',1:'Y'})"
   ],
   "metadata": {
    "collapsed": false,
    "pycharm": {
     "name": "#%%\n"
    }
   }
  },
  {
   "cell_type": "code",
   "execution_count": null,
   "outputs": [],
   "source": [
    "df_xy"
   ],
   "metadata": {
    "collapsed": false,
    "pycharm": {
     "name": "#%%\n"
    }
   }
  },
  {
   "cell_type": "code",
   "execution_count": null,
   "outputs": [],
   "source": [
    "df_gnrmc"
   ],
   "metadata": {
    "collapsed": false,
    "pycharm": {
     "name": "#%%\n"
    }
   }
  },
  {
   "cell_type": "code",
   "execution_count": null,
   "outputs": [],
   "source": [
    "# df_gnrmc_xy=pd.merge(df_gnrmc,df_xy)\n",
    "df_gnrmc_xy=pd.concat([df_gnrmc,df_xy], axis=1)\n",
    "\n",
    "#axis=1 横方向接続\n",
    "#axis=0 縦方向接続"
   ],
   "metadata": {
    "collapsed": false,
    "pycharm": {
     "name": "#%%\n"
    }
   }
  },
  {
   "cell_type": "code",
   "execution_count": 314,
   "outputs": [],
   "source": [
    "df_gnrmc_xy_dist=df_gnrmc_xy"
   ],
   "metadata": {
    "collapsed": false,
    "pycharm": {
     "name": "#%%\n"
    }
   }
  },
  {
   "cell_type": "code",
   "execution_count": 315,
   "outputs": [
    {
     "data": {
      "text/plain": "           ID          time de          lat    4           lon    6   knot  \\\n0      $GNRMC   145.0000000  V          NaN  NaN           NaN  NaN    NaN   \n1      $GNRMC   145.1200000  V          NaN  NaN           NaN  NaN    NaN   \n2      $GNRMC   145.2500000  V          NaN  NaN           NaN  NaN    NaN   \n3      $GNRMC   145.3700000  V          NaN  NaN           NaN  NaN    NaN   \n4      $GNRMC   145.5000000  V          NaN  NaN           NaN  NaN    NaN   \n...       ...           ... ..          ...  ...           ...  ...    ...   \n30714  $GNRMC 10834.3800000  A 3511.0129030    N 13707.1113436    E  0.015   \n30715  $GNRMC 10834.5000000  A 3511.0129025    N 13707.1113439    E  0.024   \n30716  $GNRMC 10834.6300000  A 3511.0129041    N 13707.1113448    E  0.015   \n30717  $GNRMC 10834.7500000  A 3511.0129040    N 13707.1113448    E  0.025   \n30718  $GNRMC 10834.8800000  A 3511.0129026    N 13707.1113445    E  0.039   \n\n         8    date  ...  42  43  44  45  46  47  48  49              X  \\\n0      NaN  050721  ... NaN NaN NaN NaN NaN NaN NaN NaN            NaN   \n1      NaN  050721  ... NaN NaN NaN NaN NaN NaN NaN NaN            NaN   \n2      NaN  050721  ... NaN NaN NaN NaN NaN NaN NaN NaN            NaN   \n3      NaN  050721  ... NaN NaN NaN NaN NaN NaN NaN NaN            NaN   \n4      NaN  050721  ... NaN NaN NaN NaN NaN NaN NaN NaN            NaN   \n...    ...     ...  ...  ..  ..  ..  ..  ..  ..  ..  ..            ...   \n30714  NaN  050721  ... NaN NaN NaN NaN NaN NaN NaN NaN -90576.3768017   \n30715  NaN  050721  ... NaN NaN NaN NaN NaN NaN NaN NaN -90576.3777264   \n30716  NaN  050721  ... NaN NaN NaN NaN NaN NaN NaN NaN -90576.3747688   \n30717  NaN  050721  ... NaN NaN NaN NaN NaN NaN NaN NaN -90576.3749537   \n30718  NaN  050721  ... NaN NaN NaN NaN NaN NaN NaN NaN -90576.3775419   \n\n                  Y  \n0               NaN  \n1               NaN  \n2               NaN  \n3               NaN  \n4               NaN  \n...             ...  \n30714 -4384.7274811  \n30715 -4384.7270262  \n30716 -4384.7256586  \n30717 -4384.7256587  \n30718 -4384.7261154  \n\n[30719 rows x 52 columns]",
      "text/html": "<div>\n<style scoped>\n    .dataframe tbody tr th:only-of-type {\n        vertical-align: middle;\n    }\n\n    .dataframe tbody tr th {\n        vertical-align: top;\n    }\n\n    .dataframe thead th {\n        text-align: right;\n    }\n</style>\n<table border=\"1\" class=\"dataframe\">\n  <thead>\n    <tr style=\"text-align: right;\">\n      <th></th>\n      <th>ID</th>\n      <th>time</th>\n      <th>de</th>\n      <th>lat</th>\n      <th>4</th>\n      <th>lon</th>\n      <th>6</th>\n      <th>knot</th>\n      <th>8</th>\n      <th>date</th>\n      <th>...</th>\n      <th>42</th>\n      <th>43</th>\n      <th>44</th>\n      <th>45</th>\n      <th>46</th>\n      <th>47</th>\n      <th>48</th>\n      <th>49</th>\n      <th>X</th>\n      <th>Y</th>\n    </tr>\n  </thead>\n  <tbody>\n    <tr>\n      <th>0</th>\n      <td>$GNRMC</td>\n      <td>145.0000000</td>\n      <td>V</td>\n      <td>NaN</td>\n      <td>NaN</td>\n      <td>NaN</td>\n      <td>NaN</td>\n      <td>NaN</td>\n      <td>NaN</td>\n      <td>050721</td>\n      <td>...</td>\n      <td>NaN</td>\n      <td>NaN</td>\n      <td>NaN</td>\n      <td>NaN</td>\n      <td>NaN</td>\n      <td>NaN</td>\n      <td>NaN</td>\n      <td>NaN</td>\n      <td>NaN</td>\n      <td>NaN</td>\n    </tr>\n    <tr>\n      <th>1</th>\n      <td>$GNRMC</td>\n      <td>145.1200000</td>\n      <td>V</td>\n      <td>NaN</td>\n      <td>NaN</td>\n      <td>NaN</td>\n      <td>NaN</td>\n      <td>NaN</td>\n      <td>NaN</td>\n      <td>050721</td>\n      <td>...</td>\n      <td>NaN</td>\n      <td>NaN</td>\n      <td>NaN</td>\n      <td>NaN</td>\n      <td>NaN</td>\n      <td>NaN</td>\n      <td>NaN</td>\n      <td>NaN</td>\n      <td>NaN</td>\n      <td>NaN</td>\n    </tr>\n    <tr>\n      <th>2</th>\n      <td>$GNRMC</td>\n      <td>145.2500000</td>\n      <td>V</td>\n      <td>NaN</td>\n      <td>NaN</td>\n      <td>NaN</td>\n      <td>NaN</td>\n      <td>NaN</td>\n      <td>NaN</td>\n      <td>050721</td>\n      <td>...</td>\n      <td>NaN</td>\n      <td>NaN</td>\n      <td>NaN</td>\n      <td>NaN</td>\n      <td>NaN</td>\n      <td>NaN</td>\n      <td>NaN</td>\n      <td>NaN</td>\n      <td>NaN</td>\n      <td>NaN</td>\n    </tr>\n    <tr>\n      <th>3</th>\n      <td>$GNRMC</td>\n      <td>145.3700000</td>\n      <td>V</td>\n      <td>NaN</td>\n      <td>NaN</td>\n      <td>NaN</td>\n      <td>NaN</td>\n      <td>NaN</td>\n      <td>NaN</td>\n      <td>050721</td>\n      <td>...</td>\n      <td>NaN</td>\n      <td>NaN</td>\n      <td>NaN</td>\n      <td>NaN</td>\n      <td>NaN</td>\n      <td>NaN</td>\n      <td>NaN</td>\n      <td>NaN</td>\n      <td>NaN</td>\n      <td>NaN</td>\n    </tr>\n    <tr>\n      <th>4</th>\n      <td>$GNRMC</td>\n      <td>145.5000000</td>\n      <td>V</td>\n      <td>NaN</td>\n      <td>NaN</td>\n      <td>NaN</td>\n      <td>NaN</td>\n      <td>NaN</td>\n      <td>NaN</td>\n      <td>050721</td>\n      <td>...</td>\n      <td>NaN</td>\n      <td>NaN</td>\n      <td>NaN</td>\n      <td>NaN</td>\n      <td>NaN</td>\n      <td>NaN</td>\n      <td>NaN</td>\n      <td>NaN</td>\n      <td>NaN</td>\n      <td>NaN</td>\n    </tr>\n    <tr>\n      <th>...</th>\n      <td>...</td>\n      <td>...</td>\n      <td>...</td>\n      <td>...</td>\n      <td>...</td>\n      <td>...</td>\n      <td>...</td>\n      <td>...</td>\n      <td>...</td>\n      <td>...</td>\n      <td>...</td>\n      <td>...</td>\n      <td>...</td>\n      <td>...</td>\n      <td>...</td>\n      <td>...</td>\n      <td>...</td>\n      <td>...</td>\n      <td>...</td>\n      <td>...</td>\n      <td>...</td>\n    </tr>\n    <tr>\n      <th>30714</th>\n      <td>$GNRMC</td>\n      <td>10834.3800000</td>\n      <td>A</td>\n      <td>3511.0129030</td>\n      <td>N</td>\n      <td>13707.1113436</td>\n      <td>E</td>\n      <td>0.015</td>\n      <td>NaN</td>\n      <td>050721</td>\n      <td>...</td>\n      <td>NaN</td>\n      <td>NaN</td>\n      <td>NaN</td>\n      <td>NaN</td>\n      <td>NaN</td>\n      <td>NaN</td>\n      <td>NaN</td>\n      <td>NaN</td>\n      <td>-90576.3768017</td>\n      <td>-4384.7274811</td>\n    </tr>\n    <tr>\n      <th>30715</th>\n      <td>$GNRMC</td>\n      <td>10834.5000000</td>\n      <td>A</td>\n      <td>3511.0129025</td>\n      <td>N</td>\n      <td>13707.1113439</td>\n      <td>E</td>\n      <td>0.024</td>\n      <td>NaN</td>\n      <td>050721</td>\n      <td>...</td>\n      <td>NaN</td>\n      <td>NaN</td>\n      <td>NaN</td>\n      <td>NaN</td>\n      <td>NaN</td>\n      <td>NaN</td>\n      <td>NaN</td>\n      <td>NaN</td>\n      <td>-90576.3777264</td>\n      <td>-4384.7270262</td>\n    </tr>\n    <tr>\n      <th>30716</th>\n      <td>$GNRMC</td>\n      <td>10834.6300000</td>\n      <td>A</td>\n      <td>3511.0129041</td>\n      <td>N</td>\n      <td>13707.1113448</td>\n      <td>E</td>\n      <td>0.015</td>\n      <td>NaN</td>\n      <td>050721</td>\n      <td>...</td>\n      <td>NaN</td>\n      <td>NaN</td>\n      <td>NaN</td>\n      <td>NaN</td>\n      <td>NaN</td>\n      <td>NaN</td>\n      <td>NaN</td>\n      <td>NaN</td>\n      <td>-90576.3747688</td>\n      <td>-4384.7256586</td>\n    </tr>\n    <tr>\n      <th>30717</th>\n      <td>$GNRMC</td>\n      <td>10834.7500000</td>\n      <td>A</td>\n      <td>3511.0129040</td>\n      <td>N</td>\n      <td>13707.1113448</td>\n      <td>E</td>\n      <td>0.025</td>\n      <td>NaN</td>\n      <td>050721</td>\n      <td>...</td>\n      <td>NaN</td>\n      <td>NaN</td>\n      <td>NaN</td>\n      <td>NaN</td>\n      <td>NaN</td>\n      <td>NaN</td>\n      <td>NaN</td>\n      <td>NaN</td>\n      <td>-90576.3749537</td>\n      <td>-4384.7256587</td>\n    </tr>\n    <tr>\n      <th>30718</th>\n      <td>$GNRMC</td>\n      <td>10834.8800000</td>\n      <td>A</td>\n      <td>3511.0129026</td>\n      <td>N</td>\n      <td>13707.1113445</td>\n      <td>E</td>\n      <td>0.039</td>\n      <td>NaN</td>\n      <td>050721</td>\n      <td>...</td>\n      <td>NaN</td>\n      <td>NaN</td>\n      <td>NaN</td>\n      <td>NaN</td>\n      <td>NaN</td>\n      <td>NaN</td>\n      <td>NaN</td>\n      <td>NaN</td>\n      <td>-90576.3775419</td>\n      <td>-4384.7261154</td>\n    </tr>\n  </tbody>\n</table>\n<p>30719 rows × 52 columns</p>\n</div>"
     },
     "execution_count": 315,
     "metadata": {},
     "output_type": "execute_result"
    }
   ],
   "source": [
    "df_gnrmc_xy_dist"
   ],
   "metadata": {
    "collapsed": false,
    "pycharm": {
     "name": "#%%\n"
    }
   }
  },
  {
   "cell_type": "code",
   "execution_count": 317,
   "outputs": [],
   "source": [
    "df_gnrmc_xy_dist=df_gnrmc_xy_dist.assign(dist=np.nan)"
   ],
   "metadata": {
    "collapsed": false,
    "pycharm": {
     "name": "#%%\n"
    }
   }
  },
  {
   "cell_type": "code",
   "execution_count": 378,
   "outputs": [
    {
     "data": {
      "text/plain": "           ID          time de          lat    4           lon    6   knot  \\\n0      $GNRMC   145.0000000  V          NaN  NaN           NaN  NaN    NaN   \n1      $GNRMC   145.1200000  V          NaN  NaN           NaN  NaN    NaN   \n2      $GNRMC   145.2500000  V          NaN  NaN           NaN  NaN    NaN   \n3      $GNRMC   145.3700000  V          NaN  NaN           NaN  NaN    NaN   \n4      $GNRMC   145.5000000  V          NaN  NaN           NaN  NaN    NaN   \n...       ...           ... ..          ...  ...           ...  ...    ...   \n30714  $GNRMC 10834.3800000  A 3511.0129030    N 13707.1113436    E  0.015   \n30715  $GNRMC 10834.5000000  A 3511.0129025    N 13707.1113439    E  0.024   \n30716  $GNRMC 10834.6300000  A 3511.0129041    N 13707.1113448    E  0.015   \n30717  $GNRMC 10834.7500000  A 3511.0129040    N 13707.1113448    E  0.025   \n30718  $GNRMC 10834.8800000  A 3511.0129026    N 13707.1113445    E  0.039   \n\n         8    date  ...  43  44  45  46  47  48  49              X  \\\n0      NaN  050721  ... NaN NaN NaN NaN NaN NaN NaN            NaN   \n1      NaN  050721  ... NaN NaN NaN NaN NaN NaN NaN            NaN   \n2      NaN  050721  ... NaN NaN NaN NaN NaN NaN NaN            NaN   \n3      NaN  050721  ... NaN NaN NaN NaN NaN NaN NaN            NaN   \n4      NaN  050721  ... NaN NaN NaN NaN NaN NaN NaN            NaN   \n...    ...     ...  ...  ..  ..  ..  ..  ..  ..  ..            ...   \n30714  NaN  050721  ... NaN NaN NaN NaN NaN NaN NaN -90576.3768017   \n30715  NaN  050721  ... NaN NaN NaN NaN NaN NaN NaN -90576.3777264   \n30716  NaN  050721  ... NaN NaN NaN NaN NaN NaN NaN -90576.3747688   \n30717  NaN  050721  ... NaN NaN NaN NaN NaN NaN NaN -90576.3749537   \n30718  NaN  050721  ... NaN NaN NaN NaN NaN NaN NaN -90576.3775419   \n\n                  Y          dist  \n0               NaN           NaN  \n1               NaN           NaN  \n2               NaN           NaN  \n3               NaN           NaN  \n4               NaN           NaN  \n...             ...           ...  \n30714 -4384.7274811 90682.4452119  \n30715 -4384.7270262 90682.4461135  \n30716 -4384.7256586 90682.4430933  \n30717 -4384.7256587 90682.4432779  \n30718 -4384.7261154 90682.4458852  \n\n[30719 rows x 53 columns]",
      "text/html": "<div>\n<style scoped>\n    .dataframe tbody tr th:only-of-type {\n        vertical-align: middle;\n    }\n\n    .dataframe tbody tr th {\n        vertical-align: top;\n    }\n\n    .dataframe thead th {\n        text-align: right;\n    }\n</style>\n<table border=\"1\" class=\"dataframe\">\n  <thead>\n    <tr style=\"text-align: right;\">\n      <th></th>\n      <th>ID</th>\n      <th>time</th>\n      <th>de</th>\n      <th>lat</th>\n      <th>4</th>\n      <th>lon</th>\n      <th>6</th>\n      <th>knot</th>\n      <th>8</th>\n      <th>date</th>\n      <th>...</th>\n      <th>43</th>\n      <th>44</th>\n      <th>45</th>\n      <th>46</th>\n      <th>47</th>\n      <th>48</th>\n      <th>49</th>\n      <th>X</th>\n      <th>Y</th>\n      <th>dist</th>\n    </tr>\n  </thead>\n  <tbody>\n    <tr>\n      <th>0</th>\n      <td>$GNRMC</td>\n      <td>145.0000000</td>\n      <td>V</td>\n      <td>NaN</td>\n      <td>NaN</td>\n      <td>NaN</td>\n      <td>NaN</td>\n      <td>NaN</td>\n      <td>NaN</td>\n      <td>050721</td>\n      <td>...</td>\n      <td>NaN</td>\n      <td>NaN</td>\n      <td>NaN</td>\n      <td>NaN</td>\n      <td>NaN</td>\n      <td>NaN</td>\n      <td>NaN</td>\n      <td>NaN</td>\n      <td>NaN</td>\n      <td>NaN</td>\n    </tr>\n    <tr>\n      <th>1</th>\n      <td>$GNRMC</td>\n      <td>145.1200000</td>\n      <td>V</td>\n      <td>NaN</td>\n      <td>NaN</td>\n      <td>NaN</td>\n      <td>NaN</td>\n      <td>NaN</td>\n      <td>NaN</td>\n      <td>050721</td>\n      <td>...</td>\n      <td>NaN</td>\n      <td>NaN</td>\n      <td>NaN</td>\n      <td>NaN</td>\n      <td>NaN</td>\n      <td>NaN</td>\n      <td>NaN</td>\n      <td>NaN</td>\n      <td>NaN</td>\n      <td>NaN</td>\n    </tr>\n    <tr>\n      <th>2</th>\n      <td>$GNRMC</td>\n      <td>145.2500000</td>\n      <td>V</td>\n      <td>NaN</td>\n      <td>NaN</td>\n      <td>NaN</td>\n      <td>NaN</td>\n      <td>NaN</td>\n      <td>NaN</td>\n      <td>050721</td>\n      <td>...</td>\n      <td>NaN</td>\n      <td>NaN</td>\n      <td>NaN</td>\n      <td>NaN</td>\n      <td>NaN</td>\n      <td>NaN</td>\n      <td>NaN</td>\n      <td>NaN</td>\n      <td>NaN</td>\n      <td>NaN</td>\n    </tr>\n    <tr>\n      <th>3</th>\n      <td>$GNRMC</td>\n      <td>145.3700000</td>\n      <td>V</td>\n      <td>NaN</td>\n      <td>NaN</td>\n      <td>NaN</td>\n      <td>NaN</td>\n      <td>NaN</td>\n      <td>NaN</td>\n      <td>050721</td>\n      <td>...</td>\n      <td>NaN</td>\n      <td>NaN</td>\n      <td>NaN</td>\n      <td>NaN</td>\n      <td>NaN</td>\n      <td>NaN</td>\n      <td>NaN</td>\n      <td>NaN</td>\n      <td>NaN</td>\n      <td>NaN</td>\n    </tr>\n    <tr>\n      <th>4</th>\n      <td>$GNRMC</td>\n      <td>145.5000000</td>\n      <td>V</td>\n      <td>NaN</td>\n      <td>NaN</td>\n      <td>NaN</td>\n      <td>NaN</td>\n      <td>NaN</td>\n      <td>NaN</td>\n      <td>050721</td>\n      <td>...</td>\n      <td>NaN</td>\n      <td>NaN</td>\n      <td>NaN</td>\n      <td>NaN</td>\n      <td>NaN</td>\n      <td>NaN</td>\n      <td>NaN</td>\n      <td>NaN</td>\n      <td>NaN</td>\n      <td>NaN</td>\n    </tr>\n    <tr>\n      <th>...</th>\n      <td>...</td>\n      <td>...</td>\n      <td>...</td>\n      <td>...</td>\n      <td>...</td>\n      <td>...</td>\n      <td>...</td>\n      <td>...</td>\n      <td>...</td>\n      <td>...</td>\n      <td>...</td>\n      <td>...</td>\n      <td>...</td>\n      <td>...</td>\n      <td>...</td>\n      <td>...</td>\n      <td>...</td>\n      <td>...</td>\n      <td>...</td>\n      <td>...</td>\n      <td>...</td>\n    </tr>\n    <tr>\n      <th>30714</th>\n      <td>$GNRMC</td>\n      <td>10834.3800000</td>\n      <td>A</td>\n      <td>3511.0129030</td>\n      <td>N</td>\n      <td>13707.1113436</td>\n      <td>E</td>\n      <td>0.015</td>\n      <td>NaN</td>\n      <td>050721</td>\n      <td>...</td>\n      <td>NaN</td>\n      <td>NaN</td>\n      <td>NaN</td>\n      <td>NaN</td>\n      <td>NaN</td>\n      <td>NaN</td>\n      <td>NaN</td>\n      <td>-90576.3768017</td>\n      <td>-4384.7274811</td>\n      <td>90682.4452119</td>\n    </tr>\n    <tr>\n      <th>30715</th>\n      <td>$GNRMC</td>\n      <td>10834.5000000</td>\n      <td>A</td>\n      <td>3511.0129025</td>\n      <td>N</td>\n      <td>13707.1113439</td>\n      <td>E</td>\n      <td>0.024</td>\n      <td>NaN</td>\n      <td>050721</td>\n      <td>...</td>\n      <td>NaN</td>\n      <td>NaN</td>\n      <td>NaN</td>\n      <td>NaN</td>\n      <td>NaN</td>\n      <td>NaN</td>\n      <td>NaN</td>\n      <td>-90576.3777264</td>\n      <td>-4384.7270262</td>\n      <td>90682.4461135</td>\n    </tr>\n    <tr>\n      <th>30716</th>\n      <td>$GNRMC</td>\n      <td>10834.6300000</td>\n      <td>A</td>\n      <td>3511.0129041</td>\n      <td>N</td>\n      <td>13707.1113448</td>\n      <td>E</td>\n      <td>0.015</td>\n      <td>NaN</td>\n      <td>050721</td>\n      <td>...</td>\n      <td>NaN</td>\n      <td>NaN</td>\n      <td>NaN</td>\n      <td>NaN</td>\n      <td>NaN</td>\n      <td>NaN</td>\n      <td>NaN</td>\n      <td>-90576.3747688</td>\n      <td>-4384.7256586</td>\n      <td>90682.4430933</td>\n    </tr>\n    <tr>\n      <th>30717</th>\n      <td>$GNRMC</td>\n      <td>10834.7500000</td>\n      <td>A</td>\n      <td>3511.0129040</td>\n      <td>N</td>\n      <td>13707.1113448</td>\n      <td>E</td>\n      <td>0.025</td>\n      <td>NaN</td>\n      <td>050721</td>\n      <td>...</td>\n      <td>NaN</td>\n      <td>NaN</td>\n      <td>NaN</td>\n      <td>NaN</td>\n      <td>NaN</td>\n      <td>NaN</td>\n      <td>NaN</td>\n      <td>-90576.3749537</td>\n      <td>-4384.7256587</td>\n      <td>90682.4432779</td>\n    </tr>\n    <tr>\n      <th>30718</th>\n      <td>$GNRMC</td>\n      <td>10834.8800000</td>\n      <td>A</td>\n      <td>3511.0129026</td>\n      <td>N</td>\n      <td>13707.1113445</td>\n      <td>E</td>\n      <td>0.039</td>\n      <td>NaN</td>\n      <td>050721</td>\n      <td>...</td>\n      <td>NaN</td>\n      <td>NaN</td>\n      <td>NaN</td>\n      <td>NaN</td>\n      <td>NaN</td>\n      <td>NaN</td>\n      <td>NaN</td>\n      <td>-90576.3775419</td>\n      <td>-4384.7261154</td>\n      <td>90682.4458852</td>\n    </tr>\n  </tbody>\n</table>\n<p>30719 rows × 53 columns</p>\n</div>"
     },
     "execution_count": 378,
     "metadata": {},
     "output_type": "execute_result"
    }
   ],
   "source": [
    "df_gnrmc_xy_dist"
   ],
   "metadata": {
    "collapsed": false,
    "pycharm": {
     "name": "#%%\n"
    }
   }
  },
  {
   "cell_type": "code",
   "execution_count": 396,
   "outputs": [],
   "source": [
    "df_gnrmc_xy_dist_rm=df_gnrmc_xy_dist[['ID','time','de','lat',4,'lon',6,'knot','date','mode',13,'X','Y','dist']]"
   ],
   "metadata": {
    "collapsed": false,
    "pycharm": {
     "name": "#%%\n"
    }
   }
  },
  {
   "cell_type": "code",
   "execution_count": 394,
   "outputs": [
    {
     "data": {
      "text/plain": "           ID     times          time de          lat    4           lon    6  \\\n0      $GNRMC 0.0000000   145.0000000  V          NaN  NaN           NaN  NaN   \n1      $GNRMC 0.0000000   145.1200000  V          NaN  NaN           NaN  NaN   \n2      $GNRMC 0.0000000   145.2500000  V          NaN  NaN           NaN  NaN   \n3      $GNRMC 0.0000000   145.3700000  V          NaN  NaN           NaN  NaN   \n4      $GNRMC 0.0000000   145.5000000  V          NaN  NaN           NaN  NaN   \n...       ...       ...           ... ..          ...  ...           ...  ...   \n30714  $GNRMC 0.0000000 10834.3800000  A 3511.0129030    N 13707.1113436    E   \n30715  $GNRMC 0.0000000 10834.5000000  A 3511.0129025    N 13707.1113439    E   \n30716  $GNRMC 0.0000000 10834.6300000  A 3511.0129041    N 13707.1113448    E   \n30717  $GNRMC 0.0000000 10834.7500000  A 3511.0129040    N 13707.1113448    E   \n30718  $GNRMC 0.0000000 10834.8800000  A 3511.0129026    N 13707.1113445    E   \n\n        knot    date mode    13              X             Y          dist  \n0        NaN  050721    N  V*18            NaN           NaN           NaN  \n1        NaN  050721    N  V*1B            NaN           NaN           NaN  \n2        NaN  050721    N  V*1F            NaN           NaN           NaN  \n3        NaN  050721    N  V*1C            NaN           NaN           NaN  \n4        NaN  050721    N  V*1D            NaN           NaN           NaN  \n...      ...     ...  ...   ...            ...           ...           ...  \n30714  0.015  050721    R  V*09 -90576.3768017 -4384.7274811 90682.4452119  \n30715  0.024  050721    R  V*0E -90576.3777264 -4384.7270262 90682.4461135  \n30716  0.015  050721    R  V*08 -90576.3747688 -4384.7256586 90682.4430933  \n30717  0.025  050721    R  V*0D -90576.3749537 -4384.7256587 90682.4432779  \n30718  0.039  050721    R  V*0F -90576.3775419 -4384.7261154 90682.4458852  \n\n[30719 rows x 15 columns]",
      "text/html": "<div>\n<style scoped>\n    .dataframe tbody tr th:only-of-type {\n        vertical-align: middle;\n    }\n\n    .dataframe tbody tr th {\n        vertical-align: top;\n    }\n\n    .dataframe thead th {\n        text-align: right;\n    }\n</style>\n<table border=\"1\" class=\"dataframe\">\n  <thead>\n    <tr style=\"text-align: right;\">\n      <th></th>\n      <th>ID</th>\n      <th>times</th>\n      <th>time</th>\n      <th>de</th>\n      <th>lat</th>\n      <th>4</th>\n      <th>lon</th>\n      <th>6</th>\n      <th>knot</th>\n      <th>date</th>\n      <th>mode</th>\n      <th>13</th>\n      <th>X</th>\n      <th>Y</th>\n      <th>dist</th>\n    </tr>\n  </thead>\n  <tbody>\n    <tr>\n      <th>0</th>\n      <td>$GNRMC</td>\n      <td>0.0000000</td>\n      <td>145.0000000</td>\n      <td>V</td>\n      <td>NaN</td>\n      <td>NaN</td>\n      <td>NaN</td>\n      <td>NaN</td>\n      <td>NaN</td>\n      <td>050721</td>\n      <td>N</td>\n      <td>V*18</td>\n      <td>NaN</td>\n      <td>NaN</td>\n      <td>NaN</td>\n    </tr>\n    <tr>\n      <th>1</th>\n      <td>$GNRMC</td>\n      <td>0.0000000</td>\n      <td>145.1200000</td>\n      <td>V</td>\n      <td>NaN</td>\n      <td>NaN</td>\n      <td>NaN</td>\n      <td>NaN</td>\n      <td>NaN</td>\n      <td>050721</td>\n      <td>N</td>\n      <td>V*1B</td>\n      <td>NaN</td>\n      <td>NaN</td>\n      <td>NaN</td>\n    </tr>\n    <tr>\n      <th>2</th>\n      <td>$GNRMC</td>\n      <td>0.0000000</td>\n      <td>145.2500000</td>\n      <td>V</td>\n      <td>NaN</td>\n      <td>NaN</td>\n      <td>NaN</td>\n      <td>NaN</td>\n      <td>NaN</td>\n      <td>050721</td>\n      <td>N</td>\n      <td>V*1F</td>\n      <td>NaN</td>\n      <td>NaN</td>\n      <td>NaN</td>\n    </tr>\n    <tr>\n      <th>3</th>\n      <td>$GNRMC</td>\n      <td>0.0000000</td>\n      <td>145.3700000</td>\n      <td>V</td>\n      <td>NaN</td>\n      <td>NaN</td>\n      <td>NaN</td>\n      <td>NaN</td>\n      <td>NaN</td>\n      <td>050721</td>\n      <td>N</td>\n      <td>V*1C</td>\n      <td>NaN</td>\n      <td>NaN</td>\n      <td>NaN</td>\n    </tr>\n    <tr>\n      <th>4</th>\n      <td>$GNRMC</td>\n      <td>0.0000000</td>\n      <td>145.5000000</td>\n      <td>V</td>\n      <td>NaN</td>\n      <td>NaN</td>\n      <td>NaN</td>\n      <td>NaN</td>\n      <td>NaN</td>\n      <td>050721</td>\n      <td>N</td>\n      <td>V*1D</td>\n      <td>NaN</td>\n      <td>NaN</td>\n      <td>NaN</td>\n    </tr>\n    <tr>\n      <th>...</th>\n      <td>...</td>\n      <td>...</td>\n      <td>...</td>\n      <td>...</td>\n      <td>...</td>\n      <td>...</td>\n      <td>...</td>\n      <td>...</td>\n      <td>...</td>\n      <td>...</td>\n      <td>...</td>\n      <td>...</td>\n      <td>...</td>\n      <td>...</td>\n      <td>...</td>\n    </tr>\n    <tr>\n      <th>30714</th>\n      <td>$GNRMC</td>\n      <td>0.0000000</td>\n      <td>10834.3800000</td>\n      <td>A</td>\n      <td>3511.0129030</td>\n      <td>N</td>\n      <td>13707.1113436</td>\n      <td>E</td>\n      <td>0.015</td>\n      <td>050721</td>\n      <td>R</td>\n      <td>V*09</td>\n      <td>-90576.3768017</td>\n      <td>-4384.7274811</td>\n      <td>90682.4452119</td>\n    </tr>\n    <tr>\n      <th>30715</th>\n      <td>$GNRMC</td>\n      <td>0.0000000</td>\n      <td>10834.5000000</td>\n      <td>A</td>\n      <td>3511.0129025</td>\n      <td>N</td>\n      <td>13707.1113439</td>\n      <td>E</td>\n      <td>0.024</td>\n      <td>050721</td>\n      <td>R</td>\n      <td>V*0E</td>\n      <td>-90576.3777264</td>\n      <td>-4384.7270262</td>\n      <td>90682.4461135</td>\n    </tr>\n    <tr>\n      <th>30716</th>\n      <td>$GNRMC</td>\n      <td>0.0000000</td>\n      <td>10834.6300000</td>\n      <td>A</td>\n      <td>3511.0129041</td>\n      <td>N</td>\n      <td>13707.1113448</td>\n      <td>E</td>\n      <td>0.015</td>\n      <td>050721</td>\n      <td>R</td>\n      <td>V*08</td>\n      <td>-90576.3747688</td>\n      <td>-4384.7256586</td>\n      <td>90682.4430933</td>\n    </tr>\n    <tr>\n      <th>30717</th>\n      <td>$GNRMC</td>\n      <td>0.0000000</td>\n      <td>10834.7500000</td>\n      <td>A</td>\n      <td>3511.0129040</td>\n      <td>N</td>\n      <td>13707.1113448</td>\n      <td>E</td>\n      <td>0.025</td>\n      <td>050721</td>\n      <td>R</td>\n      <td>V*0D</td>\n      <td>-90576.3749537</td>\n      <td>-4384.7256587</td>\n      <td>90682.4432779</td>\n    </tr>\n    <tr>\n      <th>30718</th>\n      <td>$GNRMC</td>\n      <td>0.0000000</td>\n      <td>10834.8800000</td>\n      <td>A</td>\n      <td>3511.0129026</td>\n      <td>N</td>\n      <td>13707.1113445</td>\n      <td>E</td>\n      <td>0.039</td>\n      <td>050721</td>\n      <td>R</td>\n      <td>V*0F</td>\n      <td>-90576.3775419</td>\n      <td>-4384.7261154</td>\n      <td>90682.4458852</td>\n    </tr>\n  </tbody>\n</table>\n<p>30719 rows × 15 columns</p>\n</div>"
     },
     "execution_count": 394,
     "metadata": {},
     "output_type": "execute_result"
    }
   ],
   "source": [
    "df_gnrmc_xy_dist_rm"
   ],
   "metadata": {
    "collapsed": false,
    "pycharm": {
     "name": "#%%\n"
    }
   }
  },
  {
   "cell_type": "code",
   "execution_count": 395,
   "outputs": [],
   "source": [
    "df_gnrmc_xy_dist_rm_times=df_gnrmc_xy_dist_rm"
   ],
   "metadata": {
    "collapsed": false,
    "pycharm": {
     "name": "#%%\n"
    }
   }
  },
  {
   "cell_type": "code",
   "execution_count": 393,
   "outputs": [
    {
     "ename": "ValueError",
     "evalue": "cannot insert times, already exists",
     "output_type": "error",
     "traceback": [
      "\u001B[1;31m---------------------------------------------------------------------------\u001B[0m",
      "\u001B[1;31mValueError\u001B[0m                                Traceback (most recent call last)",
      "\u001B[1;32m<ipython-input-393-6fee17e83a65>\u001B[0m in \u001B[0;36m<module>\u001B[1;34m\u001B[0m\n\u001B[1;32m----> 1\u001B[1;33m \u001B[0mdf_gnrmc_xy_dist_rm_times\u001B[0m\u001B[1;33m.\u001B[0m\u001B[0minsert\u001B[0m\u001B[1;33m(\u001B[0m\u001B[1;36m2\u001B[0m\u001B[1;33m,\u001B[0m\u001B[1;34m\"times\"\u001B[0m\u001B[1;33m,\u001B[0m\u001B[1;36m0.0\u001B[0m\u001B[1;33m)\u001B[0m\u001B[1;33m\u001B[0m\u001B[1;33m\u001B[0m\u001B[0m\n\u001B[0m\u001B[0;32m      2\u001B[0m \u001B[1;33m\u001B[0m\u001B[0m\n",
      "\u001B[1;32m~\\scoop\\apps\\anaconda3\\2020.11\\envs\\GNSS\\lib\\site-packages\\pandas\\core\\frame.py\u001B[0m in \u001B[0;36minsert\u001B[1;34m(self, loc, column, value, allow_duplicates)\u001B[0m\n\u001B[0;32m   3761\u001B[0m         \u001B[0mself\u001B[0m\u001B[1;33m.\u001B[0m\u001B[0m_ensure_valid_index\u001B[0m\u001B[1;33m(\u001B[0m\u001B[0mvalue\u001B[0m\u001B[1;33m)\u001B[0m\u001B[1;33m\u001B[0m\u001B[1;33m\u001B[0m\u001B[0m\n\u001B[0;32m   3762\u001B[0m         \u001B[0mvalue\u001B[0m \u001B[1;33m=\u001B[0m \u001B[0mself\u001B[0m\u001B[1;33m.\u001B[0m\u001B[0m_sanitize_column\u001B[0m\u001B[1;33m(\u001B[0m\u001B[0mcolumn\u001B[0m\u001B[1;33m,\u001B[0m \u001B[0mvalue\u001B[0m\u001B[1;33m,\u001B[0m \u001B[0mbroadcast\u001B[0m\u001B[1;33m=\u001B[0m\u001B[1;32mFalse\u001B[0m\u001B[1;33m)\u001B[0m\u001B[1;33m\u001B[0m\u001B[1;33m\u001B[0m\u001B[0m\n\u001B[1;32m-> 3763\u001B[1;33m         \u001B[0mself\u001B[0m\u001B[1;33m.\u001B[0m\u001B[0m_mgr\u001B[0m\u001B[1;33m.\u001B[0m\u001B[0minsert\u001B[0m\u001B[1;33m(\u001B[0m\u001B[0mloc\u001B[0m\u001B[1;33m,\u001B[0m \u001B[0mcolumn\u001B[0m\u001B[1;33m,\u001B[0m \u001B[0mvalue\u001B[0m\u001B[1;33m,\u001B[0m \u001B[0mallow_duplicates\u001B[0m\u001B[1;33m=\u001B[0m\u001B[0mallow_duplicates\u001B[0m\u001B[1;33m)\u001B[0m\u001B[1;33m\u001B[0m\u001B[1;33m\u001B[0m\u001B[0m\n\u001B[0m\u001B[0;32m   3764\u001B[0m \u001B[1;33m\u001B[0m\u001B[0m\n\u001B[0;32m   3765\u001B[0m     \u001B[1;32mdef\u001B[0m \u001B[0massign\u001B[0m\u001B[1;33m(\u001B[0m\u001B[0mself\u001B[0m\u001B[1;33m,\u001B[0m \u001B[1;33m**\u001B[0m\u001B[0mkwargs\u001B[0m\u001B[1;33m)\u001B[0m \u001B[1;33m->\u001B[0m \u001B[0mDataFrame\u001B[0m\u001B[1;33m:\u001B[0m\u001B[1;33m\u001B[0m\u001B[1;33m\u001B[0m\u001B[0m\n",
      "\u001B[1;32m~\\scoop\\apps\\anaconda3\\2020.11\\envs\\GNSS\\lib\\site-packages\\pandas\\core\\internals\\managers.py\u001B[0m in \u001B[0;36minsert\u001B[1;34m(self, loc, item, value, allow_duplicates)\u001B[0m\n\u001B[0;32m   1189\u001B[0m         \u001B[1;32mif\u001B[0m \u001B[1;32mnot\u001B[0m \u001B[0mallow_duplicates\u001B[0m \u001B[1;32mand\u001B[0m \u001B[0mitem\u001B[0m \u001B[1;32min\u001B[0m \u001B[0mself\u001B[0m\u001B[1;33m.\u001B[0m\u001B[0mitems\u001B[0m\u001B[1;33m:\u001B[0m\u001B[1;33m\u001B[0m\u001B[1;33m\u001B[0m\u001B[0m\n\u001B[0;32m   1190\u001B[0m             \u001B[1;31m# Should this be a different kind of error??\u001B[0m\u001B[1;33m\u001B[0m\u001B[1;33m\u001B[0m\u001B[1;33m\u001B[0m\u001B[0m\n\u001B[1;32m-> 1191\u001B[1;33m             \u001B[1;32mraise\u001B[0m \u001B[0mValueError\u001B[0m\u001B[1;33m(\u001B[0m\u001B[1;34mf\"cannot insert {item}, already exists\"\u001B[0m\u001B[1;33m)\u001B[0m\u001B[1;33m\u001B[0m\u001B[1;33m\u001B[0m\u001B[0m\n\u001B[0m\u001B[0;32m   1192\u001B[0m \u001B[1;33m\u001B[0m\u001B[0m\n\u001B[0;32m   1193\u001B[0m         \u001B[1;32mif\u001B[0m \u001B[1;32mnot\u001B[0m \u001B[0misinstance\u001B[0m\u001B[1;33m(\u001B[0m\u001B[0mloc\u001B[0m\u001B[1;33m,\u001B[0m \u001B[0mint\u001B[0m\u001B[1;33m)\u001B[0m\u001B[1;33m:\u001B[0m\u001B[1;33m\u001B[0m\u001B[1;33m\u001B[0m\u001B[0m\n",
      "\u001B[1;31mValueError\u001B[0m: cannot insert times, already exists"
     ]
    }
   ],
   "source": [
    "df_gnrmc_xy_dist_rm_times.insert(2,\"times\",0.0)"
   ],
   "metadata": {
    "collapsed": false,
    "pycharm": {
     "name": "#%%\n"
    }
   }
  },
  {
   "cell_type": "code",
   "execution_count": 391,
   "outputs": [
    {
     "data": {
      "text/plain": "           ID     times          time de          lat    4           lon    6  \\\n0      $GNRMC 0.0000000   145.0000000  V          NaN  NaN           NaN  NaN   \n1      $GNRMC 0.0000000   145.1200000  V          NaN  NaN           NaN  NaN   \n2      $GNRMC 0.0000000   145.2500000  V          NaN  NaN           NaN  NaN   \n3      $GNRMC 0.0000000   145.3700000  V          NaN  NaN           NaN  NaN   \n4      $GNRMC 0.0000000   145.5000000  V          NaN  NaN           NaN  NaN   \n...       ...       ...           ... ..          ...  ...           ...  ...   \n30714  $GNRMC 0.0000000 10834.3800000  A 3511.0129030    N 13707.1113436    E   \n30715  $GNRMC 0.0000000 10834.5000000  A 3511.0129025    N 13707.1113439    E   \n30716  $GNRMC 0.0000000 10834.6300000  A 3511.0129041    N 13707.1113448    E   \n30717  $GNRMC 0.0000000 10834.7500000  A 3511.0129040    N 13707.1113448    E   \n30718  $GNRMC 0.0000000 10834.8800000  A 3511.0129026    N 13707.1113445    E   \n\n        knot    date mode    13              X             Y          dist  \n0        NaN  050721    N  V*18            NaN           NaN           NaN  \n1        NaN  050721    N  V*1B            NaN           NaN           NaN  \n2        NaN  050721    N  V*1F            NaN           NaN           NaN  \n3        NaN  050721    N  V*1C            NaN           NaN           NaN  \n4        NaN  050721    N  V*1D            NaN           NaN           NaN  \n...      ...     ...  ...   ...            ...           ...           ...  \n30714  0.015  050721    R  V*09 -90576.3768017 -4384.7274811 90682.4452119  \n30715  0.024  050721    R  V*0E -90576.3777264 -4384.7270262 90682.4461135  \n30716  0.015  050721    R  V*08 -90576.3747688 -4384.7256586 90682.4430933  \n30717  0.025  050721    R  V*0D -90576.3749537 -4384.7256587 90682.4432779  \n30718  0.039  050721    R  V*0F -90576.3775419 -4384.7261154 90682.4458852  \n\n[30719 rows x 15 columns]",
      "text/html": "<div>\n<style scoped>\n    .dataframe tbody tr th:only-of-type {\n        vertical-align: middle;\n    }\n\n    .dataframe tbody tr th {\n        vertical-align: top;\n    }\n\n    .dataframe thead th {\n        text-align: right;\n    }\n</style>\n<table border=\"1\" class=\"dataframe\">\n  <thead>\n    <tr style=\"text-align: right;\">\n      <th></th>\n      <th>ID</th>\n      <th>times</th>\n      <th>time</th>\n      <th>de</th>\n      <th>lat</th>\n      <th>4</th>\n      <th>lon</th>\n      <th>6</th>\n      <th>knot</th>\n      <th>date</th>\n      <th>mode</th>\n      <th>13</th>\n      <th>X</th>\n      <th>Y</th>\n      <th>dist</th>\n    </tr>\n  </thead>\n  <tbody>\n    <tr>\n      <th>0</th>\n      <td>$GNRMC</td>\n      <td>0.0000000</td>\n      <td>145.0000000</td>\n      <td>V</td>\n      <td>NaN</td>\n      <td>NaN</td>\n      <td>NaN</td>\n      <td>NaN</td>\n      <td>NaN</td>\n      <td>050721</td>\n      <td>N</td>\n      <td>V*18</td>\n      <td>NaN</td>\n      <td>NaN</td>\n      <td>NaN</td>\n    </tr>\n    <tr>\n      <th>1</th>\n      <td>$GNRMC</td>\n      <td>0.0000000</td>\n      <td>145.1200000</td>\n      <td>V</td>\n      <td>NaN</td>\n      <td>NaN</td>\n      <td>NaN</td>\n      <td>NaN</td>\n      <td>NaN</td>\n      <td>050721</td>\n      <td>N</td>\n      <td>V*1B</td>\n      <td>NaN</td>\n      <td>NaN</td>\n      <td>NaN</td>\n    </tr>\n    <tr>\n      <th>2</th>\n      <td>$GNRMC</td>\n      <td>0.0000000</td>\n      <td>145.2500000</td>\n      <td>V</td>\n      <td>NaN</td>\n      <td>NaN</td>\n      <td>NaN</td>\n      <td>NaN</td>\n      <td>NaN</td>\n      <td>050721</td>\n      <td>N</td>\n      <td>V*1F</td>\n      <td>NaN</td>\n      <td>NaN</td>\n      <td>NaN</td>\n    </tr>\n    <tr>\n      <th>3</th>\n      <td>$GNRMC</td>\n      <td>0.0000000</td>\n      <td>145.3700000</td>\n      <td>V</td>\n      <td>NaN</td>\n      <td>NaN</td>\n      <td>NaN</td>\n      <td>NaN</td>\n      <td>NaN</td>\n      <td>050721</td>\n      <td>N</td>\n      <td>V*1C</td>\n      <td>NaN</td>\n      <td>NaN</td>\n      <td>NaN</td>\n    </tr>\n    <tr>\n      <th>4</th>\n      <td>$GNRMC</td>\n      <td>0.0000000</td>\n      <td>145.5000000</td>\n      <td>V</td>\n      <td>NaN</td>\n      <td>NaN</td>\n      <td>NaN</td>\n      <td>NaN</td>\n      <td>NaN</td>\n      <td>050721</td>\n      <td>N</td>\n      <td>V*1D</td>\n      <td>NaN</td>\n      <td>NaN</td>\n      <td>NaN</td>\n    </tr>\n    <tr>\n      <th>...</th>\n      <td>...</td>\n      <td>...</td>\n      <td>...</td>\n      <td>...</td>\n      <td>...</td>\n      <td>...</td>\n      <td>...</td>\n      <td>...</td>\n      <td>...</td>\n      <td>...</td>\n      <td>...</td>\n      <td>...</td>\n      <td>...</td>\n      <td>...</td>\n      <td>...</td>\n    </tr>\n    <tr>\n      <th>30714</th>\n      <td>$GNRMC</td>\n      <td>0.0000000</td>\n      <td>10834.3800000</td>\n      <td>A</td>\n      <td>3511.0129030</td>\n      <td>N</td>\n      <td>13707.1113436</td>\n      <td>E</td>\n      <td>0.015</td>\n      <td>050721</td>\n      <td>R</td>\n      <td>V*09</td>\n      <td>-90576.3768017</td>\n      <td>-4384.7274811</td>\n      <td>90682.4452119</td>\n    </tr>\n    <tr>\n      <th>30715</th>\n      <td>$GNRMC</td>\n      <td>0.0000000</td>\n      <td>10834.5000000</td>\n      <td>A</td>\n      <td>3511.0129025</td>\n      <td>N</td>\n      <td>13707.1113439</td>\n      <td>E</td>\n      <td>0.024</td>\n      <td>050721</td>\n      <td>R</td>\n      <td>V*0E</td>\n      <td>-90576.3777264</td>\n      <td>-4384.7270262</td>\n      <td>90682.4461135</td>\n    </tr>\n    <tr>\n      <th>30716</th>\n      <td>$GNRMC</td>\n      <td>0.0000000</td>\n      <td>10834.6300000</td>\n      <td>A</td>\n      <td>3511.0129041</td>\n      <td>N</td>\n      <td>13707.1113448</td>\n      <td>E</td>\n      <td>0.015</td>\n      <td>050721</td>\n      <td>R</td>\n      <td>V*08</td>\n      <td>-90576.3747688</td>\n      <td>-4384.7256586</td>\n      <td>90682.4430933</td>\n    </tr>\n    <tr>\n      <th>30717</th>\n      <td>$GNRMC</td>\n      <td>0.0000000</td>\n      <td>10834.7500000</td>\n      <td>A</td>\n      <td>3511.0129040</td>\n      <td>N</td>\n      <td>13707.1113448</td>\n      <td>E</td>\n      <td>0.025</td>\n      <td>050721</td>\n      <td>R</td>\n      <td>V*0D</td>\n      <td>-90576.3749537</td>\n      <td>-4384.7256587</td>\n      <td>90682.4432779</td>\n    </tr>\n    <tr>\n      <th>30718</th>\n      <td>$GNRMC</td>\n      <td>0.0000000</td>\n      <td>10834.8800000</td>\n      <td>A</td>\n      <td>3511.0129026</td>\n      <td>N</td>\n      <td>13707.1113445</td>\n      <td>E</td>\n      <td>0.039</td>\n      <td>050721</td>\n      <td>R</td>\n      <td>V*0F</td>\n      <td>-90576.3775419</td>\n      <td>-4384.7261154</td>\n      <td>90682.4458852</td>\n    </tr>\n  </tbody>\n</table>\n<p>30719 rows × 15 columns</p>\n</div>"
     },
     "execution_count": 391,
     "metadata": {},
     "output_type": "execute_result"
    }
   ],
   "source": [
    "df_gnrmc_xy_dist_rm_times"
   ],
   "metadata": {
    "collapsed": false,
    "pycharm": {
     "name": "#%%\n"
    }
   }
  },
  {
   "cell_type": "code",
   "execution_count": 321,
   "outputs": [
    {
     "data": {
      "text/plain": "ID       object\ntime    float64\nde       object\nlat     float64\n4        object\nlon     float64\n6        object\nknot     object\n8        object\ndate     object\n10      float64\n11      float64\nmode     object\n13       object\n14      float64\n15      float64\n16      float64\n17      float64\n18      float64\n19      float64\n20      float64\n21      float64\n22      float64\n23      float64\n24      float64\n25      float64\n26      float64\n27      float64\n28      float64\n29      float64\n30      float64\n31      float64\n32      float64\n33      float64\n34      float64\n35      float64\n36      float64\n37      float64\n38      float64\n39      float64\n40      float64\n41      float64\n42      float64\n43      float64\n44      float64\n45      float64\n46      float64\n47      float64\n48      float64\n49      float64\nX       float64\nY       float64\ndist    float64\ndtype: object"
     },
     "execution_count": 321,
     "metadata": {},
     "output_type": "execute_result"
    }
   ],
   "source": [
    "df_gnrmc_xy_dist.dtypes"
   ],
   "metadata": {
    "collapsed": false,
    "pycharm": {
     "name": "#%%\n"
    }
   }
  },
  {
   "cell_type": "code",
   "execution_count": 322,
   "outputs": [],
   "source": [
    "df_gnrmc_xy_dist['dist']=np.sqrt(df_gnrmc_xy_dist['X']**2+df_gnrmc_xy_dist['Y']**2)"
   ],
   "metadata": {
    "collapsed": false,
    "pycharm": {
     "name": "#%%\n"
    }
   }
  },
  {
   "cell_type": "code",
   "execution_count": 330,
   "outputs": [
    {
     "data": {
      "text/plain": "           ID          time de          lat    4           lon    6   knot  \\\n0      $GNRMC   145.0000000  V          NaN  NaN           NaN  NaN    NaN   \n1      $GNRMC   145.1200000  V          NaN  NaN           NaN  NaN    NaN   \n2      $GNRMC   145.2500000  V          NaN  NaN           NaN  NaN    NaN   \n3      $GNRMC   145.3700000  V          NaN  NaN           NaN  NaN    NaN   \n4      $GNRMC   145.5000000  V          NaN  NaN           NaN  NaN    NaN   \n...       ...           ... ..          ...  ...           ...  ...    ...   \n30714  $GNRMC 10834.3800000  A 3511.0129030    N 13707.1113436    E  0.015   \n30715  $GNRMC 10834.5000000  A 3511.0129025    N 13707.1113439    E  0.024   \n30716  $GNRMC 10834.6300000  A 3511.0129041    N 13707.1113448    E  0.015   \n30717  $GNRMC 10834.7500000  A 3511.0129040    N 13707.1113448    E  0.025   \n30718  $GNRMC 10834.8800000  A 3511.0129026    N 13707.1113445    E  0.039   \n\n         8    date  ...  43  44  45  46  47  48  49              X  \\\n0      NaN  050721  ... NaN NaN NaN NaN NaN NaN NaN            NaN   \n1      NaN  050721  ... NaN NaN NaN NaN NaN NaN NaN            NaN   \n2      NaN  050721  ... NaN NaN NaN NaN NaN NaN NaN            NaN   \n3      NaN  050721  ... NaN NaN NaN NaN NaN NaN NaN            NaN   \n4      NaN  050721  ... NaN NaN NaN NaN NaN NaN NaN            NaN   \n...    ...     ...  ...  ..  ..  ..  ..  ..  ..  ..            ...   \n30714  NaN  050721  ... NaN NaN NaN NaN NaN NaN NaN -90576.3768017   \n30715  NaN  050721  ... NaN NaN NaN NaN NaN NaN NaN -90576.3777264   \n30716  NaN  050721  ... NaN NaN NaN NaN NaN NaN NaN -90576.3747688   \n30717  NaN  050721  ... NaN NaN NaN NaN NaN NaN NaN -90576.3749537   \n30718  NaN  050721  ... NaN NaN NaN NaN NaN NaN NaN -90576.3775419   \n\n                  Y          dist  \n0               NaN           NaN  \n1               NaN           NaN  \n2               NaN           NaN  \n3               NaN           NaN  \n4               NaN           NaN  \n...             ...           ...  \n30714 -4384.7274811 90682.4452119  \n30715 -4384.7270262 90682.4461135  \n30716 -4384.7256586 90682.4430933  \n30717 -4384.7256587 90682.4432779  \n30718 -4384.7261154 90682.4458852  \n\n[30719 rows x 53 columns]",
      "text/html": "<div>\n<style scoped>\n    .dataframe tbody tr th:only-of-type {\n        vertical-align: middle;\n    }\n\n    .dataframe tbody tr th {\n        vertical-align: top;\n    }\n\n    .dataframe thead th {\n        text-align: right;\n    }\n</style>\n<table border=\"1\" class=\"dataframe\">\n  <thead>\n    <tr style=\"text-align: right;\">\n      <th></th>\n      <th>ID</th>\n      <th>time</th>\n      <th>de</th>\n      <th>lat</th>\n      <th>4</th>\n      <th>lon</th>\n      <th>6</th>\n      <th>knot</th>\n      <th>8</th>\n      <th>date</th>\n      <th>...</th>\n      <th>43</th>\n      <th>44</th>\n      <th>45</th>\n      <th>46</th>\n      <th>47</th>\n      <th>48</th>\n      <th>49</th>\n      <th>X</th>\n      <th>Y</th>\n      <th>dist</th>\n    </tr>\n  </thead>\n  <tbody>\n    <tr>\n      <th>0</th>\n      <td>$GNRMC</td>\n      <td>145.0000000</td>\n      <td>V</td>\n      <td>NaN</td>\n      <td>NaN</td>\n      <td>NaN</td>\n      <td>NaN</td>\n      <td>NaN</td>\n      <td>NaN</td>\n      <td>050721</td>\n      <td>...</td>\n      <td>NaN</td>\n      <td>NaN</td>\n      <td>NaN</td>\n      <td>NaN</td>\n      <td>NaN</td>\n      <td>NaN</td>\n      <td>NaN</td>\n      <td>NaN</td>\n      <td>NaN</td>\n      <td>NaN</td>\n    </tr>\n    <tr>\n      <th>1</th>\n      <td>$GNRMC</td>\n      <td>145.1200000</td>\n      <td>V</td>\n      <td>NaN</td>\n      <td>NaN</td>\n      <td>NaN</td>\n      <td>NaN</td>\n      <td>NaN</td>\n      <td>NaN</td>\n      <td>050721</td>\n      <td>...</td>\n      <td>NaN</td>\n      <td>NaN</td>\n      <td>NaN</td>\n      <td>NaN</td>\n      <td>NaN</td>\n      <td>NaN</td>\n      <td>NaN</td>\n      <td>NaN</td>\n      <td>NaN</td>\n      <td>NaN</td>\n    </tr>\n    <tr>\n      <th>2</th>\n      <td>$GNRMC</td>\n      <td>145.2500000</td>\n      <td>V</td>\n      <td>NaN</td>\n      <td>NaN</td>\n      <td>NaN</td>\n      <td>NaN</td>\n      <td>NaN</td>\n      <td>NaN</td>\n      <td>050721</td>\n      <td>...</td>\n      <td>NaN</td>\n      <td>NaN</td>\n      <td>NaN</td>\n      <td>NaN</td>\n      <td>NaN</td>\n      <td>NaN</td>\n      <td>NaN</td>\n      <td>NaN</td>\n      <td>NaN</td>\n      <td>NaN</td>\n    </tr>\n    <tr>\n      <th>3</th>\n      <td>$GNRMC</td>\n      <td>145.3700000</td>\n      <td>V</td>\n      <td>NaN</td>\n      <td>NaN</td>\n      <td>NaN</td>\n      <td>NaN</td>\n      <td>NaN</td>\n      <td>NaN</td>\n      <td>050721</td>\n      <td>...</td>\n      <td>NaN</td>\n      <td>NaN</td>\n      <td>NaN</td>\n      <td>NaN</td>\n      <td>NaN</td>\n      <td>NaN</td>\n      <td>NaN</td>\n      <td>NaN</td>\n      <td>NaN</td>\n      <td>NaN</td>\n    </tr>\n    <tr>\n      <th>4</th>\n      <td>$GNRMC</td>\n      <td>145.5000000</td>\n      <td>V</td>\n      <td>NaN</td>\n      <td>NaN</td>\n      <td>NaN</td>\n      <td>NaN</td>\n      <td>NaN</td>\n      <td>NaN</td>\n      <td>050721</td>\n      <td>...</td>\n      <td>NaN</td>\n      <td>NaN</td>\n      <td>NaN</td>\n      <td>NaN</td>\n      <td>NaN</td>\n      <td>NaN</td>\n      <td>NaN</td>\n      <td>NaN</td>\n      <td>NaN</td>\n      <td>NaN</td>\n    </tr>\n    <tr>\n      <th>...</th>\n      <td>...</td>\n      <td>...</td>\n      <td>...</td>\n      <td>...</td>\n      <td>...</td>\n      <td>...</td>\n      <td>...</td>\n      <td>...</td>\n      <td>...</td>\n      <td>...</td>\n      <td>...</td>\n      <td>...</td>\n      <td>...</td>\n      <td>...</td>\n      <td>...</td>\n      <td>...</td>\n      <td>...</td>\n      <td>...</td>\n      <td>...</td>\n      <td>...</td>\n      <td>...</td>\n    </tr>\n    <tr>\n      <th>30714</th>\n      <td>$GNRMC</td>\n      <td>10834.3800000</td>\n      <td>A</td>\n      <td>3511.0129030</td>\n      <td>N</td>\n      <td>13707.1113436</td>\n      <td>E</td>\n      <td>0.015</td>\n      <td>NaN</td>\n      <td>050721</td>\n      <td>...</td>\n      <td>NaN</td>\n      <td>NaN</td>\n      <td>NaN</td>\n      <td>NaN</td>\n      <td>NaN</td>\n      <td>NaN</td>\n      <td>NaN</td>\n      <td>-90576.3768017</td>\n      <td>-4384.7274811</td>\n      <td>90682.4452119</td>\n    </tr>\n    <tr>\n      <th>30715</th>\n      <td>$GNRMC</td>\n      <td>10834.5000000</td>\n      <td>A</td>\n      <td>3511.0129025</td>\n      <td>N</td>\n      <td>13707.1113439</td>\n      <td>E</td>\n      <td>0.024</td>\n      <td>NaN</td>\n      <td>050721</td>\n      <td>...</td>\n      <td>NaN</td>\n      <td>NaN</td>\n      <td>NaN</td>\n      <td>NaN</td>\n      <td>NaN</td>\n      <td>NaN</td>\n      <td>NaN</td>\n      <td>-90576.3777264</td>\n      <td>-4384.7270262</td>\n      <td>90682.4461135</td>\n    </tr>\n    <tr>\n      <th>30716</th>\n      <td>$GNRMC</td>\n      <td>10834.6300000</td>\n      <td>A</td>\n      <td>3511.0129041</td>\n      <td>N</td>\n      <td>13707.1113448</td>\n      <td>E</td>\n      <td>0.015</td>\n      <td>NaN</td>\n      <td>050721</td>\n      <td>...</td>\n      <td>NaN</td>\n      <td>NaN</td>\n      <td>NaN</td>\n      <td>NaN</td>\n      <td>NaN</td>\n      <td>NaN</td>\n      <td>NaN</td>\n      <td>-90576.3747688</td>\n      <td>-4384.7256586</td>\n      <td>90682.4430933</td>\n    </tr>\n    <tr>\n      <th>30717</th>\n      <td>$GNRMC</td>\n      <td>10834.7500000</td>\n      <td>A</td>\n      <td>3511.0129040</td>\n      <td>N</td>\n      <td>13707.1113448</td>\n      <td>E</td>\n      <td>0.025</td>\n      <td>NaN</td>\n      <td>050721</td>\n      <td>...</td>\n      <td>NaN</td>\n      <td>NaN</td>\n      <td>NaN</td>\n      <td>NaN</td>\n      <td>NaN</td>\n      <td>NaN</td>\n      <td>NaN</td>\n      <td>-90576.3749537</td>\n      <td>-4384.7256587</td>\n      <td>90682.4432779</td>\n    </tr>\n    <tr>\n      <th>30718</th>\n      <td>$GNRMC</td>\n      <td>10834.8800000</td>\n      <td>A</td>\n      <td>3511.0129026</td>\n      <td>N</td>\n      <td>13707.1113445</td>\n      <td>E</td>\n      <td>0.039</td>\n      <td>NaN</td>\n      <td>050721</td>\n      <td>...</td>\n      <td>NaN</td>\n      <td>NaN</td>\n      <td>NaN</td>\n      <td>NaN</td>\n      <td>NaN</td>\n      <td>NaN</td>\n      <td>NaN</td>\n      <td>-90576.3775419</td>\n      <td>-4384.7261154</td>\n      <td>90682.4458852</td>\n    </tr>\n  </tbody>\n</table>\n<p>30719 rows × 53 columns</p>\n</div>"
     },
     "execution_count": 330,
     "metadata": {},
     "output_type": "execute_result"
    }
   ],
   "source": [
    "df_gnrmc_xy_dist"
   ],
   "metadata": {
    "collapsed": false,
    "pycharm": {
     "name": "#%%\n"
    }
   }
  },
  {
   "cell_type": "code",
   "execution_count": 359,
   "outputs": [
    {
     "data": {
      "text/plain": "[<matplotlib.lines.Line2D at 0x2290768d820>]"
     },
     "execution_count": 359,
     "metadata": {},
     "output_type": "execute_result"
    },
    {
     "data": {
      "text/plain": "<Figure size 432x288 with 1 Axes>",
      "image/png": "[encoded data removed]"
     },
     "metadata": {
      "needs_background": "light"
     },
     "output_type": "display_data"
    }
   ],
   "source": [
    "%matplotlib inline\n",
    "time=df_gnrmc_xy_dist.loc[3750:5600,'time']\n",
    "dist=df_gnrmc_xy_dist.loc[3750:5600,'dist']\n",
    "plt.plot(time,dist)"
   ],
   "metadata": {
    "collapsed": false,
    "pycharm": {
     "name": "#%%\n"
    }
   }
  },
  {
   "cell_type": "code",
   "execution_count": 360,
   "outputs": [],
   "source": [
    "df_gnrmc_xy_dist_first=df_gnrmc_xy_dist[3750:5600]"
   ],
   "metadata": {
    "collapsed": false,
    "pycharm": {
     "name": "#%%\n"
    }
   }
  },
  {
   "cell_type": "code",
   "execution_count": 365,
   "outputs": [],
   "source": [
    "df_gnrmc_xy_dist_first\n",
    "df_gnrmc_xy_dist_first.to_csv('C:\\\\Users\\survey\\Desktop\\\\nmea20210705\\\\2021-07-05_09+10_GNRMC_first.csv')"
   ],
   "metadata": {
    "collapsed": false,
    "pycharm": {
     "name": "#%%\n"
    }
   }
  },
  {
   "cell_type": "code",
   "execution_count": 369,
   "outputs": [],
   "source": [
    "df_gnrmc_xy_dist_first_rm=df_gnrmc_xy_dist_first[['ID','time','de','lat',4,'lon',6,'knot','date','mode',13,'X','Y','dist']]"
   ],
   "metadata": {
    "collapsed": false,
    "pycharm": {
     "name": "#%%\n"
    }
   }
  },
  {
   "cell_type": "code",
   "execution_count": 370,
   "outputs": [
    {
     "data": {
      "text/plain": "          ID         time de          lat  4           lon  6   knot    date  \\\n3750  $GNRMC  946.2500000  A 3511.0124719  N 13707.1103771  E  0.099  050721   \n3751  $GNRMC  946.3800000  A 3511.0124698  N 13707.1103753  E  0.075  050721   \n3752  $GNRMC  946.5000000  A 3511.0124684  N 13707.1103777  E  0.038  050721   \n3753  $GNRMC  946.6300000  A 3511.0124679  N 13707.1103787  E  0.079  050721   \n3754  $GNRMC  946.7500000  A 3511.0124664  N 13707.1103790  E  0.047  050721   \n...      ...          ... ..          ... ..           ... ..    ...     ...   \n5595  $GNRMC 1343.0000000  A 3511.0125071  N 13707.1103622  E  0.033  050721   \n5596  $GNRMC 1343.1300000  A 3511.0125066  N 13707.1103615  E  0.017  050721   \n5597  $GNRMC 1343.2500000  A 3511.0125088  N 13707.1103636  E  0.026  050721   \n5598  $GNRMC 1343.3800000  A 3511.0125076  N 13707.1103614  E  0.057  050721   \n5599  $GNRMC 1343.5000000  A 3511.0125067  N 13707.1103625  E  0.035  050721   \n\n     mode    13              X             Y          dist  \n3750    R  V*04 -90577.1731439 -4386.1949297 90683.3115887  \n3751    R  V*02 -90577.1770252 -4386.1976638 90683.3155977  \n3752    R  V*0E -90577.1796154 -4386.1940220 90683.3180088  \n3753    R  V*06 -90577.1805406 -4386.1925046 90683.3188595  \n3754    R  V*06 -90577.1833141 -4386.1920505 90683.3216078  \n...   ...   ...            ...           ...           ...  \n5595    R  V*02 -90577.1080523 -4386.2175150 90683.2476658  \n5596    R  V*04 -90577.1089762 -4386.2185780 90683.2486400  \n5597    R  V*02 -90577.1049102 -4386.2153884 90683.2444245  \n5598    R  V*09 -90577.1071273 -4386.2187289 90683.2468005  \n5599    R  V*01 -90577.1087921 -4386.2170600 90683.2483827  \n\n[1850 rows x 14 columns]",
      "text/html": "<div>\n<style scoped>\n    .dataframe tbody tr th:only-of-type {\n        vertical-align: middle;\n    }\n\n    .dataframe tbody tr th {\n        vertical-align: top;\n    }\n\n    .dataframe thead th {\n        text-align: right;\n    }\n</style>\n<table border=\"1\" class=\"dataframe\">\n  <thead>\n    <tr style=\"text-align: right;\">\n      <th></th>\n      <th>ID</th>\n      <th>time</th>\n      <th>de</th>\n      <th>lat</th>\n      <th>4</th>\n      <th>lon</th>\n      <th>6</th>\n      <th>knot</th>\n      <th>date</th>\n      <th>mode</th>\n      <th>13</th>\n      <th>X</th>\n      <th>Y</th>\n      <th>dist</th>\n    </tr>\n  </thead>\n  <tbody>\n    <tr>\n      <th>3750</th>\n      <td>$GNRMC</td>\n      <td>946.2500000</td>\n      <td>A</td>\n      <td>3511.0124719</td>\n      <td>N</td>\n      <td>13707.1103771</td>\n      <td>E</td>\n      <td>0.099</td>\n      <td>050721</td>\n      <td>R</td>\n      <td>V*04</td>\n      <td>-90577.1731439</td>\n      <td>-4386.1949297</td>\n      <td>90683.3115887</td>\n    </tr>\n    <tr>\n      <th>3751</th>\n      <td>$GNRMC</td>\n      <td>946.3800000</td>\n      <td>A</td>\n      <td>3511.0124698</td>\n      <td>N</td>\n      <td>13707.1103753</td>\n      <td>E</td>\n      <td>0.075</td>\n      <td>050721</td>\n      <td>R</td>\n      <td>V*02</td>\n      <td>-90577.1770252</td>\n      <td>-4386.1976638</td>\n      <td>90683.3155977</td>\n    </tr>\n    <tr>\n      <th>3752</th>\n      <td>$GNRMC</td>\n      <td>946.5000000</td>\n      <td>A</td>\n      <td>3511.0124684</td>\n      <td>N</td>\n      <td>13707.1103777</td>\n      <td>E</td>\n      <td>0.038</td>\n      <td>050721</td>\n      <td>R</td>\n      <td>V*0E</td>\n      <td>-90577.1796154</td>\n      <td>-4386.1940220</td>\n      <td>90683.3180088</td>\n    </tr>\n    <tr>\n      <th>3753</th>\n      <td>$GNRMC</td>\n      <td>946.6300000</td>\n      <td>A</td>\n      <td>3511.0124679</td>\n      <td>N</td>\n      <td>13707.1103787</td>\n      <td>E</td>\n      <td>0.079</td>\n      <td>050721</td>\n      <td>R</td>\n      <td>V*06</td>\n      <td>-90577.1805406</td>\n      <td>-4386.1925046</td>\n      <td>90683.3188595</td>\n    </tr>\n    <tr>\n      <th>3754</th>\n      <td>$GNRMC</td>\n      <td>946.7500000</td>\n      <td>A</td>\n      <td>3511.0124664</td>\n      <td>N</td>\n      <td>13707.1103790</td>\n      <td>E</td>\n      <td>0.047</td>\n      <td>050721</td>\n      <td>R</td>\n      <td>V*06</td>\n      <td>-90577.1833141</td>\n      <td>-4386.1920505</td>\n      <td>90683.3216078</td>\n    </tr>\n    <tr>\n      <th>...</th>\n      <td>...</td>\n      <td>...</td>\n      <td>...</td>\n      <td>...</td>\n      <td>...</td>\n      <td>...</td>\n      <td>...</td>\n      <td>...</td>\n      <td>...</td>\n      <td>...</td>\n      <td>...</td>\n      <td>...</td>\n      <td>...</td>\n      <td>...</td>\n    </tr>\n    <tr>\n      <th>5595</th>\n      <td>$GNRMC</td>\n      <td>1343.0000000</td>\n      <td>A</td>\n      <td>3511.0125071</td>\n      <td>N</td>\n      <td>13707.1103622</td>\n      <td>E</td>\n      <td>0.033</td>\n      <td>050721</td>\n      <td>R</td>\n      <td>V*02</td>\n      <td>-90577.1080523</td>\n      <td>-4386.2175150</td>\n      <td>90683.2476658</td>\n    </tr>\n    <tr>\n      <th>5596</th>\n      <td>$GNRMC</td>\n      <td>1343.1300000</td>\n      <td>A</td>\n      <td>3511.0125066</td>\n      <td>N</td>\n      <td>13707.1103615</td>\n      <td>E</td>\n      <td>0.017</td>\n      <td>050721</td>\n      <td>R</td>\n      <td>V*04</td>\n      <td>-90577.1089762</td>\n      <td>-4386.2185780</td>\n      <td>90683.2486400</td>\n    </tr>\n    <tr>\n      <th>5597</th>\n      <td>$GNRMC</td>\n      <td>1343.2500000</td>\n      <td>A</td>\n      <td>3511.0125088</td>\n      <td>N</td>\n      <td>13707.1103636</td>\n      <td>E</td>\n      <td>0.026</td>\n      <td>050721</td>\n      <td>R</td>\n      <td>V*02</td>\n      <td>-90577.1049102</td>\n      <td>-4386.2153884</td>\n      <td>90683.2444245</td>\n    </tr>\n    <tr>\n      <th>5598</th>\n      <td>$GNRMC</td>\n      <td>1343.3800000</td>\n      <td>A</td>\n      <td>3511.0125076</td>\n      <td>N</td>\n      <td>13707.1103614</td>\n      <td>E</td>\n      <td>0.057</td>\n      <td>050721</td>\n      <td>R</td>\n      <td>V*09</td>\n      <td>-90577.1071273</td>\n      <td>-4386.2187289</td>\n      <td>90683.2468005</td>\n    </tr>\n    <tr>\n      <th>5599</th>\n      <td>$GNRMC</td>\n      <td>1343.5000000</td>\n      <td>A</td>\n      <td>3511.0125067</td>\n      <td>N</td>\n      <td>13707.1103625</td>\n      <td>E</td>\n      <td>0.035</td>\n      <td>050721</td>\n      <td>R</td>\n      <td>V*01</td>\n      <td>-90577.1087921</td>\n      <td>-4386.2170600</td>\n      <td>90683.2483827</td>\n    </tr>\n  </tbody>\n</table>\n<p>1850 rows × 14 columns</p>\n</div>"
     },
     "execution_count": 370,
     "metadata": {},
     "output_type": "execute_result"
    }
   ],
   "source": [
    "df_gnrmc_xy_dist_first_rm"
   ],
   "metadata": {
    "collapsed": false,
    "pycharm": {
     "name": "#%%\n"
    }
   }
  },
  {
   "cell_type": "markdown",
   "source": [
    "df_gnrmc_xy_dist.drop(df_gnrmc_xy_dist.columns[[41,42,45,46,47]], axis=1)"
   ],
   "metadata": {
    "collapsed": false,
    "pycharm": {
     "name": "#%% md\n"
    }
   }
  },
  {
   "cell_type": "markdown",
   "source": [
    "## 同期処理後半スタート\n"
   ],
   "metadata": {
    "collapsed": false,
    "pycharm": {
     "name": "#%% md\n"
    }
   }
  },
  {
   "cell_type": "code",
   "execution_count": 381,
   "outputs": [
    {
     "data": {
      "text/plain": "[<matplotlib.lines.Line2D at 0x2290880cb50>]"
     },
     "execution_count": 381,
     "metadata": {},
     "output_type": "execute_result"
    },
    {
     "data": {
      "text/plain": "<Figure size 432x288 with 1 Axes>",
      "image/png": "[encoded data removed]"
     },
     "metadata": {
      "needs_background": "light"
     },
     "output_type": "display_data"
    }
   ],
   "source": [
    "%matplotlib inline\n",
    "time=df_gnrmc_xy_dist_rm.loc[26900:30718,'time']\n",
    "dist=df_gnrmc_xy_dist_rm.loc[26900:30718,'dist']\n",
    "plt.plot(time,dist)"
   ],
   "metadata": {
    "collapsed": false,
    "pycharm": {
     "name": "#%%\n"
    }
   }
  },
  {
   "cell_type": "code",
   "execution_count": 383,
   "outputs": [],
   "source": [
    "# ここで「行レベル」で抽出しよう．\n",
    "df_gnrmc_xy_dist_rm_last=df_gnrmc_xy_dist_rm[26900:30718]\n",
    "df_gnrmc_xy_dist_rm_last\n",
    "df_gnrmc_xy_dist_rm_last.to_csv('C:\\\\Users\\survey\\Desktop\\\\nmea20210705\\\\2021-07-05_09+10_GNRMC_last.csv')"
   ],
   "metadata": {
    "collapsed": false,
    "pycharm": {
     "name": "#%%\n"
    }
   }
  },
  {
   "cell_type": "markdown",
   "source": [
    "### 3.2. テスト\n",
    "- [国土地理院の換算サービス](http://vldb.gsi.go.jp/sokuchi/surveycalc/surveycalc/bl2xyf.html)と比較"
   ],
   "metadata": {
    "collapsed": false
   }
  },
  {
   "cell_type": "code",
   "execution_count": null,
   "outputs": [],
   "source": [
    "x, y = calc_xy(df_gnrmc_ll_np_wa[:,0], df_gnrmc_ll_np_wa[:,1], 36., 137+10./60)\n",
    "# print \"x, y = ({0}, {1})\".format(x, y)"
   ],
   "metadata": {
    "collapsed": false,
    "pycharm": {
     "name": "#%%\n"
    }
   }
  },
  {
   "cell_type": "code",
   "execution_count": null,
   "outputs": [],
   "source": [
    "x, y = calc_xy(36.103774791666666, 140.08785504166664, 36., 139+50./60)\n",
    "print \"x, y = ({0}, {1})\".format(x, y)\n"
   ],
   "metadata": {
    "collapsed": false,
    "pycharm": {
     "name": "#%%\n"
    }
   }
  },
  {
   "cell_type": "code",
   "execution_count": null,
   "outputs": [],
   "source": [],
   "metadata": {
    "collapsed": false,
    "pycharm": {
     "name": "#%%"
    }
   }
  }
 ],
 "metadata": {
  "kernelspec": {
   "display_name": "Python 3",
   "language": "python",
   "name": "python3"
  },
  "language_info": {
   "codemirror_mode": {
    "name": "ipython",
    "version": 2
   },
   "file_extension": ".py",
   "mimetype": "text/x-python",
   "name": "python",
   "nbconvert_exporter": "python",
   "pygments_lexer": "ipython2",
   "version": "2.7.6"
  }
 },
 "nbformat": 4,
 "nbformat_minor": 0
}