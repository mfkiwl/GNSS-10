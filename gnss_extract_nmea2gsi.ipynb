{
 "cells": [
  {
   "cell_type": "markdown",
   "source": [
    "# This is to convert from nmea to Plane Rectangular. Coordinate System by GSI(Geospatial Information Authority of Japan) HP.\n",
    "\n",
    "# 緯度経度(nmea)から平面直角座標へ国土地理院のHPで変換したい場合\n",
    "\n",
    "https://vldb.gsi.go.jp/sokuchi/surveycalc/surveycalc/bl2xyf.html"
   ],
   "metadata": {
    "collapsed": false,
    "pycharm": {
     "name": "#%% md\n"
    }
   }
  },
  {
   "cell_type": "markdown",
   "source": [
    "when calculate again,\n",
    "\n",
    "if you want\n",
    "\n",
    "%reset"
   ],
   "metadata": {
    "collapsed": false,
    "pycharm": {
     "name": "#%% md\n"
    }
   }
  },
  {
   "cell_type": "code",
   "execution_count": 1,
   "outputs": [
    {
     "data": {
      "text/plain": "'C:\\\\Users\\\\survey\\\\Dropbox\\\\My PC (SURVEY-C20)\\\\Documents\\\\GitHub\\\\GNSS'"
     },
     "execution_count": 1,
     "metadata": {},
     "output_type": "execute_result"
    }
   ],
   "source": [
    "#if you want\n",
    "#check current directory\n",
    "%pwd"
   ],
   "metadata": {
    "collapsed": false,
    "pycharm": {
     "name": "#%%\n"
    }
   }
  },
  {
   "cell_type": "code",
   "execution_count": 1,
   "outputs": [
    {
     "name": "stdout",
     "output_type": "stream",
     "text": [
      "C:\\Users\\survey\\Dropbox\\My PC (SURVEY-C20)\\Documents\\GitHub\\GNSS\n"
     ]
    }
   ],
   "source": [
    "#define working directroy\n",
    "# %cd C:\\\\Users\\\\survey\\\\Desktop\\\\nmea20210705\n",
    "%cd C:\\Users\\survey\\Dropbox\\My PC (SURVEY-C20)\\Documents\\GitHub\\GNSS"
   ],
   "metadata": {
    "collapsed": false,
    "pycharm": {
     "name": "#%%\n"
    }
   }
  },
  {
   "cell_type": "code",
   "execution_count": 30,
   "outputs": [
    {
     "name": "stdout",
     "output_type": "stream",
     "text": [
      " ドライブ C のボリューム ラベルがありません。\n",
      " ボリューム シリアル番号は 3C86-6F6B です\n",
      "\n",
      " C:\\Users\\survey\\Dropbox\\My PC (SURVEY-C20)\\Documents\\GitHub\\GNSS のディレクトリ\n",
      "\n",
      "2021/07/09  20:08    <DIR>          .\n",
      "2021/07/09  19:44    <DIR>          ..\n",
      "2021/07/09  19:17               195 .gitignore\n",
      "2021/07/09  20:06    <DIR>          .idea\n",
      "2021/07/09  20:08            13,944 gnss.ipynb\n",
      "2021/07/09  20:00                46 README.md\n",
      "2021/07/09  18:49            60,812 VRS直_2021-07-05-12-48-07.rtk\n",
      "               4 個のファイル              74,997 バイト\n",
      "               3 個のディレクトリ  1,048,534,614,016 バイトの空き領域\n"
     ]
    }
   ],
   "source": [
    "#check files\n",
    "%ls"
   ],
   "metadata": {
    "collapsed": false,
    "pycharm": {
     "name": "#%%\n"
    }
   }
  },
  {
   "cell_type": "code",
   "execution_count": 2,
   "outputs": [],
   "source": [
    "import pandas as pd\n",
    "import numpy as np\n",
    "import csv"
   ],
   "metadata": {
    "collapsed": false,
    "pycharm": {
     "name": "#%%\n"
    }
   }
  },
  {
   "cell_type": "markdown",
   "source": [
    "# 1. まずは，入力ファイルを設定します."
   ],
   "metadata": {
    "collapsed": false,
    "pycharm": {
     "name": "#%% md\n"
    }
   }
  },
  {
   "cell_type": "code",
   "execution_count": 3,
   "outputs": [],
   "source": [
    "inp_file=\"2021-07-05_10.nmea\"\n",
    "# # inp_file=\"VRS直_2021-07-05-12-48-07.rtk\"\n",
    "# inp_file=\"VRS直_2021-06-27-11-45-43.rtk\""
   ],
   "metadata": {
    "collapsed": false,
    "pycharm": {
     "name": "#%%\n"
    }
   }
  },
  {
   "cell_type": "markdown",
   "source": [
    "# base_nameを取得しておきます．\n",
    "# 出力ファイル名を自動で作成するため"
   ],
   "metadata": {
    "collapsed": false,
    "pycharm": {
     "name": "#%% md\n"
    }
   }
  },
  {
   "cell_type": "code",
   "execution_count": 4,
   "outputs": [
    {
     "data": {
      "text/plain": "'2021-07-05_10'"
     },
     "execution_count": 4,
     "metadata": {},
     "output_type": "execute_result"
    }
   ],
   "source": [
    "type(inp_file)\n",
    "base_name=inp_file.split('.',1)[0]\n",
    "base_name\n",
    "# inp_file=\"VRS直_2021-07-05-12-48-07_get.rtk\""
   ],
   "metadata": {
    "collapsed": false,
    "pycharm": {
     "name": "#%%\n"
    }
   }
  },
  {
   "cell_type": "code",
   "execution_count": 5,
   "outputs": [
    {
     "data": {
      "text/plain": "'2021-07-05_10_GSI.in'"
     },
     "execution_count": 5,
     "metadata": {},
     "output_type": "execute_result"
    }
   ],
   "source": [
    "# make output filename from input file automatically\n",
    "\n",
    "# out_file=\"2021-07-05_10_GNRMC_out_test.csv\"\n",
    "# out_file=\"VRS直_2021-07-05-12-48-07_get.rtk\"\n",
    "# out_file=base_name+\"_get.rtk\"\n",
    "out_file=base_name+\"_GSI.in\"\n",
    "out_file\n",
    "# out_file=\"VRS直_2021-07-05-12-48-07_get.rtk\""
   ],
   "metadata": {
    "collapsed": false,
    "pycharm": {
     "name": "#%%\n"
    }
   }
  },
  {
   "cell_type": "markdown",
   "source": [
    "## nmeaはUTF-8\n",
    "## Trimbleはshift_jisなはず"
   ],
   "metadata": {
    "collapsed": false,
    "pycharm": {
     "name": "#%% md\n"
    }
   }
  },
  {
   "cell_type": "code",
   "execution_count": 6,
   "outputs": [],
   "source": [
    "enc_sty=\"UTF-8\"\n",
    "\n",
    "# enc_sty=\"shift_jis\""
   ],
   "metadata": {
    "collapsed": false,
    "pycharm": {
     "name": "#%%\n"
    }
   }
  },
  {
   "cell_type": "code",
   "execution_count": 25,
   "outputs": [],
   "source": [
    "# with open(\"2021-07-05_10.nmea\", \"r\", encoding=\"UTF-8\", errors=\"\", newline=\"\" ) as f:\n",
    "# with open(inp_file, \"r\", encoding=\"UTF-8\", errors=\"\", newline=\"\" ) as f:\n",
    "with open(inp_file, \"r\", encoding=enc_sty, errors=\"\", newline=\"\" ) as f:\n",
    "    lst = csv.reader(f, delimiter=\",\")\n",
    "    df = pd.DataFrame(lst).rename(columns={0:'ID',1:'time',2:'de',3:'lat',5:'lon',7:'knot',9:'date',12:'mode'})\n",
    "    # df = pd.DataFrame(lst)"
   ],
   "metadata": {
    "collapsed": false,
    "pycharm": {
     "name": "#%%\n"
    }
   }
  },
  {
   "cell_type": "markdown",
   "source": [
    "get_id='GNRMC'"
   ],
   "metadata": {
    "collapsed": false,
    "pycharm": {
     "name": "#%% md\n"
    }
   }
  },
  {
   "cell_type": "code",
   "execution_count": 26,
   "outputs": [
    {
     "data": {
      "text/plain": "           ID       time de           lat  4            lon  6   knot 8   \\\n11     $GNRMC  005959.88  A  3511.0128890  N  13707.1113739  E  0.071      \n27     $GNRMC  010000.00  A  3511.0128878  N  13707.1113731  E  0.048      \n43     $GNRMC  010000.13  A  3511.0128907  N  13707.1113732  E  0.048      \n59     $GNRMC  010000.25  A  3511.0128898  N  13707.1113735  E  0.043      \n75     $GNRMC  010000.38  A  3511.0128892  N  13707.1113735  E  0.030      \n...       ...        ... ..           ... ..            ... ..    ... ..   \n68130  $GNRMC  010834.38  A  3511.0129030  N  13707.1113436  E  0.015      \n68149  $GNRMC  010834.50  A  3511.0129025  N  13707.1113439  E  0.024      \n68168  $GNRMC  010834.63  A  3511.0129041  N  13707.1113448  E  0.015      \n68187  $GNRMC  010834.75  A  3511.0129040  N  13707.1113448  E  0.025      \n68206  $GNRMC  010834.88  A  3511.0129026  N  13707.1113445  E  0.039      \n\n         date  ... 11 mode    13    14    15    16    17    18    19    20  \n11     050721  ...       R  V*01  None  None  None  None  None  None  None  \n27     050721  ...       R  V*04  None  None  None  None  None  None  None  \n43     050721  ...       R  V*0C  None  None  None  None  None  None  None  \n59     050721  ...       R  V*02  None  None  None  None  None  None  None  \n75     050721  ...       R  V*00  None  None  None  None  None  None  None  \n...       ...  ... ..  ...   ...   ...   ...   ...   ...   ...   ...   ...  \n68130  050721  ...       R  V*09  None  None  None  None  None  None  None  \n68149  050721  ...       R  V*0E  None  None  None  None  None  None  None  \n68168  050721  ...       R  V*08  None  None  None  None  None  None  None  \n68187  050721  ...       R  V*0D  None  None  None  None  None  None  None  \n68206  050721  ...       R  V*0F  None  None  None  None  None  None  None  \n\n[3953 rows x 21 columns]",
      "text/html": "<div>\n<style scoped>\n    .dataframe tbody tr th:only-of-type {\n        vertical-align: middle;\n    }\n\n    .dataframe tbody tr th {\n        vertical-align: top;\n    }\n\n    .dataframe thead th {\n        text-align: right;\n    }\n</style>\n<table border=\"1\" class=\"dataframe\">\n  <thead>\n    <tr style=\"text-align: right;\">\n      <th></th>\n      <th>ID</th>\n      <th>time</th>\n      <th>de</th>\n      <th>lat</th>\n      <th>4</th>\n      <th>lon</th>\n      <th>6</th>\n      <th>knot</th>\n      <th>8</th>\n      <th>date</th>\n      <th>...</th>\n      <th>11</th>\n      <th>mode</th>\n      <th>13</th>\n      <th>14</th>\n      <th>15</th>\n      <th>16</th>\n      <th>17</th>\n      <th>18</th>\n      <th>19</th>\n      <th>20</th>\n    </tr>\n  </thead>\n  <tbody>\n    <tr>\n      <th>11</th>\n      <td>$GNRMC</td>\n      <td>005959.88</td>\n      <td>A</td>\n      <td>3511.0128890</td>\n      <td>N</td>\n      <td>13707.1113739</td>\n      <td>E</td>\n      <td>0.071</td>\n      <td></td>\n      <td>050721</td>\n      <td>...</td>\n      <td></td>\n      <td>R</td>\n      <td>V*01</td>\n      <td>None</td>\n      <td>None</td>\n      <td>None</td>\n      <td>None</td>\n      <td>None</td>\n      <td>None</td>\n      <td>None</td>\n    </tr>\n    <tr>\n      <th>27</th>\n      <td>$GNRMC</td>\n      <td>010000.00</td>\n      <td>A</td>\n      <td>3511.0128878</td>\n      <td>N</td>\n      <td>13707.1113731</td>\n      <td>E</td>\n      <td>0.048</td>\n      <td></td>\n      <td>050721</td>\n      <td>...</td>\n      <td></td>\n      <td>R</td>\n      <td>V*04</td>\n      <td>None</td>\n      <td>None</td>\n      <td>None</td>\n      <td>None</td>\n      <td>None</td>\n      <td>None</td>\n      <td>None</td>\n    </tr>\n    <tr>\n      <th>43</th>\n      <td>$GNRMC</td>\n      <td>010000.13</td>\n      <td>A</td>\n      <td>3511.0128907</td>\n      <td>N</td>\n      <td>13707.1113732</td>\n      <td>E</td>\n      <td>0.048</td>\n      <td></td>\n      <td>050721</td>\n      <td>...</td>\n      <td></td>\n      <td>R</td>\n      <td>V*0C</td>\n      <td>None</td>\n      <td>None</td>\n      <td>None</td>\n      <td>None</td>\n      <td>None</td>\n      <td>None</td>\n      <td>None</td>\n    </tr>\n    <tr>\n      <th>59</th>\n      <td>$GNRMC</td>\n      <td>010000.25</td>\n      <td>A</td>\n      <td>3511.0128898</td>\n      <td>N</td>\n      <td>13707.1113735</td>\n      <td>E</td>\n      <td>0.043</td>\n      <td></td>\n      <td>050721</td>\n      <td>...</td>\n      <td></td>\n      <td>R</td>\n      <td>V*02</td>\n      <td>None</td>\n      <td>None</td>\n      <td>None</td>\n      <td>None</td>\n      <td>None</td>\n      <td>None</td>\n      <td>None</td>\n    </tr>\n    <tr>\n      <th>75</th>\n      <td>$GNRMC</td>\n      <td>010000.38</td>\n      <td>A</td>\n      <td>3511.0128892</td>\n      <td>N</td>\n      <td>13707.1113735</td>\n      <td>E</td>\n      <td>0.030</td>\n      <td></td>\n      <td>050721</td>\n      <td>...</td>\n      <td></td>\n      <td>R</td>\n      <td>V*00</td>\n      <td>None</td>\n      <td>None</td>\n      <td>None</td>\n      <td>None</td>\n      <td>None</td>\n      <td>None</td>\n      <td>None</td>\n    </tr>\n    <tr>\n      <th>...</th>\n      <td>...</td>\n      <td>...</td>\n      <td>...</td>\n      <td>...</td>\n      <td>...</td>\n      <td>...</td>\n      <td>...</td>\n      <td>...</td>\n      <td>...</td>\n      <td>...</td>\n      <td>...</td>\n      <td>...</td>\n      <td>...</td>\n      <td>...</td>\n      <td>...</td>\n      <td>...</td>\n      <td>...</td>\n      <td>...</td>\n      <td>...</td>\n      <td>...</td>\n      <td>...</td>\n    </tr>\n    <tr>\n      <th>68130</th>\n      <td>$GNRMC</td>\n      <td>010834.38</td>\n      <td>A</td>\n      <td>3511.0129030</td>\n      <td>N</td>\n      <td>13707.1113436</td>\n      <td>E</td>\n      <td>0.015</td>\n      <td></td>\n      <td>050721</td>\n      <td>...</td>\n      <td></td>\n      <td>R</td>\n      <td>V*09</td>\n      <td>None</td>\n      <td>None</td>\n      <td>None</td>\n      <td>None</td>\n      <td>None</td>\n      <td>None</td>\n      <td>None</td>\n    </tr>\n    <tr>\n      <th>68149</th>\n      <td>$GNRMC</td>\n      <td>010834.50</td>\n      <td>A</td>\n      <td>3511.0129025</td>\n      <td>N</td>\n      <td>13707.1113439</td>\n      <td>E</td>\n      <td>0.024</td>\n      <td></td>\n      <td>050721</td>\n      <td>...</td>\n      <td></td>\n      <td>R</td>\n      <td>V*0E</td>\n      <td>None</td>\n      <td>None</td>\n      <td>None</td>\n      <td>None</td>\n      <td>None</td>\n      <td>None</td>\n      <td>None</td>\n    </tr>\n    <tr>\n      <th>68168</th>\n      <td>$GNRMC</td>\n      <td>010834.63</td>\n      <td>A</td>\n      <td>3511.0129041</td>\n      <td>N</td>\n      <td>13707.1113448</td>\n      <td>E</td>\n      <td>0.015</td>\n      <td></td>\n      <td>050721</td>\n      <td>...</td>\n      <td></td>\n      <td>R</td>\n      <td>V*08</td>\n      <td>None</td>\n      <td>None</td>\n      <td>None</td>\n      <td>None</td>\n      <td>None</td>\n      <td>None</td>\n      <td>None</td>\n    </tr>\n    <tr>\n      <th>68187</th>\n      <td>$GNRMC</td>\n      <td>010834.75</td>\n      <td>A</td>\n      <td>3511.0129040</td>\n      <td>N</td>\n      <td>13707.1113448</td>\n      <td>E</td>\n      <td>0.025</td>\n      <td></td>\n      <td>050721</td>\n      <td>...</td>\n      <td></td>\n      <td>R</td>\n      <td>V*0D</td>\n      <td>None</td>\n      <td>None</td>\n      <td>None</td>\n      <td>None</td>\n      <td>None</td>\n      <td>None</td>\n      <td>None</td>\n    </tr>\n    <tr>\n      <th>68206</th>\n      <td>$GNRMC</td>\n      <td>010834.88</td>\n      <td>A</td>\n      <td>3511.0129026</td>\n      <td>N</td>\n      <td>13707.1113445</td>\n      <td>E</td>\n      <td>0.039</td>\n      <td></td>\n      <td>050721</td>\n      <td>...</td>\n      <td></td>\n      <td>R</td>\n      <td>V*0F</td>\n      <td>None</td>\n      <td>None</td>\n      <td>None</td>\n      <td>None</td>\n      <td>None</td>\n      <td>None</td>\n      <td>None</td>\n    </tr>\n  </tbody>\n</table>\n<p>3953 rows × 21 columns</p>\n</div>"
     },
     "execution_count": 26,
     "metadata": {},
     "output_type": "execute_result"
    }
   ],
   "source": [
    "df_gnrmc=df.query('ID in [\"$GNRMC\"]')\n",
    "df_gnrmc"
   ],
   "metadata": {
    "collapsed": false,
    "pycharm": {
     "name": "#%%\n"
    }
   }
  },
  {
   "cell_type": "code",
   "execution_count": 28,
   "outputs": [
    {
     "data": {
      "text/plain": "                lat            lon\n11     3511.0128890  13707.1113739\n27     3511.0128878  13707.1113731\n43     3511.0128907  13707.1113732\n59     3511.0128898  13707.1113735\n75     3511.0128892  13707.1113735\n...             ...            ...\n68130  3511.0129030  13707.1113436\n68149  3511.0129025  13707.1113439\n68168  3511.0129041  13707.1113448\n68187  3511.0129040  13707.1113448\n68206  3511.0129026  13707.1113445\n\n[3953 rows x 2 columns]",
      "text/html": "<div>\n<style scoped>\n    .dataframe tbody tr th:only-of-type {\n        vertical-align: middle;\n    }\n\n    .dataframe tbody tr th {\n        vertical-align: top;\n    }\n\n    .dataframe thead th {\n        text-align: right;\n    }\n</style>\n<table border=\"1\" class=\"dataframe\">\n  <thead>\n    <tr style=\"text-align: right;\">\n      <th></th>\n      <th>lat</th>\n      <th>lon</th>\n    </tr>\n  </thead>\n  <tbody>\n    <tr>\n      <th>11</th>\n      <td>3511.0128890</td>\n      <td>13707.1113739</td>\n    </tr>\n    <tr>\n      <th>27</th>\n      <td>3511.0128878</td>\n      <td>13707.1113731</td>\n    </tr>\n    <tr>\n      <th>43</th>\n      <td>3511.0128907</td>\n      <td>13707.1113732</td>\n    </tr>\n    <tr>\n      <th>59</th>\n      <td>3511.0128898</td>\n      <td>13707.1113735</td>\n    </tr>\n    <tr>\n      <th>75</th>\n      <td>3511.0128892</td>\n      <td>13707.1113735</td>\n    </tr>\n    <tr>\n      <th>...</th>\n      <td>...</td>\n      <td>...</td>\n    </tr>\n    <tr>\n      <th>68130</th>\n      <td>3511.0129030</td>\n      <td>13707.1113436</td>\n    </tr>\n    <tr>\n      <th>68149</th>\n      <td>3511.0129025</td>\n      <td>13707.1113439</td>\n    </tr>\n    <tr>\n      <th>68168</th>\n      <td>3511.0129041</td>\n      <td>13707.1113448</td>\n    </tr>\n    <tr>\n      <th>68187</th>\n      <td>3511.0129040</td>\n      <td>13707.1113448</td>\n    </tr>\n    <tr>\n      <th>68206</th>\n      <td>3511.0129026</td>\n      <td>13707.1113445</td>\n    </tr>\n  </tbody>\n</table>\n<p>3953 rows × 2 columns</p>\n</div>"
     },
     "execution_count": 28,
     "metadata": {},
     "output_type": "execute_result"
    }
   ],
   "source": [
    "df_gnrmc_ll=df_gnrmc.filter(items=['lat','lon'])\n",
    "df_gnrmc_ll"
   ],
   "metadata": {
    "collapsed": false,
    "pycharm": {
     "name": "#%%\n"
    }
   }
  },
  {
   "cell_type": "code",
   "execution_count": 29,
   "outputs": [
    {
     "data": {
      "text/plain": "               lat            lon\n0     3511.0128890  13707.1113739\n1     3511.0128878  13707.1113731\n2     3511.0128907  13707.1113732\n3     3511.0128898  13707.1113735\n4     3511.0128892  13707.1113735\n...            ...            ...\n3948  3511.0129030  13707.1113436\n3949  3511.0129025  13707.1113439\n3950  3511.0129041  13707.1113448\n3951  3511.0129040  13707.1113448\n3952  3511.0129026  13707.1113445\n\n[3953 rows x 2 columns]",
      "text/html": "<div>\n<style scoped>\n    .dataframe tbody tr th:only-of-type {\n        vertical-align: middle;\n    }\n\n    .dataframe tbody tr th {\n        vertical-align: top;\n    }\n\n    .dataframe thead th {\n        text-align: right;\n    }\n</style>\n<table border=\"1\" class=\"dataframe\">\n  <thead>\n    <tr style=\"text-align: right;\">\n      <th></th>\n      <th>lat</th>\n      <th>lon</th>\n    </tr>\n  </thead>\n  <tbody>\n    <tr>\n      <th>0</th>\n      <td>3511.0128890</td>\n      <td>13707.1113739</td>\n    </tr>\n    <tr>\n      <th>1</th>\n      <td>3511.0128878</td>\n      <td>13707.1113731</td>\n    </tr>\n    <tr>\n      <th>2</th>\n      <td>3511.0128907</td>\n      <td>13707.1113732</td>\n    </tr>\n    <tr>\n      <th>3</th>\n      <td>3511.0128898</td>\n      <td>13707.1113735</td>\n    </tr>\n    <tr>\n      <th>4</th>\n      <td>3511.0128892</td>\n      <td>13707.1113735</td>\n    </tr>\n    <tr>\n      <th>...</th>\n      <td>...</td>\n      <td>...</td>\n    </tr>\n    <tr>\n      <th>3948</th>\n      <td>3511.0129030</td>\n      <td>13707.1113436</td>\n    </tr>\n    <tr>\n      <th>3949</th>\n      <td>3511.0129025</td>\n      <td>13707.1113439</td>\n    </tr>\n    <tr>\n      <th>3950</th>\n      <td>3511.0129041</td>\n      <td>13707.1113448</td>\n    </tr>\n    <tr>\n      <th>3951</th>\n      <td>3511.0129040</td>\n      <td>13707.1113448</td>\n    </tr>\n    <tr>\n      <th>3952</th>\n      <td>3511.0129026</td>\n      <td>13707.1113445</td>\n    </tr>\n  </tbody>\n</table>\n<p>3953 rows × 2 columns</p>\n</div>"
     },
     "execution_count": 29,
     "metadata": {},
     "output_type": "execute_result"
    }
   ],
   "source": [
    "df_gnrmc_ll = df_gnrmc_ll.reset_index(drop=True)\n",
    "df_gnrmc_ll"
   ],
   "metadata": {
    "collapsed": false,
    "pycharm": {
     "name": "#%%\n"
    }
   }
  },
  {
   "cell_type": "markdown",
   "source": [
    "# ここでnumpy化します"
   ],
   "metadata": {
    "collapsed": false,
    "pycharm": {
     "name": "#%% md\n"
    }
   }
  },
  {
   "cell_type": "code",
   "execution_count": 46,
   "outputs": [
    {
     "data": {
      "text/plain": "array([['3511.0128890', '13707.1113739'],\n       ['3511.0128878', '13707.1113731'],\n       ['3511.0128907', '13707.1113732'],\n       ...,\n       ['3511.0129041', '13707.1113448'],\n       ['3511.0129040', '13707.1113448'],\n       ['3511.0129026', '13707.1113445']], dtype=object)"
     },
     "execution_count": 46,
     "metadata": {},
     "output_type": "execute_result"
    }
   ],
   "source": [
    "df_gnrmc_ll_np=df_gnrmc_ll.values\n",
    "df_gnrmc_ll_np"
   ],
   "metadata": {
    "collapsed": false,
    "pycharm": {
     "name": "#%%\n"
    }
   }
  },
  {
   "cell_type": "code",
   "execution_count": 47,
   "outputs": [
    {
     "data": {
      "text/plain": "numpy.ndarray"
     },
     "execution_count": 47,
     "metadata": {},
     "output_type": "execute_result"
    }
   ],
   "source": [
    "type(df_gnrmc_ll_np)\n",
    "# df_gnrmc_ls"
   ],
   "metadata": {
    "collapsed": false,
    "pycharm": {
     "name": "#%%\n"
    }
   }
  },
  {
   "cell_type": "code",
   "execution_count": 44,
   "outputs": [
    {
     "data": {
      "text/plain": "int"
     },
     "execution_count": 44,
     "metadata": {},
     "output_type": "execute_result"
    }
   ],
   "source": [
    "a=10\n",
    "a\n",
    "type(a)"
   ],
   "metadata": {
    "collapsed": false,
    "pycharm": {
     "name": "#%%\n"
    }
   }
  },
  {
   "cell_type": "code",
   "execution_count": 48,
   "outputs": [
    {
     "ename": "TypeError",
     "evalue": "can only concatenate str (not \"int\") to str",
     "output_type": "error",
     "traceback": [
      "\u001B[1;31m---------------------------------------------------------------------------\u001B[0m",
      "\u001B[1;31mTypeError\u001B[0m                                 Traceback (most recent call last)",
      "\u001B[1;32m<ipython-input-48-737991f49fd8>\u001B[0m in \u001B[0;36m<module>\u001B[1;34m\u001B[0m\n\u001B[1;32m----> 1\u001B[1;33m \u001B[0mdf_gnrmc_ll_np\u001B[0m \u001B[1;33m+\u001B[0m \u001B[1;36m10\u001B[0m\u001B[1;33m\u001B[0m\u001B[1;33m\u001B[0m\u001B[0m\n\u001B[0m\u001B[0;32m      2\u001B[0m \u001B[1;33m\u001B[0m\u001B[0m\n",
      "\u001B[1;31mTypeError\u001B[0m: can only concatenate str (not \"int\") to str"
     ]
    }
   ],
   "source": [
    "df_gnrmc_ll_np + 10"
   ],
   "metadata": {
    "collapsed": false,
    "pycharm": {
     "name": "#%%\n"
    }
   }
  },
  {
   "cell_type": "code",
   "execution_count": 34,
   "outputs": [
    {
     "ename": "TypeError",
     "evalue": "only size-1 arrays can be converted to Python scalars",
     "output_type": "error",
     "traceback": [
      "\u001B[1;31m---------------------------------------------------------------------------\u001B[0m",
      "\u001B[1;31mTypeError\u001B[0m                                 Traceback (most recent call last)",
      "\u001B[1;32m<ipython-input-34-a88d90e530a8>\u001B[0m in \u001B[0;36m<module>\u001B[1;34m\u001B[0m\n\u001B[1;32m----> 1\u001B[1;33m \u001B[0mlat_int\u001B[0m\u001B[1;33m=\u001B[0m\u001B[0mint\u001B[0m\u001B[1;33m(\u001B[0m\u001B[0mdf_gnrmc_ls\u001B[0m\u001B[1;33m[\u001B[0m\u001B[1;33m:\u001B[0m\u001B[1;33m,\u001B[0m\u001B[1;36m1\u001B[0m\u001B[1;33m]\u001B[0m\u001B[1;33m)\u001B[0m\u001B[1;33m\u001B[0m\u001B[1;33m\u001B[0m\u001B[0m\n\u001B[0m\u001B[0;32m      2\u001B[0m \u001B[1;33m\u001B[0m\u001B[0m\n",
      "\u001B[1;31mTypeError\u001B[0m: only size-1 arrays can be converted to Python scalars"
     ]
    }
   ],
   "source": [
    "lat_int=df_gnrmc_ls[:,1])"
   ],
   "metadata": {
    "collapsed": false,
    "pycharm": {
     "name": "#%%\n"
    }
   }
  },
  {
   "cell_type": "code",
   "execution_count": null,
   "outputs": [],
   "source": [
    "# df.query('cols in [\"GG1\",\"GG2\"]')\n",
    "# df.query('ID in [\"GG1\",\"GG2\"]').to_csv(out_file,header=False, index=False)\n",
    "df.query('ID in [\"$GNRMC\"]').to_csv(out_file,header=False, index=False)\n",
    "# df[df[0].str.contains(id)].to_csv(out_file,header=False, index=False)"
   ],
   "metadata": {
    "collapsed": false,
    "pycharm": {
     "name": "#%%\n"
    }
   }
  },
  {
   "cell_type": "markdown",
   "source": [
    "FIN\n",
    "%%%%%%%%%%%%%%%%%%%%%%%%%%%%%%%%%%%%%%%%%%%%%"
   ],
   "metadata": {
    "collapsed": false,
    "pycharm": {
     "name": "#%% md\n"
    }
   }
  },
  {
   "cell_type": "markdown",
   "source": [
    "# 灯台下暗し\n",
    "# 欲しい列だけ指定\n",
    "df_gnrmc=df_gnrmc.drop(df_gnrmc.columns[[0,1,2,4,6,7,8,9,10,11,12,13,14,15,16,17,18,19,20]], axis=1)\n",
    "# concatenated_df=concatenated_df.drop(concatenated_df.columns[[0,1,2,4,5,6,7,8,9,10,11,12,13,14,15,16,20,21,22,23,24,25,26,27,28,29,30,31]], axis=1)\n"
   ],
   "metadata": {
    "collapsed": false
   }
  },
  {
   "cell_type": "code",
   "execution_count": null,
   "outputs": [],
   "source": [
    "# concatenate horizontally"
   ],
   "metadata": {
    "collapsed": false,
    "pycharm": {
     "name": "#%%\n"
    }
   }
  },
  {
   "cell_type": "markdown",
   "source": [
    "# id='GNRMC'\n",
    "id=\"GG1|GG2\"\n"
   ],
   "metadata": {
    "collapsed": false,
    "pycharm": {
     "name": "#%% md\n"
    }
   }
  },
  {
   "cell_type": "markdown",
   "source": [
    "df"
   ],
   "metadata": {
    "collapsed": false,
    "pycharm": {
     "name": "#%% md\n"
    }
   }
  },
  {
   "cell_type": "markdown",
   "source": [
    "# oi=df.iloc[0]\n",
    "# print(oi)\n",
    "oi2=df.iloc[:,1]\n",
    "print(oi2)"
   ],
   "metadata": {
    "collapsed": false,
    "pycharm": {
     "name": "#%% md\n"
    }
   }
  },
  {
   "cell_type": "markdown",
   "source": [
    "# print(df[0].str.contains('$GNRMC'))\n",
    "# df[0].str.contains('GNRMC')\n",
    "df[0].str.contains(id)\n"
   ],
   "metadata": {
    "collapsed": false,
    "pycharm": {
     "name": "#%% md\n"
    }
   }
  },
  {
   "cell_type": "markdown",
   "source": [
    "\n",
    "# df[df[0].str.contains('GNRMC')].to_csv(\"2021-07-05_10_GNRMC.csv\",header=False, index=False)\n",
    "df[df[0].str.contains(id)].to_csv(out_file,header=False, index=False)"
   ],
   "metadata": {
    "collapsed": false,
    "pycharm": {
     "name": "#%% md\n"
    }
   }
  },
  {
   "cell_type": "markdown",
   "source": [
    "##################################################################\n",
    "#################################\n",
    "FIN"
   ],
   "metadata": {
    "collapsed": false
   }
  },
  {
   "cell_type": "markdown",
   "source": [
    "pd.options.display.max_rows = None\n",
    "pd.options.display.max_columns = None"
   ],
   "metadata": {
    "collapsed": false,
    "pycharm": {
     "name": "#%% md\n"
    }
   }
  },
  {
   "cell_type": "markdown",
   "source": [
    "# df = pd.read_csv('2021-07-04_16.csv', index_col=0)\n",
    "# df = pd.read_csv('2021-07-04_16.csv')\n",
    "df = pd.read_csv('2021-07-04_16.csv', header=None)\n",
    "print(df)"
   ],
   "metadata": {
    "collapsed": false,
    "pycharm": {
     "name": "#%% md\n"
    }
   }
  },
  {
   "cell_type": "markdown",
   "source": [
    "csvfile = '2021-07-05_07.nmea'\n",
    "f = open(csvfile, \"r\")\n",
    "reader = csv.reader(f)\n",
    "# header = next(reader)"
   ],
   "metadata": {
    "collapsed": false,
    "pycharm": {
     "name": "#%% md\n"
    }
   }
  },
  {
   "cell_type": "markdown",
   "source": [
    "for row in reader:\n",
    "        print(row)\n",
    "\n",
    "f.close()\n"
   ],
   "metadata": {
    "collapsed": false,
    "pycharm": {
     "name": "#%% md\n"
    }
   }
  },
  {
   "cell_type": "markdown",
   "source": [
    "# df[0].isin([GNRMC])\n"
   ],
   "metadata": {
    "collapsed": false,
    "pycharm": {
     "name": "#%% md\n"
    }
   }
  },
  {
   "cell_type": "markdown",
   "source": [
    "df.to_csv(\"GNRMMC_1.csv\")"
   ],
   "metadata": {
    "collapsed": false,
    "pycharm": {
     "name": "#%% md\n"
    }
   }
  },
  {
   "cell_type": "markdown",
   "source": [
    "type(kore)"
   ],
   "metadata": {
    "collapsed": false,
    "pycharm": {
     "name": "#%% md\n"
    }
   }
  },
  {
   "cell_type": "markdown",
   "source": [
    "print(df[df[0].str.contains('$GNRMC')])"
   ],
   "metadata": {
    "collapsed": false,
    "pycharm": {
     "name": "#%% md\n"
    }
   }
  },
  {
   "cell_type": "markdown",
   "source": [
    "df.iloc[5]"
   ],
   "metadata": {
    "collapsed": false,
    "pycharm": {
     "name": "#%% md\n"
    }
   }
  },
  {
   "cell_type": "markdown",
   "source": [
    "df.loc[\"$GNRMC\"]\n",
    "\n",
    "\n"
   ],
   "metadata": {
    "collapsed": false,
    "pycharm": {
     "name": "#%% md\n"
    }
   }
  }
 ],
 "metadata": {
  "kernelspec": {
   "display_name": "Python 3",
   "language": "python",
   "name": "python3"
  },
  "language_info": {
   "codemirror_mode": {
    "name": "ipython",
    "version": 2
   },
   "file_extension": ".py",
   "mimetype": "text/x-python",
   "name": "python",
   "nbconvert_exporter": "python",
   "pygments_lexer": "ipython2",
   "version": "2.7.6"
  }
 },
 "nbformat": 4,
 "nbformat_minor": 0
}