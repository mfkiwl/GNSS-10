{
 "cells": [
  {
   "cell_type": "code",
   "execution_count": 36,
   "outputs": [],
   "source": [
    "%reset"
   ],
   "metadata": {
    "collapsed": false,
    "pycharm": {
     "name": "#%%\n"
    }
   }
  },
  {
   "cell_type": "code",
   "execution_count": 3,
   "outputs": [
    {
     "data": {
      "text/plain": "'C:\\\\Users\\\\survey\\\\Dropbox\\\\My PC (SURVEY-C20)\\\\Documents\\\\GitHub\\\\GNSS'"
     },
     "execution_count": 3,
     "metadata": {},
     "output_type": "execute_result"
    }
   ],
   "source": [
    "#check current directory\n",
    "\n",
    "%pwd"
   ],
   "metadata": {
    "collapsed": false,
    "pycharm": {
     "name": "#%%\n"
    }
   }
  },
  {
   "cell_type": "code",
   "execution_count": 4,
   "outputs": [
    {
     "name": "stdout",
     "output_type": "stream",
     "text": [
      "C:\\Users\\survey\\Desktop\\nmea20210705\n"
     ]
    }
   ],
   "source": [
    "#define working directroy\n",
    "%cd C:\\\\Users\\\\survey\\\\Desktop\\\\nmea20210705"
   ],
   "metadata": {
    "collapsed": false,
    "pycharm": {
     "name": "#%%\n"
    }
   }
  },
  {
   "cell_type": "code",
   "execution_count": 5,
   "outputs": [
    {
     "name": "stdout",
     "output_type": "stream",
     "text": [
      " ドライブ C のボリューム ラベルがありません。\n",
      " ボリューム シリアル番号は 3C86-6F6B です\n",
      "\n",
      " C:\\Users\\survey\\Desktop\\nmea20210705 のディレクトリ\n",
      "\n",
      "2021/07/06  22:22    <DIR>          .\n",
      "2021/07/09  17:37    <DIR>          ..\n",
      "2021/07/06  22:22    <DIR>          0705_AIT.files\n",
      "2021/07/06  22:22               106 0705_AIT.psx\n",
      "2021/07/05  07:59         7,903,806 2021-07-05_07.nmea\n",
      "2021/07/05  20:50           635,266 2021-07-05_07_GNRMC.csv\n",
      "2021/07/05  08:39        18,933,471 2021-07-05_08.nmea\n",
      "2021/07/05  20:56         1,578,885 2021-07-05_08_GNRMC.csv\n",
      "2021/07/05  09:59        28,176,658 2021-07-05_09.nmea\n",
      "2021/07/05  20:55         3,015,040 2021-07-05_09_GNRMC.csv\n",
      "2021/07/05  10:08         4,204,751 2021-07-05_10.nmea\n",
      "2021/07/05  20:56           320,193 2021-07-05_10_GNRMC.csv\n",
      "2021/07/05  21:11    <DIR>          divide\n",
      "2021/07/04  21:01        17,377,982 GX010001.MP4\n",
      "2021/07/04  21:01            16,298 GX010001.THM\n",
      "2021/07/04  21:09     1,093,405,191 GX010002.MP4\n",
      "2021/07/04  21:08            16,431 GX010002.THM\n",
      "2021/07/04  21:15     4,010,835,166 GX010003.MP4\n",
      "2021/07/04  21:09            16,059 GX010003.THM\n",
      "2021/07/04  21:20     4,010,479,534 GX020003.MP4\n",
      "2021/07/04  21:15            16,328 GX020003.THM\n",
      "2021/07/04  21:25     4,010,345,062 GX030003.MP4\n",
      "2021/07/04  21:20            17,997 GX030003.THM\n",
      "2021/07/04  21:31     4,011,289,781 GX040003.MP4\n",
      "2021/07/04  21:25            18,008 GX040003.THM\n",
      "2021/07/04  21:36     4,010,889,388 GX050003.MP4\n",
      "2021/07/04  21:31            17,028 GX050003.THM\n",
      "2021/07/04  21:42     4,010,907,492 GX060003.MP4\n",
      "2021/07/04  21:36            14,071 GX060003.THM\n",
      "2021/07/04  21:47     4,010,207,789 GX070003.MP4\n",
      "2021/07/04  21:42            17,209 GX070003.THM\n",
      "2021/07/04  21:52     4,006,389,514 GX080003.MP4\n",
      "2021/07/04  21:47            16,081 GX080003.THM\n",
      "2021/07/04  21:59     4,003,852,657 GX090003.MP4\n",
      "2021/07/04  21:52            16,366 GX090003.THM\n",
      "2021/07/04  22:04     4,000,496,849 GX100003.MP4\n",
      "2021/07/04  21:59            15,246 GX100003.THM\n",
      "2021/07/04  22:08     3,239,454,049 GX110003.MP4\n",
      "2021/07/04  22:04            16,790 GX110003.THM\n",
      "              35 個のファイル      44,500,912,542 バイト\n",
      "               4 個のディレクトリ  1,049,446,014,976 バイトの空き領域\n"
     ]
    }
   ],
   "source": [
    "#check files\n",
    "\n",
    "%ls"
   ],
   "metadata": {
    "collapsed": false,
    "pycharm": {
     "name": "#%%\n"
    }
   }
  },
  {
   "cell_type": "code",
   "execution_count": 6,
   "outputs": [],
   "source": [
    "import pandas as pd\n",
    "import csv"
   ],
   "metadata": {
    "collapsed": false,
    "pycharm": {
     "name": "#%%\n"
    }
   }
  },
  {
   "cell_type": "code",
   "execution_count": 7,
   "outputs": [],
   "source": [
    "inp_file=\"2021-07-05_10.nmea\""
   ],
   "metadata": {
    "collapsed": false,
    "pycharm": {
     "name": "#%%\n"
    }
   }
  },
  {
   "cell_type": "code",
   "execution_count": 8,
   "outputs": [],
   "source": [
    "# with open(\"2021-07-05_10.nmea\", \"r\", encoding=\"UTF-8\", errors=\"\", newline=\"\" ) as f:\n",
    "with open(inp_file, \"r\", encoding=\"UTF-8\", errors=\"\", newline=\"\" ) as f:\n",
    "    lst = csv.reader(f, delimiter=\",\")\n",
    "    df = pd.DataFrame(lst)"
   ],
   "metadata": {
    "collapsed": false,
    "pycharm": {
     "name": "#%%\n"
    }
   }
  },
  {
   "cell_type": "code",
   "execution_count": 9,
   "outputs": [],
   "source": [
    "id='GNRMC'"
   ],
   "metadata": {
    "collapsed": false,
    "pycharm": {
     "name": "#%%\n"
    }
   }
  },
  {
   "cell_type": "code",
   "execution_count": 10,
   "outputs": [
    {
     "data": {
      "text/plain": "0        False\n1        False\n2        False\n3        False\n4        False\n         ...  \n68202    False\n68203    False\n68204    False\n68205    False\n68206     True\nName: 0, Length: 68207, dtype: bool"
     },
     "execution_count": 10,
     "metadata": {},
     "output_type": "execute_result"
    }
   ],
   "source": [
    "# print(df[0].str.contains('$GNRMC'))\n",
    "# df[0].str.contains('GNRMC')\n",
    "df[0].str.contains(id)"
   ],
   "metadata": {
    "collapsed": false,
    "pycharm": {
     "name": "#%%\n"
    }
   }
  },
  {
   "cell_type": "code",
   "execution_count": 12,
   "outputs": [],
   "source": [
    "out_file=\"2021-07-05_10_GNRMC_out_test.csv\"\n"
   ],
   "metadata": {
    "collapsed": false,
    "pycharm": {
     "name": "#%%\n"
    }
   }
  },
  {
   "cell_type": "code",
   "execution_count": 13,
   "outputs": [],
   "source": [
    "\n",
    "# df[df[0].str.contains('GNRMC')].to_csv(\"2021-07-05_10_GNRMC.csv\",header=False, index=False)\n",
    "df[df[0].str.contains(id)].to_csv(out_file,header=False, index=False)"
   ],
   "metadata": {
    "collapsed": false,
    "pycharm": {
     "name": "#%%\n"
    }
   }
  },
  {
   "cell_type": "markdown",
   "source": [
    "##################################################################\n",
    "#################################\n",
    "FIN"
   ],
   "metadata": {
    "collapsed": false
   }
  },
  {
   "cell_type": "markdown",
   "source": [
    "pd.options.display.max_rows = None\n",
    "pd.options.display.max_columns = None"
   ],
   "metadata": {
    "collapsed": false,
    "pycharm": {
     "name": "#%% md\n"
    }
   }
  },
  {
   "cell_type": "markdown",
   "source": [
    "# df = pd.read_csv('2021-07-04_16.csv', index_col=0)\n",
    "# df = pd.read_csv('2021-07-04_16.csv')\n",
    "df = pd.read_csv('2021-07-04_16.csv', header=None)\n",
    "print(df)"
   ],
   "metadata": {
    "collapsed": false,
    "pycharm": {
     "name": "#%% md\n"
    }
   }
  },
  {
   "cell_type": "markdown",
   "source": [
    "csvfile = '2021-07-05_07.nmea'\n",
    "f = open(csvfile, \"r\")\n",
    "reader = csv.reader(f)\n",
    "# header = next(reader)"
   ],
   "metadata": {
    "collapsed": false,
    "pycharm": {
     "name": "#%% md\n"
    }
   }
  },
  {
   "cell_type": "markdown",
   "source": [
    "for row in reader:\n",
    "        print(row)\n",
    "\n",
    "f.close()\n"
   ],
   "metadata": {
    "collapsed": false,
    "pycharm": {
     "name": "#%% md\n"
    }
   }
  },
  {
   "cell_type": "markdown",
   "source": [
    "# df[0].isin([GNRMC])\n",
    "\n",
    "\n",
    "\n",
    "\n"
   ],
   "metadata": {
    "collapsed": false,
    "pycharm": {
     "name": "#%% md\n"
    }
   }
  },
  {
   "cell_type": "markdown",
   "source": [
    "df.to_csv(\"GNRMMC_1.csv\")"
   ],
   "metadata": {
    "collapsed": false,
    "pycharm": {
     "name": "#%% md\n"
    }
   }
  },
  {
   "cell_type": "markdown",
   "source": [
    "type(kore)"
   ],
   "metadata": {
    "collapsed": false,
    "pycharm": {
     "name": "#%% md\n"
    }
   }
  },
  {
   "cell_type": "markdown",
   "source": [
    "print(df[df[0].str.contains('$GNRMC')])"
   ],
   "metadata": {
    "collapsed": false,
    "pycharm": {
     "name": "#%% md\n"
    }
   }
  },
  {
   "cell_type": "markdown",
   "source": [
    "df"
   ],
   "metadata": {
    "collapsed": false,
    "pycharm": {
     "name": "#%% md\n"
    }
   }
  },
  {
   "cell_type": "markdown",
   "source": [
    "df.iloc[5]"
   ],
   "metadata": {
    "collapsed": false,
    "pycharm": {
     "name": "#%% md\n"
    }
   }
  },
  {
   "cell_type": "markdown",
   "source": [
    "df.loc[\"$GNRMC\"]\n",
    "\n",
    "\n"
   ],
   "metadata": {
    "collapsed": false,
    "pycharm": {
     "name": "#%% md\n"
    }
   }
  }
 ],
 "metadata": {
  "kernelspec": {
   "display_name": "Python 3",
   "language": "python",
   "name": "python3"
  },
  "language_info": {
   "codemirror_mode": {
    "name": "ipython",
    "version": 2
   },
   "file_extension": ".py",
   "mimetype": "text/x-python",
   "name": "python",
   "nbconvert_exporter": "python",
   "pygments_lexer": "ipython2",
   "version": "2.7.6"
  }
 },
 "nbformat": 4,
 "nbformat_minor": 0
}